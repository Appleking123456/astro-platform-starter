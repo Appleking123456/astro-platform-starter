{
  "nbformat": 4,
  "nbformat_minor": 0,
  "metadata": {
    "colab": {
      "provenance": [],
      "authorship_tag": "ABX9TyPZ5o0JixWlwPm2x1DqLNyB",
      "include_colab_link": true
    },
    "kernelspec": {
      "name": "python3",
      "display_name": "Python 3"
    },
    "language_info": {
      "name": "python"
    }
  },
  "cells": [
    {
      "cell_type": "markdown",
      "metadata": {
        "id": "view-in-github",
        "colab_type": "text"
      },
      "source": [
        "<a href=\"https://colab.research.google.com/github/Appleking123456/astro-platform-starter/blob/main/Another_copy_of_Untitled23.ipynb\" target=\"_parent\"><img src=\"https://colab.research.google.com/assets/colab-badge.svg\" alt=\"Open In Colab\"/></a>"
      ]
    },
    {
      "cell_type": "code",
      "execution_count": null,
      "metadata": {
        "colab": {
          "base_uri": "https://localhost:8080/",
          "height": 1000
        },
        "id": "76vXvOore7zN",
        "outputId": "bf91d524-0c65-485a-a1ed-2a0c5801eeea"
      },
      "outputs": [
        {
          "output_type": "stream",
          "name": "stdout",
          "text": [
            "Starting RDT Simulation on device: cpu\n",
            "Tensor size: (4, 4, 4), Agent state_dim: 13\n"
          ]
        },
        {
          "output_type": "stream",
          "name": "stderr",
          "text": [
            "Episodes:   0%|          | 1/500 [00:03<27:35,  3.32s/it]"
          ]
        },
        {
          "output_type": "stream",
          "name": "stdout",
          "text": [
            "Episode 1/500 | Avg Why: 0.6214 | Avg Inconsistency: 0.5649 | Last Entanglement: 0.990 | Last Chaoticity: 0.800\n"
          ]
        },
        {
          "output_type": "stream",
          "name": "stderr",
          "text": [
            "Episodes:   0%|          | 2/500 [00:07<31:43,  3.82s/it]"
          ]
        },
        {
          "output_type": "stream",
          "name": "stdout",
          "text": [
            "Episode 2/500 | Avg Why: 0.5852 | Avg Inconsistency: 0.4542 | Last Entanglement: 0.990 | Last Chaoticity: 0.800\n"
          ]
        },
        {
          "output_type": "stream",
          "name": "stderr",
          "text": [
            "Episodes:   1%|          | 3/500 [00:10<29:15,  3.53s/it]"
          ]
        },
        {
          "output_type": "stream",
          "name": "stdout",
          "text": [
            "Episode 3/500 | Avg Why: 0.5920 | Avg Inconsistency: 0.5274 | Last Entanglement: 0.990 | Last Chaoticity: 0.800\n"
          ]
        },
        {
          "output_type": "stream",
          "name": "stderr",
          "text": [
            "Episodes:   1%|          | 4/500 [00:13<28:21,  3.43s/it]"
          ]
        },
        {
          "output_type": "stream",
          "name": "stdout",
          "text": [
            "Episode 4/500 | Avg Why: 0.5807 | Avg Inconsistency: 0.6320 | Last Entanglement: 0.990 | Last Chaoticity: 0.800\n"
          ]
        },
        {
          "output_type": "stream",
          "name": "stderr",
          "text": [
            "Episodes:   1%|          | 5/500 [00:16<27:08,  3.29s/it]"
          ]
        },
        {
          "output_type": "stream",
          "name": "stdout",
          "text": [
            "Episode 5/500 | Avg Why: 0.5726 | Avg Inconsistency: 0.6480 | Last Entanglement: 0.990 | Last Chaoticity: 0.800\n"
          ]
        },
        {
          "output_type": "stream",
          "name": "stderr",
          "text": [
            "Episodes:   1%|          | 6/500 [00:20<28:31,  3.47s/it]"
          ]
        },
        {
          "output_type": "stream",
          "name": "stdout",
          "text": [
            "Episode 6/500 | Avg Why: 0.5815 | Avg Inconsistency: 0.6398 | Last Entanglement: 0.990 | Last Chaoticity: 0.800\n"
          ]
        },
        {
          "output_type": "stream",
          "name": "stderr",
          "text": [
            "Episodes:   1%|▏         | 7/500 [00:23<27:24,  3.33s/it]"
          ]
        },
        {
          "output_type": "stream",
          "name": "stdout",
          "text": [
            "Episode 7/500 | Avg Why: 0.6001 | Avg Inconsistency: 0.5647 | Last Entanglement: 0.990 | Last Chaoticity: 0.800\n"
          ]
        },
        {
          "output_type": "stream",
          "name": "stderr",
          "text": [
            "Episodes:   2%|▏         | 8/500 [00:26<26:35,  3.24s/it]"
          ]
        },
        {
          "output_type": "stream",
          "name": "stdout",
          "text": [
            "Episode 8/500 | Avg Why: 0.5957 | Avg Inconsistency: 0.5240 | Last Entanglement: 0.990 | Last Chaoticity: 0.800\n"
          ]
        },
        {
          "output_type": "stream",
          "name": "stderr",
          "text": [
            "Episodes:   2%|▏         | 9/500 [00:30<26:20,  3.22s/it]"
          ]
        },
        {
          "output_type": "stream",
          "name": "stdout",
          "text": [
            "Episode 9/500 | Avg Why: 0.6228 | Avg Inconsistency: 0.5406 | Last Entanglement: 0.990 | Last Chaoticity: 0.800\n"
          ]
        },
        {
          "output_type": "stream",
          "name": "stderr",
          "text": [
            "Episodes:   2%|▏         | 10/500 [00:34<28:36,  3.50s/it]"
          ]
        },
        {
          "output_type": "stream",
          "name": "stdout",
          "text": [
            "Episode 10/500 | Avg Why: 0.6372 | Avg Inconsistency: 0.5521 | Last Entanglement: 0.990 | Last Chaoticity: 0.800\n"
          ]
        },
        {
          "output_type": "stream",
          "name": "stderr",
          "text": [
            "Episodes:   2%|▏         | 11/500 [00:37<28:15,  3.47s/it]"
          ]
        },
        {
          "output_type": "stream",
          "name": "stdout",
          "text": [
            "Episode 11/500 | Avg Why: 0.6445 | Avg Inconsistency: 0.6167 | Last Entanglement: 0.990 | Last Chaoticity: 0.800\n"
          ]
        },
        {
          "output_type": "stream",
          "name": "stderr",
          "text": [
            "Episodes:   2%|▏         | 12/500 [00:40<27:31,  3.38s/it]"
          ]
        },
        {
          "output_type": "stream",
          "name": "stdout",
          "text": [
            "Episode 12/500 | Avg Why: 0.6518 | Avg Inconsistency: 0.5829 | Last Entanglement: 0.990 | Last Chaoticity: 0.800\n"
          ]
        },
        {
          "output_type": "stream",
          "name": "stderr",
          "text": [
            "Episodes:   3%|▎         | 13/500 [00:44<27:38,  3.41s/it]"
          ]
        },
        {
          "output_type": "stream",
          "name": "stdout",
          "text": [
            "Episode 13/500 | Avg Why: 0.6552 | Avg Inconsistency: 0.5410 | Last Entanglement: 0.990 | Last Chaoticity: 0.800\n"
          ]
        },
        {
          "output_type": "stream",
          "name": "stderr",
          "text": [
            "Episodes:   3%|▎         | 14/500 [00:50<35:34,  4.39s/it]"
          ]
        },
        {
          "output_type": "stream",
          "name": "stdout",
          "text": [
            "Episode 14/500 | Avg Why: 0.6363 | Avg Inconsistency: 0.5361 | Last Entanglement: 0.990 | Last Chaoticity: 0.800\n"
          ]
        },
        {
          "output_type": "stream",
          "name": "stderr",
          "text": [
            "Episodes:   3%|▎         | 15/500 [00:54<33:05,  4.09s/it]"
          ]
        },
        {
          "output_type": "stream",
          "name": "stdout",
          "text": [
            "Episode 15/500 | Avg Why: 0.6314 | Avg Inconsistency: 0.5371 | Last Entanglement: 0.990 | Last Chaoticity: 0.800\n"
          ]
        },
        {
          "output_type": "stream",
          "name": "stderr",
          "text": [
            "Episodes:   3%|▎         | 16/500 [00:58<33:39,  4.17s/it]"
          ]
        },
        {
          "output_type": "stream",
          "name": "stdout",
          "text": [
            "Episode 16/500 | Avg Why: 0.6534 | Avg Inconsistency: 0.5931 | Last Entanglement: 0.990 | Last Chaoticity: 0.800\n"
          ]
        },
        {
          "output_type": "stream",
          "name": "stderr",
          "text": [
            "Episodes:   3%|▎         | 17/500 [01:02<31:31,  3.92s/it]"
          ]
        },
        {
          "output_type": "stream",
          "name": "stdout",
          "text": [
            "Episode 17/500 | Avg Why: 0.6615 | Avg Inconsistency: 0.6126 | Last Entanglement: 0.990 | Last Chaoticity: 0.800\n"
          ]
        },
        {
          "output_type": "stream",
          "name": "stderr",
          "text": [
            "Episodes:   4%|▎         | 18/500 [01:05<30:30,  3.80s/it]"
          ]
        },
        {
          "output_type": "stream",
          "name": "stdout",
          "text": [
            "Episode 18/500 | Avg Why: 0.6511 | Avg Inconsistency: 0.5597 | Last Entanglement: 0.990 | Last Chaoticity: 0.800\n"
          ]
        },
        {
          "output_type": "stream",
          "name": "stderr",
          "text": [
            "Episodes:   4%|▍         | 19/500 [01:08<29:12,  3.64s/it]"
          ]
        },
        {
          "output_type": "stream",
          "name": "stdout",
          "text": [
            "Episode 19/500 | Avg Why: 0.6422 | Avg Inconsistency: 0.5428 | Last Entanglement: 0.990 | Last Chaoticity: 0.800\n"
          ]
        },
        {
          "output_type": "stream",
          "name": "stderr",
          "text": [
            "Episodes:   4%|▍         | 20/500 [01:13<30:37,  3.83s/it]"
          ]
        },
        {
          "output_type": "stream",
          "name": "stdout",
          "text": [
            "Episode 20/500 | Avg Why: 0.6320 | Avg Inconsistency: 0.5445 | Last Entanglement: 0.990 | Last Chaoticity: 0.800\n"
          ]
        },
        {
          "output_type": "stream",
          "name": "stderr",
          "text": [
            "Episodes:   4%|▍         | 21/500 [01:16<29:33,  3.70s/it]"
          ]
        },
        {
          "output_type": "stream",
          "name": "stdout",
          "text": [
            "Episode 21/500 | Avg Why: 0.6478 | Avg Inconsistency: 0.5116 | Last Entanglement: 0.990 | Last Chaoticity: 0.800\n"
          ]
        },
        {
          "output_type": "stream",
          "name": "stderr",
          "text": [
            "Episodes:   4%|▍         | 22/500 [01:19<28:42,  3.60s/it]"
          ]
        },
        {
          "output_type": "stream",
          "name": "stdout",
          "text": [
            "Episode 22/500 | Avg Why: 0.6590 | Avg Inconsistency: 0.5072 | Last Entanglement: 0.990 | Last Chaoticity: 0.800\n"
          ]
        },
        {
          "output_type": "stream",
          "name": "stderr",
          "text": [
            "Episodes:   5%|▍         | 23/500 [01:23<29:50,  3.75s/it]"
          ]
        },
        {
          "output_type": "stream",
          "name": "stdout",
          "text": [
            "Episode 23/500 | Avg Why: 0.6899 | Avg Inconsistency: 0.5757 | Last Entanglement: 0.990 | Last Chaoticity: 0.800\n"
          ]
        },
        {
          "output_type": "stream",
          "name": "stderr",
          "text": [
            "Episodes:   5%|▍         | 24/500 [01:27<29:20,  3.70s/it]"
          ]
        },
        {
          "output_type": "stream",
          "name": "stdout",
          "text": [
            "Episode 24/500 | Avg Why: 0.6855 | Avg Inconsistency: 0.4942 | Last Entanglement: 0.990 | Last Chaoticity: 0.800\n"
          ]
        },
        {
          "output_type": "stream",
          "name": "stderr",
          "text": [
            "Episodes:   5%|▌         | 25/500 [01:30<28:13,  3.57s/it]"
          ]
        },
        {
          "output_type": "stream",
          "name": "stdout",
          "text": [
            "Episode 25/500 | Avg Why: 0.6723 | Avg Inconsistency: 0.5548 | Last Entanglement: 0.990 | Last Chaoticity: 0.800\n"
          ]
        },
        {
          "output_type": "stream",
          "name": "stderr",
          "text": [
            "Episodes:   5%|▌         | 26/500 [01:34<28:37,  3.62s/it]"
          ]
        },
        {
          "output_type": "stream",
          "name": "stdout",
          "text": [
            "Episode 26/500 | Avg Why: 0.6779 | Avg Inconsistency: 0.5757 | Last Entanglement: 0.990 | Last Chaoticity: 0.800\n"
          ]
        },
        {
          "output_type": "stream",
          "name": "stderr",
          "text": [
            "Episodes:   5%|▌         | 27/500 [01:38<29:19,  3.72s/it]"
          ]
        },
        {
          "output_type": "stream",
          "name": "stdout",
          "text": [
            "Episode 27/500 | Avg Why: 0.6652 | Avg Inconsistency: 0.5919 | Last Entanglement: 0.990 | Last Chaoticity: 0.800\n"
          ]
        },
        {
          "output_type": "stream",
          "name": "stderr",
          "text": [
            "Episodes:   6%|▌         | 28/500 [01:41<28:41,  3.65s/it]"
          ]
        },
        {
          "output_type": "stream",
          "name": "stdout",
          "text": [
            "Episode 28/500 | Avg Why: 0.6692 | Avg Inconsistency: 0.4219 | Last Entanglement: 0.990 | Last Chaoticity: 0.800\n"
          ]
        },
        {
          "output_type": "stream",
          "name": "stderr",
          "text": [
            "Episodes:   6%|▌         | 29/500 [01:45<27:59,  3.57s/it]"
          ]
        },
        {
          "output_type": "stream",
          "name": "stdout",
          "text": [
            "Episode 29/500 | Avg Why: 0.6550 | Avg Inconsistency: 0.4820 | Last Entanglement: 0.990 | Last Chaoticity: 0.800\n"
          ]
        },
        {
          "output_type": "stream",
          "name": "stderr",
          "text": [
            "Episodes:   6%|▌         | 30/500 [01:49<28:20,  3.62s/it]"
          ]
        },
        {
          "output_type": "stream",
          "name": "stdout",
          "text": [
            "Episode 30/500 | Avg Why: 0.6565 | Avg Inconsistency: 0.5166 | Last Entanglement: 0.990 | Last Chaoticity: 0.800\n"
          ]
        },
        {
          "output_type": "stream",
          "name": "stderr",
          "text": [
            "Episodes:   6%|▌         | 31/500 [01:52<27:33,  3.53s/it]"
          ]
        },
        {
          "output_type": "stream",
          "name": "stdout",
          "text": [
            "Episode 31/500 | Avg Why: 0.6666 | Avg Inconsistency: 0.5665 | Last Entanglement: 0.990 | Last Chaoticity: 0.800\n"
          ]
        },
        {
          "output_type": "stream",
          "name": "stderr",
          "text": [
            "Episodes:   6%|▋         | 32/500 [01:55<27:11,  3.49s/it]"
          ]
        },
        {
          "output_type": "stream",
          "name": "stdout",
          "text": [
            "Episode 32/500 | Avg Why: 0.6537 | Avg Inconsistency: 0.5997 | Last Entanglement: 0.990 | Last Chaoticity: 0.192\n"
          ]
        },
        {
          "output_type": "stream",
          "name": "stderr",
          "text": [
            "Episodes:   7%|▋         | 33/500 [01:59<27:27,  3.53s/it]"
          ]
        },
        {
          "output_type": "stream",
          "name": "stdout",
          "text": [
            "Episode 33/500 | Avg Why: 0.6605 | Avg Inconsistency: 0.4491 | Last Entanglement: 0.990 | Last Chaoticity: 0.800\n"
          ]
        },
        {
          "output_type": "stream",
          "name": "stderr",
          "text": [
            "Episodes:   7%|▋         | 34/500 [02:03<27:54,  3.59s/it]"
          ]
        },
        {
          "output_type": "stream",
          "name": "stdout",
          "text": [
            "Episode 34/500 | Avg Why: 0.6511 | Avg Inconsistency: 0.5251 | Last Entanglement: 0.990 | Last Chaoticity: 0.800\n"
          ]
        },
        {
          "output_type": "stream",
          "name": "stderr",
          "text": [
            "Episodes:   7%|▋         | 35/500 [02:06<27:36,  3.56s/it]"
          ]
        },
        {
          "output_type": "stream",
          "name": "stdout",
          "text": [
            "Episode 35/500 | Avg Why: 0.6524 | Avg Inconsistency: 0.5276 | Last Entanglement: 0.990 | Last Chaoticity: 0.800\n"
          ]
        },
        {
          "output_type": "stream",
          "name": "stderr",
          "text": [
            "Episodes:   7%|▋         | 36/500 [02:09<26:51,  3.47s/it]"
          ]
        },
        {
          "output_type": "stream",
          "name": "stdout",
          "text": [
            "Episode 36/500 | Avg Why: 0.6605 | Avg Inconsistency: 0.5806 | Last Entanglement: 0.990 | Last Chaoticity: 0.800\n"
          ]
        },
        {
          "output_type": "stream",
          "name": "stderr",
          "text": [
            "Episodes:   7%|▋         | 37/500 [02:13<27:27,  3.56s/it]"
          ]
        },
        {
          "output_type": "stream",
          "name": "stdout",
          "text": [
            "Episode 37/500 | Avg Why: 0.6635 | Avg Inconsistency: 0.5801 | Last Entanglement: 0.990 | Last Chaoticity: 0.800\n"
          ]
        },
        {
          "output_type": "stream",
          "name": "stderr",
          "text": [
            "Episodes:   8%|▊         | 38/500 [02:17<27:39,  3.59s/it]"
          ]
        },
        {
          "output_type": "stream",
          "name": "stdout",
          "text": [
            "Episode 38/500 | Avg Why: 0.6641 | Avg Inconsistency: 0.5499 | Last Entanglement: 0.990 | Last Chaoticity: 0.800\n"
          ]
        },
        {
          "output_type": "stream",
          "name": "stderr",
          "text": [
            "Episodes:   8%|▊         | 39/500 [02:20<26:43,  3.48s/it]"
          ]
        },
        {
          "output_type": "stream",
          "name": "stdout",
          "text": [
            "Episode 39/500 | Avg Why: 0.6588 | Avg Inconsistency: 0.5480 | Last Entanglement: 0.990 | Last Chaoticity: 0.800\n"
          ]
        },
        {
          "output_type": "stream",
          "name": "stderr",
          "text": [
            "Episodes:   8%|▊         | 40/500 [02:23<26:00,  3.39s/it]"
          ]
        },
        {
          "output_type": "stream",
          "name": "stdout",
          "text": [
            "Episode 40/500 | Avg Why: 0.6490 | Avg Inconsistency: 0.7621 | Last Entanglement: 0.990 | Last Chaoticity: 0.800\n"
          ]
        },
        {
          "output_type": "stream",
          "name": "stderr",
          "text": [
            "Episodes:   8%|▊         | 41/500 [02:27<27:19,  3.57s/it]"
          ]
        },
        {
          "output_type": "stream",
          "name": "stdout",
          "text": [
            "Episode 41/500 | Avg Why: 0.6690 | Avg Inconsistency: 0.6447 | Last Entanglement: 0.990 | Last Chaoticity: 0.800\n"
          ]
        },
        {
          "output_type": "stream",
          "name": "stderr",
          "text": [
            "Episodes:   8%|▊         | 42/500 [02:31<26:52,  3.52s/it]"
          ]
        },
        {
          "output_type": "stream",
          "name": "stdout",
          "text": [
            "Episode 42/500 | Avg Why: 0.6442 | Avg Inconsistency: 0.5876 | Last Entanglement: 0.990 | Last Chaoticity: 0.800\n"
          ]
        },
        {
          "output_type": "stream",
          "name": "stderr",
          "text": [
            "Episodes:   9%|▊         | 43/500 [02:34<26:45,  3.51s/it]"
          ]
        },
        {
          "output_type": "stream",
          "name": "stdout",
          "text": [
            "Episode 43/500 | Avg Why: 0.6494 | Avg Inconsistency: 0.5479 | Last Entanglement: 0.990 | Last Chaoticity: 0.800\n"
          ]
        },
        {
          "output_type": "stream",
          "name": "stderr",
          "text": [
            "Episodes:   9%|▉         | 44/500 [02:38<27:43,  3.65s/it]"
          ]
        },
        {
          "output_type": "stream",
          "name": "stdout",
          "text": [
            "Episode 44/500 | Avg Why: 0.6653 | Avg Inconsistency: 0.5730 | Last Entanglement: 0.990 | Last Chaoticity: 0.800\n"
          ]
        },
        {
          "output_type": "stream",
          "name": "stderr",
          "text": [
            "Episodes:   9%|▉         | 45/500 [02:42<28:12,  3.72s/it]"
          ]
        },
        {
          "output_type": "stream",
          "name": "stdout",
          "text": [
            "Episode 45/500 | Avg Why: 0.6568 | Avg Inconsistency: 0.4162 | Last Entanglement: 0.990 | Last Chaoticity: 0.800\n"
          ]
        },
        {
          "output_type": "stream",
          "name": "stderr",
          "text": [
            "Episodes:   9%|▉         | 46/500 [02:45<27:34,  3.65s/it]"
          ]
        },
        {
          "output_type": "stream",
          "name": "stdout",
          "text": [
            "Episode 46/500 | Avg Why: 0.6166 | Avg Inconsistency: 0.5583 | Last Entanglement: 0.990 | Last Chaoticity: 0.800\n"
          ]
        },
        {
          "output_type": "stream",
          "name": "stderr",
          "text": [
            "Episodes:   9%|▉         | 47/500 [02:49<26:52,  3.56s/it]"
          ]
        },
        {
          "output_type": "stream",
          "name": "stdout",
          "text": [
            "Episode 47/500 | Avg Why: 0.6384 | Avg Inconsistency: 0.5679 | Last Entanglement: 0.990 | Last Chaoticity: 0.800\n"
          ]
        },
        {
          "output_type": "stream",
          "name": "stderr",
          "text": [
            "Episodes:  10%|▉         | 48/500 [02:53<28:11,  3.74s/it]"
          ]
        },
        {
          "output_type": "stream",
          "name": "stdout",
          "text": [
            "Episode 48/500 | Avg Why: 0.6312 | Avg Inconsistency: 0.5781 | Last Entanglement: 0.990 | Last Chaoticity: 0.800\n"
          ]
        },
        {
          "output_type": "stream",
          "name": "stderr",
          "text": [
            "Episodes:  10%|▉         | 49/500 [02:56<27:30,  3.66s/it]"
          ]
        },
        {
          "output_type": "stream",
          "name": "stdout",
          "text": [
            "Episode 49/500 | Avg Why: 0.6352 | Avg Inconsistency: 0.5663 | Last Entanglement: 0.990 | Last Chaoticity: 0.800\n"
          ]
        },
        {
          "output_type": "stream",
          "name": "stderr",
          "text": [
            "Episodes:  10%|█         | 50/500 [03:00<26:11,  3.49s/it]"
          ]
        },
        {
          "output_type": "stream",
          "name": "stdout",
          "text": [
            "Episode 50/500 | Avg Why: 0.6397 | Avg Inconsistency: 0.5068 | Last Entanglement: 0.990 | Last Chaoticity: 0.800\n"
          ]
        },
        {
          "output_type": "stream",
          "name": "stderr",
          "text": [
            "Episodes:  10%|█         | 51/500 [03:03<26:13,  3.50s/it]"
          ]
        },
        {
          "output_type": "stream",
          "name": "stdout",
          "text": [
            "Episode 51/500 | Avg Why: 0.6441 | Avg Inconsistency: 0.6206 | Last Entanglement: 0.990 | Last Chaoticity: 0.800\n"
          ]
        },
        {
          "output_type": "stream",
          "name": "stderr",
          "text": [
            "Episodes:  10%|█         | 52/500 [03:07<26:56,  3.61s/it]"
          ]
        },
        {
          "output_type": "stream",
          "name": "stdout",
          "text": [
            "Episode 52/500 | Avg Why: 0.6526 | Avg Inconsistency: 0.4357 | Last Entanglement: 0.990 | Last Chaoticity: 0.800\n"
          ]
        },
        {
          "output_type": "stream",
          "name": "stderr",
          "text": [
            "Episodes:  11%|█         | 53/500 [03:10<26:18,  3.53s/it]"
          ]
        },
        {
          "output_type": "stream",
          "name": "stdout",
          "text": [
            "Episode 53/500 | Avg Why: 0.6343 | Avg Inconsistency: 0.5278 | Last Entanglement: 0.990 | Last Chaoticity: 0.800\n"
          ]
        },
        {
          "output_type": "stream",
          "name": "stderr",
          "text": [
            "Episodes:  11%|█         | 54/500 [03:14<26:03,  3.51s/it]"
          ]
        },
        {
          "output_type": "stream",
          "name": "stdout",
          "text": [
            "Episode 54/500 | Avg Why: 0.6743 | Avg Inconsistency: 0.4292 | Last Entanglement: 0.990 | Last Chaoticity: 0.800\n"
          ]
        },
        {
          "output_type": "stream",
          "name": "stderr",
          "text": [
            "Episodes:  11%|█         | 55/500 [03:18<27:34,  3.72s/it]"
          ]
        },
        {
          "output_type": "stream",
          "name": "stdout",
          "text": [
            "Episode 55/500 | Avg Why: 0.6550 | Avg Inconsistency: 0.6125 | Last Entanglement: 0.990 | Last Chaoticity: 0.800\n"
          ]
        },
        {
          "output_type": "stream",
          "name": "stderr",
          "text": [
            "Episodes:  11%|█         | 56/500 [03:21<27:07,  3.67s/it]"
          ]
        },
        {
          "output_type": "stream",
          "name": "stdout",
          "text": [
            "Episode 56/500 | Avg Why: 0.6669 | Avg Inconsistency: 0.5126 | Last Entanglement: 0.990 | Last Chaoticity: 0.800\n"
          ]
        },
        {
          "output_type": "stream",
          "name": "stderr",
          "text": [
            "Episodes:  11%|█▏        | 57/500 [03:25<26:08,  3.54s/it]"
          ]
        },
        {
          "output_type": "stream",
          "name": "stdout",
          "text": [
            "Episode 57/500 | Avg Why: 0.6644 | Avg Inconsistency: 0.4922 | Last Entanglement: 0.990 | Last Chaoticity: 0.034\n"
          ]
        },
        {
          "output_type": "stream",
          "name": "stderr",
          "text": [
            "Episodes:  12%|█▏        | 58/500 [03:28<26:09,  3.55s/it]"
          ]
        },
        {
          "output_type": "stream",
          "name": "stdout",
          "text": [
            "Episode 58/500 | Avg Why: 0.6432 | Avg Inconsistency: 0.5012 | Last Entanglement: 0.990 | Last Chaoticity: 0.800\n"
          ]
        },
        {
          "output_type": "stream",
          "name": "stderr",
          "text": [
            "Episodes:  12%|█▏        | 59/500 [03:32<27:05,  3.69s/it]"
          ]
        },
        {
          "output_type": "stream",
          "name": "stdout",
          "text": [
            "Episode 59/500 | Avg Why: 0.6424 | Avg Inconsistency: 0.5074 | Last Entanglement: 0.990 | Last Chaoticity: 0.800\n"
          ]
        },
        {
          "output_type": "stream",
          "name": "stderr",
          "text": [
            "Episodes:  12%|█▏        | 60/500 [03:36<26:51,  3.66s/it]"
          ]
        },
        {
          "output_type": "stream",
          "name": "stdout",
          "text": [
            "Episode 60/500 | Avg Why: 0.6436 | Avg Inconsistency: 0.5418 | Last Entanglement: 0.990 | Last Chaoticity: 0.800\n"
          ]
        },
        {
          "output_type": "stream",
          "name": "stderr",
          "text": [
            "Episodes:  12%|█▏        | 61/500 [03:39<26:34,  3.63s/it]"
          ]
        },
        {
          "output_type": "stream",
          "name": "stdout",
          "text": [
            "Episode 61/500 | Avg Why: 0.6580 | Avg Inconsistency: 0.5518 | Last Entanglement: 0.990 | Last Chaoticity: 0.800\n"
          ]
        },
        {
          "output_type": "stream",
          "name": "stderr",
          "text": [
            "Episodes:  12%|█▏        | 62/500 [03:44<28:07,  3.85s/it]"
          ]
        },
        {
          "output_type": "stream",
          "name": "stdout",
          "text": [
            "Episode 62/500 | Avg Why: 0.6675 | Avg Inconsistency: 0.5309 | Last Entanglement: 0.990 | Last Chaoticity: 0.800\n"
          ]
        },
        {
          "output_type": "stream",
          "name": "stderr",
          "text": [
            "Episodes:  13%|█▎        | 63/500 [03:47<27:15,  3.74s/it]"
          ]
        },
        {
          "output_type": "stream",
          "name": "stdout",
          "text": [
            "Episode 63/500 | Avg Why: 0.6475 | Avg Inconsistency: 0.5651 | Last Entanglement: 0.990 | Last Chaoticity: 0.001\n"
          ]
        },
        {
          "output_type": "stream",
          "name": "stderr",
          "text": [
            "Episodes:  13%|█▎        | 64/500 [03:51<26:44,  3.68s/it]"
          ]
        },
        {
          "output_type": "stream",
          "name": "stdout",
          "text": [
            "Episode 64/500 | Avg Why: 0.6482 | Avg Inconsistency: 0.6201 | Last Entanglement: 0.990 | Last Chaoticity: 0.001\n"
          ]
        },
        {
          "output_type": "stream",
          "name": "stderr",
          "text": [
            "Episodes:  13%|█▎        | 65/500 [03:55<28:15,  3.90s/it]"
          ]
        },
        {
          "output_type": "stream",
          "name": "stdout",
          "text": [
            "Episode 65/500 | Avg Why: 0.6376 | Avg Inconsistency: 0.5493 | Last Entanglement: 0.990 | Last Chaoticity: 0.005\n"
          ]
        },
        {
          "output_type": "stream",
          "name": "stderr",
          "text": [
            "Episodes:  13%|█▎        | 66/500 [03:59<26:57,  3.73s/it]"
          ]
        },
        {
          "output_type": "stream",
          "name": "stdout",
          "text": [
            "Episode 66/500 | Avg Why: 0.6277 | Avg Inconsistency: 0.4891 | Last Entanglement: 0.990 | Last Chaoticity: 0.800\n"
          ]
        },
        {
          "output_type": "stream",
          "name": "stderr",
          "text": [
            "Episodes:  13%|█▎        | 67/500 [04:02<26:38,  3.69s/it]"
          ]
        },
        {
          "output_type": "stream",
          "name": "stdout",
          "text": [
            "Episode 67/500 | Avg Why: 0.6658 | Avg Inconsistency: 0.4231 | Last Entanglement: 0.990 | Last Chaoticity: 0.800\n"
          ]
        },
        {
          "output_type": "stream",
          "name": "stderr",
          "text": [
            "Episodes:  14%|█▎        | 68/500 [04:05<25:39,  3.56s/it]"
          ]
        },
        {
          "output_type": "stream",
          "name": "stdout",
          "text": [
            "Episode 68/500 | Avg Why: 0.6387 | Avg Inconsistency: 0.4645 | Last Entanglement: 0.990 | Last Chaoticity: 0.800\n"
          ]
        },
        {
          "output_type": "stream",
          "name": "stderr",
          "text": [
            "Episodes:  14%|█▍        | 69/500 [04:09<26:35,  3.70s/it]"
          ]
        },
        {
          "output_type": "stream",
          "name": "stdout",
          "text": [
            "Episode 69/500 | Avg Why: 0.6587 | Avg Inconsistency: 0.4173 | Last Entanglement: 0.990 | Last Chaoticity: 0.800\n"
          ]
        },
        {
          "output_type": "stream",
          "name": "stderr",
          "text": [
            "Episodes:  14%|█▍        | 70/500 [04:13<25:32,  3.56s/it]"
          ]
        },
        {
          "output_type": "stream",
          "name": "stdout",
          "text": [
            "Episode 70/500 | Avg Why: 0.6497 | Avg Inconsistency: 0.4857 | Last Entanglement: 0.990 | Last Chaoticity: 0.800\n"
          ]
        },
        {
          "output_type": "stream",
          "name": "stderr",
          "text": [
            "Episodes:  14%|█▍        | 71/500 [04:16<25:01,  3.50s/it]"
          ]
        },
        {
          "output_type": "stream",
          "name": "stdout",
          "text": [
            "Episode 71/500 | Avg Why: 0.6363 | Avg Inconsistency: 0.4778 | Last Entanglement: 0.990 | Last Chaoticity: 0.800\n"
          ]
        },
        {
          "output_type": "stream",
          "name": "stderr",
          "text": [
            "Episodes:  14%|█▍        | 72/500 [04:20<26:25,  3.70s/it]"
          ]
        },
        {
          "output_type": "stream",
          "name": "stdout",
          "text": [
            "Episode 72/500 | Avg Why: 0.6356 | Avg Inconsistency: 0.4365 | Last Entanglement: 0.990 | Last Chaoticity: 0.800\n"
          ]
        },
        {
          "output_type": "stream",
          "name": "stderr",
          "text": [
            "Episodes:  15%|█▍        | 73/500 [04:24<25:41,  3.61s/it]"
          ]
        },
        {
          "output_type": "stream",
          "name": "stdout",
          "text": [
            "Episode 73/500 | Avg Why: 0.6442 | Avg Inconsistency: 0.4645 | Last Entanglement: 0.990 | Last Chaoticity: 0.800\n"
          ]
        },
        {
          "output_type": "stream",
          "name": "stderr",
          "text": [
            "Episodes:  15%|█▍        | 74/500 [04:27<25:28,  3.59s/it]"
          ]
        },
        {
          "output_type": "stream",
          "name": "stdout",
          "text": [
            "Episode 74/500 | Avg Why: 0.6390 | Avg Inconsistency: 0.4758 | Last Entanglement: 0.990 | Last Chaoticity: 0.800\n"
          ]
        },
        {
          "output_type": "stream",
          "name": "stderr",
          "text": [
            "Episodes:  15%|█▌        | 75/500 [04:31<25:59,  3.67s/it]"
          ]
        },
        {
          "output_type": "stream",
          "name": "stdout",
          "text": [
            "Episode 75/500 | Avg Why: 0.6061 | Avg Inconsistency: 0.4582 | Last Entanglement: 0.990 | Last Chaoticity: 0.746\n"
          ]
        },
        {
          "output_type": "stream",
          "name": "stderr",
          "text": [
            "Episodes:  15%|█▌        | 76/500 [04:35<27:10,  3.85s/it]"
          ]
        },
        {
          "output_type": "stream",
          "name": "stdout",
          "text": [
            "Episode 76/500 | Avg Why: 0.6377 | Avg Inconsistency: 0.4846 | Last Entanglement: 0.990 | Last Chaoticity: 0.800\n"
          ]
        },
        {
          "output_type": "stream",
          "name": "stderr",
          "text": [
            "Episodes:  15%|█▌        | 77/500 [04:39<26:14,  3.72s/it]"
          ]
        },
        {
          "output_type": "stream",
          "name": "stdout",
          "text": [
            "Episode 77/500 | Avg Why: 0.6389 | Avg Inconsistency: 0.6611 | Last Entanglement: 0.990 | Last Chaoticity: 0.800\n"
          ]
        },
        {
          "output_type": "stream",
          "name": "stderr",
          "text": [
            "Episodes:  16%|█▌        | 78/500 [04:42<25:13,  3.59s/it]"
          ]
        },
        {
          "output_type": "stream",
          "name": "stdout",
          "text": [
            "Episode 78/500 | Avg Why: 0.6100 | Avg Inconsistency: 0.5883 | Last Entanglement: 0.990 | Last Chaoticity: 0.800\n"
          ]
        },
        {
          "output_type": "stream",
          "name": "stderr",
          "text": [
            "Episodes:  16%|█▌        | 79/500 [04:46<26:23,  3.76s/it]"
          ]
        },
        {
          "output_type": "stream",
          "name": "stdout",
          "text": [
            "Episode 79/500 | Avg Why: 0.6100 | Avg Inconsistency: 0.6243 | Last Entanglement: 0.990 | Last Chaoticity: 0.800\n"
          ]
        },
        {
          "output_type": "stream",
          "name": "stderr",
          "text": [
            "Episodes:  16%|█▌        | 80/500 [04:49<24:56,  3.56s/it]"
          ]
        },
        {
          "output_type": "stream",
          "name": "stdout",
          "text": [
            "Episode 80/500 | Avg Why: 0.6318 | Avg Inconsistency: 0.6562 | Last Entanglement: 0.990 | Last Chaoticity: 0.800\n"
          ]
        },
        {
          "output_type": "stream",
          "name": "stderr",
          "text": [
            "Episodes:  16%|█▌        | 81/500 [04:53<24:44,  3.54s/it]"
          ]
        },
        {
          "output_type": "stream",
          "name": "stdout",
          "text": [
            "Episode 81/500 | Avg Why: 0.6291 | Avg Inconsistency: 0.6406 | Last Entanglement: 0.990 | Last Chaoticity: 0.800\n"
          ]
        },
        {
          "output_type": "stream",
          "name": "stderr",
          "text": [
            "Episodes:  16%|█▋        | 82/500 [04:56<23:51,  3.43s/it]"
          ]
        },
        {
          "output_type": "stream",
          "name": "stdout",
          "text": [
            "Episode 82/500 | Avg Why: 0.6370 | Avg Inconsistency: 0.5634 | Last Entanglement: 0.990 | Last Chaoticity: 0.800\n"
          ]
        },
        {
          "output_type": "stream",
          "name": "stderr",
          "text": [
            "Episodes:  17%|█▋        | 83/500 [05:00<24:57,  3.59s/it]"
          ]
        },
        {
          "output_type": "stream",
          "name": "stdout",
          "text": [
            "Episode 83/500 | Avg Why: 0.6473 | Avg Inconsistency: 0.5837 | Last Entanglement: 0.990 | Last Chaoticity: 0.800\n"
          ]
        },
        {
          "output_type": "stream",
          "name": "stderr",
          "text": [
            "Episodes:  17%|█▋        | 84/500 [05:03<24:37,  3.55s/it]"
          ]
        },
        {
          "output_type": "stream",
          "name": "stdout",
          "text": [
            "Episode 84/500 | Avg Why: 0.6329 | Avg Inconsistency: 0.6533 | Last Entanglement: 0.990 | Last Chaoticity: 0.800\n"
          ]
        },
        {
          "output_type": "stream",
          "name": "stderr",
          "text": [
            "Episodes:  17%|█▋        | 85/500 [05:07<24:01,  3.47s/it]"
          ]
        },
        {
          "output_type": "stream",
          "name": "stdout",
          "text": [
            "Episode 85/500 | Avg Why: 0.6482 | Avg Inconsistency: 0.7055 | Last Entanglement: 0.990 | Last Chaoticity: 0.800\n"
          ]
        },
        {
          "output_type": "stream",
          "name": "stderr",
          "text": [
            "Episodes:  17%|█▋        | 86/500 [05:11<25:11,  3.65s/it]"
          ]
        },
        {
          "output_type": "stream",
          "name": "stdout",
          "text": [
            "Episode 86/500 | Avg Why: 0.6573 | Avg Inconsistency: 0.6602 | Last Entanglement: 0.990 | Last Chaoticity: 0.159\n"
          ]
        },
        {
          "output_type": "stream",
          "name": "stderr",
          "text": [
            "Episodes:  17%|█▋        | 87/500 [05:14<24:37,  3.58s/it]"
          ]
        },
        {
          "output_type": "stream",
          "name": "stdout",
          "text": [
            "Episode 87/500 | Avg Why: 0.6591 | Avg Inconsistency: 0.5177 | Last Entanglement: 0.990 | Last Chaoticity: 0.800\n"
          ]
        },
        {
          "output_type": "stream",
          "name": "stderr",
          "text": [
            "Episodes:  18%|█▊        | 88/500 [05:17<23:45,  3.46s/it]"
          ]
        },
        {
          "output_type": "stream",
          "name": "stdout",
          "text": [
            "Episode 88/500 | Avg Why: 0.7117 | Avg Inconsistency: 0.3341 | Last Entanglement: 0.990 | Last Chaoticity: 0.785\n"
          ]
        },
        {
          "output_type": "stream",
          "name": "stderr",
          "text": [
            "Episodes:  18%|█▊        | 89/500 [05:21<23:46,  3.47s/it]"
          ]
        },
        {
          "output_type": "stream",
          "name": "stdout",
          "text": [
            "Episode 89/500 | Avg Why: 0.7085 | Avg Inconsistency: 0.4401 | Last Entanglement: 0.990 | Last Chaoticity: 0.001\n"
          ]
        },
        {
          "output_type": "stream",
          "name": "stderr",
          "text": [
            "Episodes:  18%|█▊        | 90/500 [05:25<25:07,  3.68s/it]"
          ]
        },
        {
          "output_type": "stream",
          "name": "stdout",
          "text": [
            "Episode 90/500 | Avg Why: 0.6788 | Avg Inconsistency: 0.3754 | Last Entanglement: 0.990 | Last Chaoticity: 0.005\n"
          ]
        },
        {
          "output_type": "stream",
          "name": "stderr",
          "text": [
            "Episodes:  18%|█▊        | 91/500 [05:28<24:10,  3.55s/it]"
          ]
        },
        {
          "output_type": "stream",
          "name": "stdout",
          "text": [
            "Episode 91/500 | Avg Why: 0.6869 | Avg Inconsistency: 0.4409 | Last Entanglement: 0.990 | Last Chaoticity: 0.151\n"
          ]
        },
        {
          "output_type": "stream",
          "name": "stderr",
          "text": [
            "Episodes:  18%|█▊        | 92/500 [05:32<23:36,  3.47s/it]"
          ]
        },
        {
          "output_type": "stream",
          "name": "stdout",
          "text": [
            "Episode 92/500 | Avg Why: 0.6625 | Avg Inconsistency: 0.4356 | Last Entanglement: 0.990 | Last Chaoticity: 0.001\n"
          ]
        },
        {
          "output_type": "stream",
          "name": "stderr",
          "text": [
            "Episodes:  19%|█▊        | 93/500 [05:35<23:49,  3.51s/it]"
          ]
        },
        {
          "output_type": "stream",
          "name": "stdout",
          "text": [
            "Episode 93/500 | Avg Why: 0.6422 | Avg Inconsistency: 0.7160 | Last Entanglement: 0.990 | Last Chaoticity: 0.001\n"
          ]
        },
        {
          "output_type": "stream",
          "name": "stderr",
          "text": [
            "Episodes:  19%|█▉        | 94/500 [05:39<23:47,  3.52s/it]"
          ]
        },
        {
          "output_type": "stream",
          "name": "stdout",
          "text": [
            "Episode 94/500 | Avg Why: 0.6541 | Avg Inconsistency: 0.3096 | Last Entanglement: 0.990 | Last Chaoticity: 0.001\n"
          ]
        },
        {
          "output_type": "stream",
          "name": "stderr",
          "text": [
            "Episodes:  19%|█▉        | 95/500 [05:42<23:31,  3.49s/it]"
          ]
        },
        {
          "output_type": "stream",
          "name": "stdout",
          "text": [
            "Episode 95/500 | Avg Why: 0.6615 | Avg Inconsistency: 0.2792 | Last Entanglement: 0.990 | Last Chaoticity: 0.001\n"
          ]
        },
        {
          "output_type": "stream",
          "name": "stderr",
          "text": [
            "Episodes:  19%|█▉        | 96/500 [05:45<23:13,  3.45s/it]"
          ]
        },
        {
          "output_type": "stream",
          "name": "stdout",
          "text": [
            "Episode 96/500 | Avg Why: 0.6346 | Avg Inconsistency: 0.4652 | Last Entanglement: 0.990 | Last Chaoticity: 0.001\n"
          ]
        },
        {
          "output_type": "stream",
          "name": "stderr",
          "text": [
            "Episodes:  19%|█▉        | 97/500 [05:50<24:48,  3.69s/it]"
          ]
        },
        {
          "output_type": "stream",
          "name": "stdout",
          "text": [
            "Episode 97/500 | Avg Why: 0.6548 | Avg Inconsistency: 0.4834 | Last Entanglement: 0.990 | Last Chaoticity: 0.001\n"
          ]
        },
        {
          "output_type": "stream",
          "name": "stderr",
          "text": [
            "Episodes:  20%|█▉        | 98/500 [05:53<23:41,  3.54s/it]"
          ]
        },
        {
          "output_type": "stream",
          "name": "stdout",
          "text": [
            "Episode 98/500 | Avg Why: 0.6100 | Avg Inconsistency: 0.4289 | Last Entanglement: 0.990 | Last Chaoticity: 0.001\n"
          ]
        },
        {
          "output_type": "stream",
          "name": "stderr",
          "text": [
            "Episodes:  20%|█▉        | 99/500 [05:56<23:19,  3.49s/it]"
          ]
        },
        {
          "output_type": "stream",
          "name": "stdout",
          "text": [
            "Episode 99/500 | Avg Why: 0.6728 | Avg Inconsistency: 0.5049 | Last Entanglement: 0.990 | Last Chaoticity: 0.001\n"
          ]
        },
        {
          "output_type": "stream",
          "name": "stderr",
          "text": [
            "Episodes:  20%|██        | 100/500 [06:00<23:27,  3.52s/it]"
          ]
        },
        {
          "output_type": "stream",
          "name": "stdout",
          "text": [
            "Episode 100/500 | Avg Why: 0.6938 | Avg Inconsistency: 0.4828 | Last Entanglement: 0.990 | Last Chaoticity: 0.191\n"
          ]
        },
        {
          "output_type": "stream",
          "name": "stderr",
          "text": [
            "Episodes:  20%|██        | 101/500 [06:04<24:34,  3.70s/it]"
          ]
        },
        {
          "output_type": "stream",
          "name": "stdout",
          "text": [
            "Episode 101/500 | Avg Why: 0.6966 | Avg Inconsistency: 0.5175 | Last Entanglement: 0.990 | Last Chaoticity: 0.473\n"
          ]
        },
        {
          "output_type": "stream",
          "name": "stderr",
          "text": [
            "Episodes:  20%|██        | 102/500 [06:07<24:15,  3.66s/it]"
          ]
        },
        {
          "output_type": "stream",
          "name": "stdout",
          "text": [
            "Episode 102/500 | Avg Why: 0.6888 | Avg Inconsistency: 0.5004 | Last Entanglement: 0.990 | Last Chaoticity: 0.137\n"
          ]
        },
        {
          "output_type": "stream",
          "name": "stderr",
          "text": [
            "Episodes:  21%|██        | 103/500 [06:11<23:29,  3.55s/it]"
          ]
        },
        {
          "output_type": "stream",
          "name": "stdout",
          "text": [
            "Episode 103/500 | Avg Why: 0.6847 | Avg Inconsistency: 0.5022 | Last Entanglement: 0.990 | Last Chaoticity: 0.800\n"
          ]
        },
        {
          "output_type": "stream",
          "name": "stderr",
          "text": [
            "Episodes:  21%|██        | 104/500 [06:15<24:32,  3.72s/it]"
          ]
        },
        {
          "output_type": "stream",
          "name": "stdout",
          "text": [
            "Episode 104/500 | Avg Why: 0.6949 | Avg Inconsistency: 0.5830 | Last Entanglement: 0.990 | Last Chaoticity: 0.800\n"
          ]
        },
        {
          "output_type": "stream",
          "name": "stderr",
          "text": [
            "Episodes:  21%|██        | 105/500 [06:18<23:20,  3.55s/it]"
          ]
        },
        {
          "output_type": "stream",
          "name": "stdout",
          "text": [
            "Episode 105/500 | Avg Why: 0.6850 | Avg Inconsistency: 0.5264 | Last Entanglement: 0.990 | Last Chaoticity: 0.800\n"
          ]
        },
        {
          "output_type": "stream",
          "name": "stderr",
          "text": [
            "Episodes:  21%|██        | 106/500 [06:21<22:27,  3.42s/it]"
          ]
        },
        {
          "output_type": "stream",
          "name": "stdout",
          "text": [
            "Episode 106/500 | Avg Why: 0.6990 | Avg Inconsistency: 0.5960 | Last Entanglement: 0.990 | Last Chaoticity: 0.800\n"
          ]
        },
        {
          "output_type": "stream",
          "name": "stderr",
          "text": [
            "Episodes:  21%|██▏       | 107/500 [06:25<22:55,  3.50s/it]"
          ]
        },
        {
          "output_type": "stream",
          "name": "stdout",
          "text": [
            "Episode 107/500 | Avg Why: 0.6989 | Avg Inconsistency: 0.4721 | Last Entanglement: 0.990 | Last Chaoticity: 0.800\n"
          ]
        },
        {
          "output_type": "stream",
          "name": "stderr",
          "text": [
            "Episodes:  22%|██▏       | 108/500 [06:29<23:42,  3.63s/it]"
          ]
        },
        {
          "output_type": "stream",
          "name": "stdout",
          "text": [
            "Episode 108/500 | Avg Why: 0.7025 | Avg Inconsistency: 0.5332 | Last Entanglement: 0.990 | Last Chaoticity: 0.350\n"
          ]
        },
        {
          "output_type": "stream",
          "name": "stderr",
          "text": [
            "Episodes:  22%|██▏       | 109/500 [06:32<23:12,  3.56s/it]"
          ]
        },
        {
          "output_type": "stream",
          "name": "stdout",
          "text": [
            "Episode 109/500 | Avg Why: 0.7089 | Avg Inconsistency: 0.4302 | Last Entanglement: 0.990 | Last Chaoticity: 0.001\n"
          ]
        },
        {
          "output_type": "stream",
          "name": "stderr",
          "text": [
            "Episodes:  22%|██▏       | 110/500 [06:36<22:39,  3.49s/it]"
          ]
        },
        {
          "output_type": "stream",
          "name": "stdout",
          "text": [
            "Episode 110/500 | Avg Why: 0.7064 | Avg Inconsistency: 0.4631 | Last Entanglement: 0.990 | Last Chaoticity: 0.001\n"
          ]
        },
        {
          "output_type": "stream",
          "name": "stderr",
          "text": [
            "Episodes:  22%|██▏       | 111/500 [06:39<23:30,  3.63s/it]"
          ]
        },
        {
          "output_type": "stream",
          "name": "stdout",
          "text": [
            "Episode 111/500 | Avg Why: 0.7087 | Avg Inconsistency: 0.4448 | Last Entanglement: 0.990 | Last Chaoticity: 0.001\n"
          ]
        },
        {
          "output_type": "stream",
          "name": "stderr",
          "text": [
            "Episodes:  22%|██▏       | 112/500 [06:43<24:12,  3.74s/it]"
          ]
        },
        {
          "output_type": "stream",
          "name": "stdout",
          "text": [
            "Episode 112/500 | Avg Why: 0.7122 | Avg Inconsistency: 0.4317 | Last Entanglement: 0.990 | Last Chaoticity: 0.001\n"
          ]
        },
        {
          "output_type": "stream",
          "name": "stderr",
          "text": [
            "Episodes:  23%|██▎       | 113/500 [06:47<23:54,  3.71s/it]"
          ]
        },
        {
          "output_type": "stream",
          "name": "stdout",
          "text": [
            "Episode 113/500 | Avg Why: 0.6913 | Avg Inconsistency: 0.3402 | Last Entanglement: 0.990 | Last Chaoticity: 0.001\n"
          ]
        },
        {
          "output_type": "stream",
          "name": "stderr",
          "text": [
            "Episodes:  23%|██▎       | 114/500 [06:51<23:32,  3.66s/it]"
          ]
        },
        {
          "output_type": "stream",
          "name": "stdout",
          "text": [
            "Episode 114/500 | Avg Why: 0.6841 | Avg Inconsistency: 0.3883 | Last Entanglement: 0.990 | Last Chaoticity: 0.001\n"
          ]
        },
        {
          "output_type": "stream",
          "name": "stderr",
          "text": [
            "Episodes:  23%|██▎       | 115/500 [06:55<23:54,  3.73s/it]"
          ]
        },
        {
          "output_type": "stream",
          "name": "stdout",
          "text": [
            "Episode 115/500 | Avg Why: 0.7002 | Avg Inconsistency: 0.4274 | Last Entanglement: 0.990 | Last Chaoticity: 0.001\n"
          ]
        },
        {
          "output_type": "stream",
          "name": "stderr",
          "text": [
            "Episodes:  23%|██▎       | 116/500 [06:58<22:44,  3.55s/it]"
          ]
        },
        {
          "output_type": "stream",
          "name": "stdout",
          "text": [
            "Episode 116/500 | Avg Why: 0.7043 | Avg Inconsistency: 0.4004 | Last Entanglement: 0.990 | Last Chaoticity: 0.001\n"
          ]
        },
        {
          "output_type": "stream",
          "name": "stderr",
          "text": [
            "Episodes:  23%|██▎       | 117/500 [07:01<22:40,  3.55s/it]"
          ]
        },
        {
          "output_type": "stream",
          "name": "stdout",
          "text": [
            "Episode 117/500 | Avg Why: 0.7081 | Avg Inconsistency: 0.4409 | Last Entanglement: 0.990 | Last Chaoticity: 0.001\n"
          ]
        },
        {
          "output_type": "stream",
          "name": "stderr",
          "text": [
            "Episodes:  24%|██▎       | 118/500 [07:05<23:53,  3.75s/it]"
          ]
        },
        {
          "output_type": "stream",
          "name": "stdout",
          "text": [
            "Episode 118/500 | Avg Why: 0.6921 | Avg Inconsistency: 0.4264 | Last Entanglement: 0.990 | Last Chaoticity: 0.001\n"
          ]
        },
        {
          "output_type": "stream",
          "name": "stderr",
          "text": [
            "Episodes:  24%|██▍       | 119/500 [07:09<23:10,  3.65s/it]"
          ]
        },
        {
          "output_type": "stream",
          "name": "stdout",
          "text": [
            "Episode 119/500 | Avg Why: 0.6720 | Avg Inconsistency: 0.5184 | Last Entanglement: 0.990 | Last Chaoticity: 0.001\n"
          ]
        },
        {
          "output_type": "stream",
          "name": "stderr",
          "text": [
            "Episodes:  24%|██▍       | 120/500 [07:12<22:29,  3.55s/it]"
          ]
        },
        {
          "output_type": "stream",
          "name": "stdout",
          "text": [
            "Episode 120/500 | Avg Why: 0.6701 | Avg Inconsistency: 0.4409 | Last Entanglement: 0.990 | Last Chaoticity: 0.001\n"
          ]
        },
        {
          "output_type": "stream",
          "name": "stderr",
          "text": [
            "Episodes:  24%|██▍       | 121/500 [07:16<22:23,  3.54s/it]"
          ]
        },
        {
          "output_type": "stream",
          "name": "stdout",
          "text": [
            "Episode 121/500 | Avg Why: 0.6697 | Avg Inconsistency: 0.4470 | Last Entanglement: 0.990 | Last Chaoticity: 0.001\n"
          ]
        },
        {
          "output_type": "stream",
          "name": "stderr",
          "text": [
            "Episodes:  24%|██▍       | 122/500 [07:20<23:17,  3.70s/it]"
          ]
        },
        {
          "output_type": "stream",
          "name": "stdout",
          "text": [
            "Episode 122/500 | Avg Why: 0.6865 | Avg Inconsistency: 0.4598 | Last Entanglement: 0.990 | Last Chaoticity: 0.001\n"
          ]
        },
        {
          "output_type": "stream",
          "name": "stderr",
          "text": [
            "Episodes:  25%|██▍       | 123/500 [07:23<22:15,  3.54s/it]"
          ]
        },
        {
          "output_type": "stream",
          "name": "stdout",
          "text": [
            "Episode 123/500 | Avg Why: 0.6836 | Avg Inconsistency: 0.5554 | Last Entanglement: 0.990 | Last Chaoticity: 0.001\n"
          ]
        },
        {
          "output_type": "stream",
          "name": "stderr",
          "text": [
            "Episodes:  25%|██▍       | 124/500 [07:27<22:25,  3.58s/it]"
          ]
        },
        {
          "output_type": "stream",
          "name": "stdout",
          "text": [
            "Episode 124/500 | Avg Why: 0.6852 | Avg Inconsistency: 0.4497 | Last Entanglement: 0.990 | Last Chaoticity: 0.001\n"
          ]
        },
        {
          "output_type": "stream",
          "name": "stderr",
          "text": [
            "Episodes:  25%|██▌       | 125/500 [07:31<23:20,  3.73s/it]"
          ]
        },
        {
          "output_type": "stream",
          "name": "stdout",
          "text": [
            "Episode 125/500 | Avg Why: 0.6425 | Avg Inconsistency: 0.5076 | Last Entanglement: 0.990 | Last Chaoticity: 0.800\n"
          ]
        },
        {
          "output_type": "stream",
          "name": "stderr",
          "text": [
            "Episodes:  25%|██▌       | 126/500 [07:34<22:59,  3.69s/it]"
          ]
        },
        {
          "output_type": "stream",
          "name": "stdout",
          "text": [
            "Episode 126/500 | Avg Why: 0.6817 | Avg Inconsistency: 0.3591 | Last Entanglement: 0.990 | Last Chaoticity: 0.001\n"
          ]
        },
        {
          "output_type": "stream",
          "name": "stderr",
          "text": [
            "Episodes:  25%|██▌       | 127/500 [07:38<22:27,  3.61s/it]"
          ]
        },
        {
          "output_type": "stream",
          "name": "stdout",
          "text": [
            "Episode 127/500 | Avg Why: 0.6067 | Avg Inconsistency: 0.3907 | Last Entanglement: 0.990 | Last Chaoticity: 0.001\n"
          ]
        },
        {
          "output_type": "stream",
          "name": "stderr",
          "text": [
            "Episodes:  26%|██▌       | 128/500 [07:41<22:31,  3.63s/it]"
          ]
        },
        {
          "output_type": "stream",
          "name": "stdout",
          "text": [
            "Episode 128/500 | Avg Why: 0.6132 | Avg Inconsistency: 0.7481 | Last Entanglement: 0.990 | Last Chaoticity: 0.001\n"
          ]
        },
        {
          "output_type": "stream",
          "name": "stderr",
          "text": [
            "Episodes:  26%|██▌       | 129/500 [07:45<22:45,  3.68s/it]"
          ]
        },
        {
          "output_type": "stream",
          "name": "stdout",
          "text": [
            "Episode 129/500 | Avg Why: 0.6397 | Avg Inconsistency: 0.7473 | Last Entanglement: 0.990 | Last Chaoticity: 0.001\n"
          ]
        },
        {
          "output_type": "stream",
          "name": "stderr",
          "text": [
            "Episodes:  26%|██▌       | 130/500 [07:49<22:12,  3.60s/it]"
          ]
        },
        {
          "output_type": "stream",
          "name": "stdout",
          "text": [
            "Episode 130/500 | Avg Why: 0.6457 | Avg Inconsistency: 0.7593 | Last Entanglement: 0.990 | Last Chaoticity: 0.001\n"
          ]
        },
        {
          "output_type": "stream",
          "name": "stderr",
          "text": [
            "Episodes:  26%|██▌       | 131/500 [07:52<22:21,  3.64s/it]"
          ]
        },
        {
          "output_type": "stream",
          "name": "stdout",
          "text": [
            "Episode 131/500 | Avg Why: 0.6527 | Avg Inconsistency: 0.7655 | Last Entanglement: 0.990 | Last Chaoticity: 0.001\n"
          ]
        },
        {
          "output_type": "stream",
          "name": "stderr",
          "text": [
            "Episodes:  26%|██▋       | 132/500 [07:57<23:42,  3.87s/it]"
          ]
        },
        {
          "output_type": "stream",
          "name": "stdout",
          "text": [
            "Episode 132/500 | Avg Why: 0.6350 | Avg Inconsistency: 0.7049 | Last Entanglement: 0.990 | Last Chaoticity: 0.001\n"
          ]
        },
        {
          "output_type": "stream",
          "name": "stderr",
          "text": [
            "Episodes:  27%|██▋       | 133/500 [08:00<22:34,  3.69s/it]"
          ]
        },
        {
          "output_type": "stream",
          "name": "stdout",
          "text": [
            "Episode 133/500 | Avg Why: 0.6415 | Avg Inconsistency: 0.7162 | Last Entanglement: 0.990 | Last Chaoticity: 0.001\n"
          ]
        },
        {
          "output_type": "stream",
          "name": "stderr",
          "text": [
            "Episodes:  27%|██▋       | 134/500 [08:03<22:05,  3.62s/it]"
          ]
        },
        {
          "output_type": "stream",
          "name": "stdout",
          "text": [
            "Episode 134/500 | Avg Why: 0.6521 | Avg Inconsistency: 0.6317 | Last Entanglement: 0.990 | Last Chaoticity: 0.001\n"
          ]
        },
        {
          "output_type": "stream",
          "name": "stderr",
          "text": [
            "Episodes:  27%|██▋       | 135/500 [08:08<23:09,  3.81s/it]"
          ]
        },
        {
          "output_type": "stream",
          "name": "stdout",
          "text": [
            "Episode 135/500 | Avg Why: 0.6926 | Avg Inconsistency: 0.8048 | Last Entanglement: 0.990 | Last Chaoticity: 0.001\n"
          ]
        },
        {
          "output_type": "stream",
          "name": "stderr",
          "text": [
            "Episodes:  27%|██▋       | 136/500 [08:11<22:41,  3.74s/it]"
          ]
        },
        {
          "output_type": "stream",
          "name": "stdout",
          "text": [
            "Episode 136/500 | Avg Why: 0.6518 | Avg Inconsistency: 0.6180 | Last Entanglement: 0.990 | Last Chaoticity: 0.001\n"
          ]
        },
        {
          "output_type": "stream",
          "name": "stderr",
          "text": [
            "Episodes:  27%|██▋       | 137/500 [08:15<21:46,  3.60s/it]"
          ]
        },
        {
          "output_type": "stream",
          "name": "stdout",
          "text": [
            "Episode 137/500 | Avg Why: 0.6505 | Avg Inconsistency: 0.6378 | Last Entanglement: 0.990 | Last Chaoticity: 0.001\n"
          ]
        },
        {
          "output_type": "stream",
          "name": "stderr",
          "text": [
            "Episodes:  28%|██▊       | 138/500 [08:18<21:09,  3.51s/it]"
          ]
        },
        {
          "output_type": "stream",
          "name": "stdout",
          "text": [
            "Episode 138/500 | Avg Why: 0.6489 | Avg Inconsistency: 0.6300 | Last Entanglement: 0.990 | Last Chaoticity: 0.001\n"
          ]
        },
        {
          "output_type": "stream",
          "name": "stderr",
          "text": [
            "Episodes:  28%|██▊       | 139/500 [08:22<22:19,  3.71s/it]"
          ]
        },
        {
          "output_type": "stream",
          "name": "stdout",
          "text": [
            "Episode 139/500 | Avg Why: 0.6674 | Avg Inconsistency: 0.6571 | Last Entanglement: 0.990 | Last Chaoticity: 0.001\n"
          ]
        },
        {
          "output_type": "stream",
          "name": "stderr",
          "text": [
            "Episodes:  28%|██▊       | 140/500 [08:25<21:30,  3.59s/it]"
          ]
        },
        {
          "output_type": "stream",
          "name": "stdout",
          "text": [
            "Episode 140/500 | Avg Why: 0.6668 | Avg Inconsistency: 0.6318 | Last Entanglement: 0.990 | Last Chaoticity: 0.001\n"
          ]
        },
        {
          "output_type": "stream",
          "name": "stderr",
          "text": [
            "Episodes:  28%|██▊       | 141/500 [08:29<21:15,  3.55s/it]"
          ]
        },
        {
          "output_type": "stream",
          "name": "stdout",
          "text": [
            "Episode 141/500 | Avg Why: 0.6696 | Avg Inconsistency: 0.5695 | Last Entanglement: 0.990 | Last Chaoticity: 0.001\n"
          ]
        },
        {
          "output_type": "stream",
          "name": "stderr",
          "text": [
            "Episodes:  28%|██▊       | 142/500 [08:33<22:23,  3.75s/it]"
          ]
        },
        {
          "output_type": "stream",
          "name": "stdout",
          "text": [
            "Episode 142/500 | Avg Why: 0.6637 | Avg Inconsistency: 0.5584 | Last Entanglement: 0.990 | Last Chaoticity: 0.001\n"
          ]
        },
        {
          "output_type": "stream",
          "name": "stderr",
          "text": [
            "Episodes:  29%|██▊       | 143/500 [08:37<22:08,  3.72s/it]"
          ]
        },
        {
          "output_type": "stream",
          "name": "stdout",
          "text": [
            "Episode 143/500 | Avg Why: 0.6615 | Avg Inconsistency: 0.5712 | Last Entanglement: 0.990 | Last Chaoticity: 0.001\n"
          ]
        },
        {
          "output_type": "stream",
          "name": "stderr",
          "text": [
            "Episodes:  29%|██▉       | 144/500 [08:40<21:34,  3.64s/it]"
          ]
        },
        {
          "output_type": "stream",
          "name": "stdout",
          "text": [
            "Episode 144/500 | Avg Why: 0.6630 | Avg Inconsistency: 0.5782 | Last Entanglement: 0.990 | Last Chaoticity: 0.001\n"
          ]
        },
        {
          "output_type": "stream",
          "name": "stderr",
          "text": [
            "Episodes:  29%|██▉       | 145/500 [08:44<21:26,  3.62s/it]"
          ]
        },
        {
          "output_type": "stream",
          "name": "stdout",
          "text": [
            "Episode 145/500 | Avg Why: 0.6609 | Avg Inconsistency: 0.5546 | Last Entanglement: 0.990 | Last Chaoticity: 0.001\n"
          ]
        },
        {
          "output_type": "stream",
          "name": "stderr",
          "text": [
            "Episodes:  29%|██▉       | 146/500 [08:48<21:41,  3.68s/it]"
          ]
        },
        {
          "output_type": "stream",
          "name": "stdout",
          "text": [
            "Episode 146/500 | Avg Why: 0.6602 | Avg Inconsistency: 0.6698 | Last Entanglement: 0.990 | Last Chaoticity: 0.001\n"
          ]
        },
        {
          "output_type": "stream",
          "name": "stderr",
          "text": [
            "Episodes:  29%|██▉       | 147/500 [08:51<20:59,  3.57s/it]"
          ]
        },
        {
          "output_type": "stream",
          "name": "stdout",
          "text": [
            "Episode 147/500 | Avg Why: 0.6439 | Avg Inconsistency: 0.5441 | Last Entanglement: 0.990 | Last Chaoticity: 0.001\n"
          ]
        },
        {
          "output_type": "stream",
          "name": "stderr",
          "text": [
            "Episodes:  30%|██▉       | 148/500 [08:54<20:59,  3.58s/it]"
          ]
        },
        {
          "output_type": "stream",
          "name": "stdout",
          "text": [
            "Episode 148/500 | Avg Why: 0.6394 | Avg Inconsistency: 0.5016 | Last Entanglement: 0.990 | Last Chaoticity: 0.001\n"
          ]
        },
        {
          "output_type": "stream",
          "name": "stderr",
          "text": [
            "Episodes:  30%|██▉       | 149/500 [08:59<22:07,  3.78s/it]"
          ]
        },
        {
          "output_type": "stream",
          "name": "stdout",
          "text": [
            "Episode 149/500 | Avg Why: 0.6335 | Avg Inconsistency: 0.5190 | Last Entanglement: 0.990 | Last Chaoticity: 0.001\n"
          ]
        },
        {
          "output_type": "stream",
          "name": "stderr",
          "text": [
            "Episodes:  30%|███       | 150/500 [09:02<21:43,  3.72s/it]"
          ]
        },
        {
          "output_type": "stream",
          "name": "stdout",
          "text": [
            "Episode 150/500 | Avg Why: 0.6474 | Avg Inconsistency: 0.5861 | Last Entanglement: 0.990 | Last Chaoticity: 0.001\n"
          ]
        },
        {
          "output_type": "stream",
          "name": "stderr",
          "text": [
            "Episodes:  30%|███       | 151/500 [09:06<21:08,  3.63s/it]"
          ]
        },
        {
          "output_type": "stream",
          "name": "stdout",
          "text": [
            "Episode 151/500 | Avg Why: 0.6508 | Avg Inconsistency: 0.5984 | Last Entanglement: 0.990 | Last Chaoticity: 0.001\n"
          ]
        },
        {
          "output_type": "stream",
          "name": "stderr",
          "text": [
            "Episodes:  30%|███       | 152/500 [09:09<21:11,  3.65s/it]"
          ]
        },
        {
          "output_type": "stream",
          "name": "stdout",
          "text": [
            "Episode 152/500 | Avg Why: 0.6480 | Avg Inconsistency: 0.5922 | Last Entanglement: 0.990 | Last Chaoticity: 0.001\n"
          ]
        },
        {
          "output_type": "stream",
          "name": "stderr",
          "text": [
            "Episodes:  31%|███       | 153/500 [09:13<21:23,  3.70s/it]"
          ]
        },
        {
          "output_type": "stream",
          "name": "stdout",
          "text": [
            "Episode 153/500 | Avg Why: 0.6286 | Avg Inconsistency: 0.6562 | Last Entanglement: 0.990 | Last Chaoticity: 0.001\n"
          ]
        },
        {
          "output_type": "stream",
          "name": "stderr",
          "text": [
            "Episodes:  31%|███       | 154/500 [09:17<20:40,  3.58s/it]"
          ]
        },
        {
          "output_type": "stream",
          "name": "stdout",
          "text": [
            "Episode 154/500 | Avg Why: 0.6677 | Avg Inconsistency: 0.2824 | Last Entanglement: 0.990 | Last Chaoticity: 0.001\n"
          ]
        },
        {
          "output_type": "stream",
          "name": "stderr",
          "text": [
            "Episodes:  31%|███       | 155/500 [09:20<20:15,  3.52s/it]"
          ]
        },
        {
          "output_type": "stream",
          "name": "stdout",
          "text": [
            "Episode 155/500 | Avg Why: 0.6586 | Avg Inconsistency: 0.4158 | Last Entanglement: 0.990 | Last Chaoticity: 0.001\n"
          ]
        },
        {
          "output_type": "stream",
          "name": "stderr",
          "text": [
            "Episodes:  31%|███       | 156/500 [09:24<20:49,  3.63s/it]"
          ]
        },
        {
          "output_type": "stream",
          "name": "stdout",
          "text": [
            "Episode 156/500 | Avg Why: 0.6524 | Avg Inconsistency: 0.4360 | Last Entanglement: 0.990 | Last Chaoticity: 0.800\n"
          ]
        },
        {
          "output_type": "stream",
          "name": "stderr",
          "text": [
            "Episodes:  31%|███▏      | 157/500 [09:27<20:21,  3.56s/it]"
          ]
        },
        {
          "output_type": "stream",
          "name": "stdout",
          "text": [
            "Episode 157/500 | Avg Why: 0.6616 | Avg Inconsistency: 0.5517 | Last Entanglement: 0.990 | Last Chaoticity: 0.001\n"
          ]
        },
        {
          "output_type": "stream",
          "name": "stderr",
          "text": [
            "Episodes:  32%|███▏      | 158/500 [09:31<20:05,  3.53s/it]"
          ]
        },
        {
          "output_type": "stream",
          "name": "stdout",
          "text": [
            "Episode 158/500 | Avg Why: 0.6300 | Avg Inconsistency: 0.6490 | Last Entanglement: 0.990 | Last Chaoticity: 0.478\n"
          ]
        },
        {
          "output_type": "stream",
          "name": "stderr",
          "text": [
            "Episodes:  32%|███▏      | 159/500 [09:34<20:09,  3.55s/it]"
          ]
        },
        {
          "output_type": "stream",
          "name": "stdout",
          "text": [
            "Episode 159/500 | Avg Why: 0.6212 | Avg Inconsistency: 0.5426 | Last Entanglement: 0.990 | Last Chaoticity: 0.800\n"
          ]
        },
        {
          "output_type": "stream",
          "name": "stderr",
          "text": [
            "Episodes:  32%|███▏      | 160/500 [09:39<21:29,  3.79s/it]"
          ]
        },
        {
          "output_type": "stream",
          "name": "stdout",
          "text": [
            "Episode 160/500 | Avg Why: 0.6082 | Avg Inconsistency: 0.5084 | Last Entanglement: 0.990 | Last Chaoticity: 0.799\n"
          ]
        },
        {
          "output_type": "stream",
          "name": "stderr",
          "text": [
            "Episodes:  32%|███▏      | 161/500 [09:42<20:42,  3.67s/it]"
          ]
        },
        {
          "output_type": "stream",
          "name": "stdout",
          "text": [
            "Episode 161/500 | Avg Why: 0.6190 | Avg Inconsistency: 0.5600 | Last Entanglement: 0.990 | Last Chaoticity: 0.001\n"
          ]
        },
        {
          "output_type": "stream",
          "name": "stderr",
          "text": [
            "Episodes:  32%|███▏      | 162/500 [09:46<20:28,  3.63s/it]"
          ]
        },
        {
          "output_type": "stream",
          "name": "stdout",
          "text": [
            "Episode 162/500 | Avg Why: 0.6130 | Avg Inconsistency: 0.5176 | Last Entanglement: 0.990 | Last Chaoticity: 0.001\n"
          ]
        },
        {
          "output_type": "stream",
          "name": "stderr",
          "text": [
            "Episodes:  33%|███▎      | 163/500 [09:50<21:24,  3.81s/it]"
          ]
        },
        {
          "output_type": "stream",
          "name": "stdout",
          "text": [
            "Episode 163/500 | Avg Why: 0.6161 | Avg Inconsistency: 0.4803 | Last Entanglement: 0.990 | Last Chaoticity: 0.001\n"
          ]
        },
        {
          "output_type": "stream",
          "name": "stderr",
          "text": [
            "Episodes:  33%|███▎      | 164/500 [09:53<20:26,  3.65s/it]"
          ]
        },
        {
          "output_type": "stream",
          "name": "stdout",
          "text": [
            "Episode 164/500 | Avg Why: 0.5843 | Avg Inconsistency: 0.5083 | Last Entanglement: 0.990 | Last Chaoticity: 0.019\n"
          ]
        },
        {
          "output_type": "stream",
          "name": "stderr",
          "text": [
            "Episodes:  33%|███▎      | 165/500 [09:56<19:49,  3.55s/it]"
          ]
        },
        {
          "output_type": "stream",
          "name": "stdout",
          "text": [
            "Episode 165/500 | Avg Why: 0.5975 | Avg Inconsistency: 0.4992 | Last Entanglement: 0.990 | Last Chaoticity: 0.001\n"
          ]
        },
        {
          "output_type": "stream",
          "name": "stderr",
          "text": [
            "Episodes:  33%|███▎      | 166/500 [10:00<20:07,  3.61s/it]"
          ]
        },
        {
          "output_type": "stream",
          "name": "stdout",
          "text": [
            "Episode 166/500 | Avg Why: 0.6239 | Avg Inconsistency: 0.3969 | Last Entanglement: 0.990 | Last Chaoticity: 0.001\n"
          ]
        },
        {
          "output_type": "stream",
          "name": "stderr",
          "text": [
            "Episodes:  33%|███▎      | 167/500 [10:04<20:43,  3.74s/it]"
          ]
        },
        {
          "output_type": "stream",
          "name": "stdout",
          "text": [
            "Episode 167/500 | Avg Why: 0.6375 | Avg Inconsistency: 0.5310 | Last Entanglement: 0.990 | Last Chaoticity: 0.001\n"
          ]
        },
        {
          "output_type": "stream",
          "name": "stderr",
          "text": [
            "Episodes:  34%|███▎      | 168/500 [10:08<20:17,  3.67s/it]"
          ]
        },
        {
          "output_type": "stream",
          "name": "stdout",
          "text": [
            "Episode 168/500 | Avg Why: 0.6573 | Avg Inconsistency: 0.5993 | Last Entanglement: 0.990 | Last Chaoticity: 0.001\n"
          ]
        },
        {
          "output_type": "stream",
          "name": "stderr",
          "text": [
            "Episodes:  34%|███▍      | 169/500 [10:11<19:55,  3.61s/it]"
          ]
        },
        {
          "output_type": "stream",
          "name": "stdout",
          "text": [
            "Episode 169/500 | Avg Why: 0.6469 | Avg Inconsistency: 0.6334 | Last Entanglement: 0.990 | Last Chaoticity: 0.001\n"
          ]
        },
        {
          "output_type": "stream",
          "name": "stderr",
          "text": [
            "Episodes:  34%|███▍      | 170/500 [10:16<21:24,  3.89s/it]"
          ]
        },
        {
          "output_type": "stream",
          "name": "stdout",
          "text": [
            "Episode 170/500 | Avg Why: 0.6267 | Avg Inconsistency: 0.7034 | Last Entanglement: 0.990 | Last Chaoticity: 0.001\n"
          ]
        },
        {
          "output_type": "stream",
          "name": "stderr",
          "text": [
            "Episodes:  34%|███▍      | 171/500 [10:19<20:30,  3.74s/it]"
          ]
        },
        {
          "output_type": "stream",
          "name": "stdout",
          "text": [
            "Episode 171/500 | Avg Why: 0.5946 | Avg Inconsistency: 0.6500 | Last Entanglement: 0.990 | Last Chaoticity: 0.001\n"
          ]
        },
        {
          "output_type": "stream",
          "name": "stderr",
          "text": [
            "Episodes:  34%|███▍      | 172/500 [10:22<19:54,  3.64s/it]"
          ]
        },
        {
          "output_type": "stream",
          "name": "stdout",
          "text": [
            "Episode 172/500 | Avg Why: 0.6322 | Avg Inconsistency: 0.5188 | Last Entanglement: 0.990 | Last Chaoticity: 0.017\n"
          ]
        },
        {
          "output_type": "stream",
          "name": "stderr",
          "text": [
            "Episodes:  35%|███▍      | 173/500 [10:26<20:14,  3.71s/it]"
          ]
        },
        {
          "output_type": "stream",
          "name": "stdout",
          "text": [
            "Episode 173/500 | Avg Why: 0.5106 | Avg Inconsistency: 0.4589 | Last Entanglement: 0.990 | Last Chaoticity: 0.800\n"
          ]
        },
        {
          "output_type": "stream",
          "name": "stderr",
          "text": [
            "Episodes:  35%|███▍      | 174/500 [10:30<20:14,  3.73s/it]"
          ]
        },
        {
          "output_type": "stream",
          "name": "stdout",
          "text": [
            "Episode 174/500 | Avg Why: 0.4385 | Avg Inconsistency: 0.2096 | Last Entanglement: 0.990 | Last Chaoticity: 0.800\n"
          ]
        },
        {
          "output_type": "stream",
          "name": "stderr",
          "text": [
            "Episodes:  35%|███▌      | 175/500 [10:33<19:18,  3.57s/it]"
          ]
        },
        {
          "output_type": "stream",
          "name": "stdout",
          "text": [
            "Episode 175/500 | Avg Why: 0.5188 | Avg Inconsistency: 0.9311 | Last Entanglement: 0.990 | Last Chaoticity: 0.800\n"
          ]
        },
        {
          "output_type": "stream",
          "name": "stderr",
          "text": [
            "Episodes:  35%|███▌      | 176/500 [10:37<19:18,  3.58s/it]"
          ]
        },
        {
          "output_type": "stream",
          "name": "stdout",
          "text": [
            "Episode 176/500 | Avg Why: 0.5263 | Avg Inconsistency: 0.9923 | Last Entanglement: 0.990 | Last Chaoticity: 0.800\n"
          ]
        },
        {
          "output_type": "stream",
          "name": "stderr",
          "text": [
            "Episodes:  35%|███▌      | 177/500 [10:41<20:33,  3.82s/it]"
          ]
        },
        {
          "output_type": "stream",
          "name": "stdout",
          "text": [
            "Episode 177/500 | Avg Why: 0.5074 | Avg Inconsistency: 0.9933 | Last Entanglement: 0.990 | Last Chaoticity: 0.800\n"
          ]
        },
        {
          "output_type": "stream",
          "name": "stderr",
          "text": [
            "Episodes:  36%|███▌      | 178/500 [10:45<19:41,  3.67s/it]"
          ]
        },
        {
          "output_type": "stream",
          "name": "stdout",
          "text": [
            "Episode 178/500 | Avg Why: 0.5104 | Avg Inconsistency: 0.9964 | Last Entanglement: 0.990 | Last Chaoticity: 0.800\n"
          ]
        },
        {
          "output_type": "stream",
          "name": "stderr",
          "text": [
            "Episodes:  36%|███▌      | 179/500 [10:48<18:56,  3.54s/it]"
          ]
        },
        {
          "output_type": "stream",
          "name": "stdout",
          "text": [
            "Episode 179/500 | Avg Why: 0.5118 | Avg Inconsistency: 0.9964 | Last Entanglement: 0.990 | Last Chaoticity: 0.800\n"
          ]
        },
        {
          "output_type": "stream",
          "name": "stderr",
          "text": [
            "Episodes:  36%|███▌      | 180/500 [10:52<19:21,  3.63s/it]"
          ]
        },
        {
          "output_type": "stream",
          "name": "stdout",
          "text": [
            "Episode 180/500 | Avg Why: 0.5169 | Avg Inconsistency: 0.9972 | Last Entanglement: 0.990 | Last Chaoticity: 0.800\n"
          ]
        },
        {
          "output_type": "stream",
          "name": "stderr",
          "text": [
            "Episodes:  36%|███▌      | 181/500 [10:55<19:25,  3.65s/it]"
          ]
        },
        {
          "output_type": "stream",
          "name": "stdout",
          "text": [
            "Episode 181/500 | Avg Why: 0.5157 | Avg Inconsistency: 0.9978 | Last Entanglement: 0.990 | Last Chaoticity: 0.800\n"
          ]
        },
        {
          "output_type": "stream",
          "name": "stderr",
          "text": [
            "Episodes:  36%|███▋      | 182/500 [10:59<19:16,  3.64s/it]"
          ]
        },
        {
          "output_type": "stream",
          "name": "stdout",
          "text": [
            "Episode 182/500 | Avg Why: 0.5213 | Avg Inconsistency: 0.9980 | Last Entanglement: 0.990 | Last Chaoticity: 0.800\n"
          ]
        },
        {
          "output_type": "stream",
          "name": "stderr",
          "text": [
            "Episodes:  37%|███▋      | 183/500 [11:03<19:19,  3.66s/it]"
          ]
        },
        {
          "output_type": "stream",
          "name": "stdout",
          "text": [
            "Episode 183/500 | Avg Why: 0.5201 | Avg Inconsistency: 0.9980 | Last Entanglement: 0.990 | Last Chaoticity: 0.800\n"
          ]
        },
        {
          "output_type": "stream",
          "name": "stderr",
          "text": [
            "Episodes:  37%|███▋      | 184/500 [11:07<19:43,  3.75s/it]"
          ]
        },
        {
          "output_type": "stream",
          "name": "stdout",
          "text": [
            "Episode 184/500 | Avg Why: 0.5229 | Avg Inconsistency: 0.9983 | Last Entanglement: 0.990 | Last Chaoticity: 0.800\n"
          ]
        },
        {
          "output_type": "stream",
          "name": "stderr",
          "text": [
            "Episodes:  37%|███▋      | 185/500 [11:10<19:27,  3.71s/it]"
          ]
        },
        {
          "output_type": "stream",
          "name": "stdout",
          "text": [
            "Episode 185/500 | Avg Why: 0.5202 | Avg Inconsistency: 0.9978 | Last Entanglement: 0.990 | Last Chaoticity: 0.800\n"
          ]
        },
        {
          "output_type": "stream",
          "name": "stderr",
          "text": [
            "Episodes:  37%|███▋      | 186/500 [11:14<18:53,  3.61s/it]"
          ]
        },
        {
          "output_type": "stream",
          "name": "stdout",
          "text": [
            "Episode 186/500 | Avg Why: 0.5227 | Avg Inconsistency: 0.9985 | Last Entanglement: 0.990 | Last Chaoticity: 0.800\n"
          ]
        },
        {
          "output_type": "stream",
          "name": "stderr",
          "text": [
            "Episodes:  37%|███▋      | 187/500 [11:18<19:26,  3.73s/it]"
          ]
        },
        {
          "output_type": "stream",
          "name": "stdout",
          "text": [
            "Episode 187/500 | Avg Why: 0.5248 | Avg Inconsistency: 0.9984 | Last Entanglement: 0.990 | Last Chaoticity: 0.800\n"
          ]
        },
        {
          "output_type": "stream",
          "name": "stderr",
          "text": [
            "Episodes:  38%|███▊      | 188/500 [11:21<18:59,  3.65s/it]"
          ]
        },
        {
          "output_type": "stream",
          "name": "stdout",
          "text": [
            "Episode 188/500 | Avg Why: 0.5290 | Avg Inconsistency: 0.9983 | Last Entanglement: 0.990 | Last Chaoticity: 0.800\n"
          ]
        },
        {
          "output_type": "stream",
          "name": "stderr",
          "text": [
            "Episodes:  38%|███▊      | 189/500 [11:25<19:19,  3.73s/it]"
          ]
        },
        {
          "output_type": "stream",
          "name": "stdout",
          "text": [
            "Episode 189/500 | Avg Why: 0.5321 | Avg Inconsistency: 0.9984 | Last Entanglement: 0.990 | Last Chaoticity: 0.800\n"
          ]
        },
        {
          "output_type": "stream",
          "name": "stderr",
          "text": [
            "Episodes:  38%|███▊      | 190/500 [11:29<19:50,  3.84s/it]"
          ]
        },
        {
          "output_type": "stream",
          "name": "stdout",
          "text": [
            "Episode 190/500 | Avg Why: 0.5257 | Avg Inconsistency: 0.9982 | Last Entanglement: 0.990 | Last Chaoticity: 0.800\n"
          ]
        },
        {
          "output_type": "stream",
          "name": "stderr",
          "text": [
            "Episodes:  38%|███▊      | 191/500 [11:33<19:34,  3.80s/it]"
          ]
        },
        {
          "output_type": "stream",
          "name": "stdout",
          "text": [
            "Episode 191/500 | Avg Why: 0.5247 | Avg Inconsistency: 0.9983 | Last Entanglement: 0.990 | Last Chaoticity: 0.800\n"
          ]
        },
        {
          "output_type": "stream",
          "name": "stderr",
          "text": [
            "Episodes:  38%|███▊      | 192/500 [11:36<18:46,  3.66s/it]"
          ]
        },
        {
          "output_type": "stream",
          "name": "stdout",
          "text": [
            "Episode 192/500 | Avg Why: 0.5249 | Avg Inconsistency: 0.9983 | Last Entanglement: 0.990 | Last Chaoticity: 0.800\n"
          ]
        },
        {
          "output_type": "stream",
          "name": "stderr",
          "text": [
            "Episodes:  39%|███▊      | 193/500 [11:40<18:31,  3.62s/it]"
          ]
        },
        {
          "output_type": "stream",
          "name": "stdout",
          "text": [
            "Episode 193/500 | Avg Why: 0.5257 | Avg Inconsistency: 0.9987 | Last Entanglement: 0.990 | Last Chaoticity: 0.800\n"
          ]
        },
        {
          "output_type": "stream",
          "name": "stderr",
          "text": [
            "Episodes:  39%|███▉      | 194/500 [11:44<19:27,  3.81s/it]"
          ]
        },
        {
          "output_type": "stream",
          "name": "stdout",
          "text": [
            "Episode 194/500 | Avg Why: 0.5291 | Avg Inconsistency: 0.9987 | Last Entanglement: 0.990 | Last Chaoticity: 0.800\n"
          ]
        },
        {
          "output_type": "stream",
          "name": "stderr",
          "text": [
            "Episodes:  39%|███▉      | 195/500 [11:47<18:45,  3.69s/it]"
          ]
        },
        {
          "output_type": "stream",
          "name": "stdout",
          "text": [
            "Episode 195/500 | Avg Why: 0.5276 | Avg Inconsistency: 0.9989 | Last Entanglement: 0.990 | Last Chaoticity: 0.800\n"
          ]
        },
        {
          "output_type": "stream",
          "name": "stderr",
          "text": [
            "Episodes:  39%|███▉      | 196/500 [11:51<18:37,  3.68s/it]"
          ]
        },
        {
          "output_type": "stream",
          "name": "stdout",
          "text": [
            "Episode 196/500 | Avg Why: 0.5225 | Avg Inconsistency: 0.9990 | Last Entanglement: 0.990 | Last Chaoticity: 0.800\n"
          ]
        },
        {
          "output_type": "stream",
          "name": "stderr",
          "text": [
            "Episodes:  39%|███▉      | 197/500 [11:55<19:11,  3.80s/it]"
          ]
        },
        {
          "output_type": "stream",
          "name": "stdout",
          "text": [
            "Episode 197/500 | Avg Why: 0.5226 | Avg Inconsistency: 0.9990 | Last Entanglement: 0.990 | Last Chaoticity: 0.800\n"
          ]
        },
        {
          "output_type": "stream",
          "name": "stderr",
          "text": [
            "Episodes:  40%|███▉      | 198/500 [11:59<18:38,  3.70s/it]"
          ]
        },
        {
          "output_type": "stream",
          "name": "stdout",
          "text": [
            "Episode 198/500 | Avg Why: 0.5212 | Avg Inconsistency: 0.9988 | Last Entanglement: 0.990 | Last Chaoticity: 0.800\n"
          ]
        },
        {
          "output_type": "stream",
          "name": "stderr",
          "text": [
            "Episodes:  40%|███▉      | 199/500 [12:02<18:26,  3.68s/it]"
          ]
        },
        {
          "output_type": "stream",
          "name": "stdout",
          "text": [
            "Episode 199/500 | Avg Why: 0.5294 | Avg Inconsistency: 0.9988 | Last Entanglement: 0.990 | Last Chaoticity: 0.800\n"
          ]
        },
        {
          "output_type": "stream",
          "name": "stderr",
          "text": [
            "Episodes:  40%|████      | 200/500 [12:06<18:33,  3.71s/it]"
          ]
        },
        {
          "output_type": "stream",
          "name": "stdout",
          "text": [
            "Episode 200/500 | Avg Why: 0.5242 | Avg Inconsistency: 0.9987 | Last Entanglement: 0.990 | Last Chaoticity: 0.800\n"
          ]
        },
        {
          "output_type": "stream",
          "name": "stderr",
          "text": [
            "Episodes:  40%|████      | 201/500 [12:10<19:18,  3.87s/it]"
          ]
        },
        {
          "output_type": "stream",
          "name": "stdout",
          "text": [
            "Episode 201/500 | Avg Why: 0.5060 | Avg Inconsistency: 0.9986 | Last Entanglement: 0.990 | Last Chaoticity: 0.800\n"
          ]
        },
        {
          "output_type": "stream",
          "name": "stderr",
          "text": [
            "Episodes:  40%|████      | 202/500 [12:14<18:35,  3.74s/it]"
          ]
        },
        {
          "output_type": "stream",
          "name": "stdout",
          "text": [
            "Episode 202/500 | Avg Why: 0.5121 | Avg Inconsistency: 0.9984 | Last Entanglement: 0.990 | Last Chaoticity: 0.800\n"
          ]
        },
        {
          "output_type": "stream",
          "name": "stderr",
          "text": [
            "Episodes:  41%|████      | 203/500 [12:17<17:56,  3.63s/it]"
          ]
        },
        {
          "output_type": "stream",
          "name": "stdout",
          "text": [
            "Episode 203/500 | Avg Why: 0.5040 | Avg Inconsistency: 0.9988 | Last Entanglement: 0.990 | Last Chaoticity: 0.800\n"
          ]
        },
        {
          "output_type": "stream",
          "name": "stderr",
          "text": [
            "Episodes:  41%|████      | 204/500 [12:21<18:46,  3.80s/it]"
          ]
        },
        {
          "output_type": "stream",
          "name": "stdout",
          "text": [
            "Episode 204/500 | Avg Why: 0.5054 | Avg Inconsistency: 0.9989 | Last Entanglement: 0.990 | Last Chaoticity: 0.800\n"
          ]
        },
        {
          "output_type": "stream",
          "name": "stderr",
          "text": [
            "Episodes:  41%|████      | 205/500 [12:25<18:23,  3.74s/it]"
          ]
        },
        {
          "output_type": "stream",
          "name": "stdout",
          "text": [
            "Episode 205/500 | Avg Why: 0.5080 | Avg Inconsistency: 0.9990 | Last Entanglement: 0.990 | Last Chaoticity: 0.800\n"
          ]
        },
        {
          "output_type": "stream",
          "name": "stderr",
          "text": [
            "Episodes:  41%|████      | 206/500 [12:28<17:53,  3.65s/it]"
          ]
        },
        {
          "output_type": "stream",
          "name": "stdout",
          "text": [
            "Episode 206/500 | Avg Why: 0.5085 | Avg Inconsistency: 0.9991 | Last Entanglement: 0.990 | Last Chaoticity: 0.800\n"
          ]
        },
        {
          "output_type": "stream",
          "name": "stderr",
          "text": [
            "Episodes:  41%|████▏     | 207/500 [12:32<18:04,  3.70s/it]"
          ]
        },
        {
          "output_type": "stream",
          "name": "stdout",
          "text": [
            "Episode 207/500 | Avg Why: 0.5115 | Avg Inconsistency: 0.9991 | Last Entanglement: 0.990 | Last Chaoticity: 0.800\n"
          ]
        },
        {
          "output_type": "stream",
          "name": "stderr",
          "text": [
            "Episodes:  42%|████▏     | 208/500 [12:36<18:31,  3.81s/it]"
          ]
        },
        {
          "output_type": "stream",
          "name": "stdout",
          "text": [
            "Episode 208/500 | Avg Why: 0.5026 | Avg Inconsistency: 0.9990 | Last Entanglement: 0.990 | Last Chaoticity: 0.800\n"
          ]
        },
        {
          "output_type": "stream",
          "name": "stderr",
          "text": [
            "Episodes:  42%|████▏     | 209/500 [12:40<18:05,  3.73s/it]"
          ]
        },
        {
          "output_type": "stream",
          "name": "stdout",
          "text": [
            "Episode 209/500 | Avg Why: 0.5058 | Avg Inconsistency: 0.9989 | Last Entanglement: 0.990 | Last Chaoticity: 0.666\n"
          ]
        },
        {
          "output_type": "stream",
          "name": "stderr",
          "text": [
            "Episodes:  42%|████▏     | 210/500 [12:43<17:42,  3.66s/it]"
          ]
        },
        {
          "output_type": "stream",
          "name": "stdout",
          "text": [
            "Episode 210/500 | Avg Why: 0.5105 | Avg Inconsistency: 0.9989 | Last Entanglement: 0.990 | Last Chaoticity: 0.503\n"
          ]
        },
        {
          "output_type": "stream",
          "name": "stderr",
          "text": [
            "Episodes:  42%|████▏     | 211/500 [12:48<18:39,  3.87s/it]"
          ]
        },
        {
          "output_type": "stream",
          "name": "stdout",
          "text": [
            "Episode 211/500 | Avg Why: 0.5137 | Avg Inconsistency: 0.9989 | Last Entanglement: 0.990 | Last Chaoticity: 0.504\n"
          ]
        },
        {
          "output_type": "stream",
          "name": "stderr",
          "text": [
            "Episodes:  42%|████▏     | 212/500 [12:51<18:00,  3.75s/it]"
          ]
        },
        {
          "output_type": "stream",
          "name": "stdout",
          "text": [
            "Episode 212/500 | Avg Why: 0.5120 | Avg Inconsistency: 0.9990 | Last Entanglement: 0.990 | Last Chaoticity: 0.047\n"
          ]
        },
        {
          "output_type": "stream",
          "name": "stderr",
          "text": [
            "Episodes:  43%|████▎     | 213/500 [12:55<17:40,  3.70s/it]"
          ]
        },
        {
          "output_type": "stream",
          "name": "stdout",
          "text": [
            "Episode 213/500 | Avg Why: 0.5125 | Avg Inconsistency: 0.9989 | Last Entanglement: 0.990 | Last Chaoticity: 0.328\n"
          ]
        },
        {
          "output_type": "stream",
          "name": "stderr",
          "text": [
            "Episodes:  43%|████▎     | 214/500 [12:59<18:08,  3.81s/it]"
          ]
        },
        {
          "output_type": "stream",
          "name": "stdout",
          "text": [
            "Episode 214/500 | Avg Why: 0.5096 | Avg Inconsistency: 0.9986 | Last Entanglement: 0.990 | Last Chaoticity: 0.300\n"
          ]
        },
        {
          "output_type": "stream",
          "name": "stderr",
          "text": [
            "Episodes:  43%|████▎     | 215/500 [13:02<17:41,  3.73s/it]"
          ]
        },
        {
          "output_type": "stream",
          "name": "stdout",
          "text": [
            "Episode 215/500 | Avg Why: 0.5185 | Avg Inconsistency: 0.9986 | Last Entanglement: 0.990 | Last Chaoticity: 0.001\n"
          ]
        },
        {
          "output_type": "stream",
          "name": "stderr",
          "text": [
            "Episodes:  43%|████▎     | 216/500 [13:06<17:31,  3.70s/it]"
          ]
        },
        {
          "output_type": "stream",
          "name": "stdout",
          "text": [
            "Episode 216/500 | Avg Why: 0.5205 | Avg Inconsistency: 0.9987 | Last Entanglement: 0.990 | Last Chaoticity: 0.001\n"
          ]
        },
        {
          "output_type": "stream",
          "name": "stderr",
          "text": [
            "Episodes:  43%|████▎     | 217/500 [13:10<17:36,  3.73s/it]"
          ]
        },
        {
          "output_type": "stream",
          "name": "stdout",
          "text": [
            "Episode 217/500 | Avg Why: 0.5042 | Avg Inconsistency: 0.9988 | Last Entanglement: 0.990 | Last Chaoticity: 0.001\n"
          ]
        },
        {
          "output_type": "stream",
          "name": "stderr",
          "text": [
            "Episodes:  44%|████▎     | 218/500 [13:13<17:41,  3.76s/it]"
          ]
        },
        {
          "output_type": "stream",
          "name": "stdout",
          "text": [
            "Episode 218/500 | Avg Why: 0.5059 | Avg Inconsistency: 0.9989 | Last Entanglement: 0.990 | Last Chaoticity: 0.001\n"
          ]
        },
        {
          "output_type": "stream",
          "name": "stderr",
          "text": [
            "Episodes:  44%|████▍     | 219/500 [13:17<17:10,  3.67s/it]"
          ]
        },
        {
          "output_type": "stream",
          "name": "stdout",
          "text": [
            "Episode 219/500 | Avg Why: 0.5014 | Avg Inconsistency: 0.9989 | Last Entanglement: 0.990 | Last Chaoticity: 0.001\n"
          ]
        },
        {
          "output_type": "stream",
          "name": "stderr",
          "text": [
            "Episodes:  44%|████▍     | 220/500 [13:21<17:03,  3.65s/it]"
          ]
        },
        {
          "output_type": "stream",
          "name": "stdout",
          "text": [
            "Episode 220/500 | Avg Why: 0.4901 | Avg Inconsistency: 0.9988 | Last Entanglement: 0.990 | Last Chaoticity: 0.001\n"
          ]
        },
        {
          "output_type": "stream",
          "name": "stderr",
          "text": [
            "Episodes:  44%|████▍     | 221/500 [13:25<17:45,  3.82s/it]"
          ]
        },
        {
          "output_type": "stream",
          "name": "stdout",
          "text": [
            "Episode 221/500 | Avg Why: 0.5022 | Avg Inconsistency: 0.9987 | Last Entanglement: 0.990 | Last Chaoticity: 0.001\n"
          ]
        },
        {
          "output_type": "stream",
          "name": "stderr",
          "text": [
            "Episodes:  44%|████▍     | 222/500 [13:28<17:14,  3.72s/it]"
          ]
        },
        {
          "output_type": "stream",
          "name": "stdout",
          "text": [
            "Episode 222/500 | Avg Why: 0.4956 | Avg Inconsistency: 0.9986 | Last Entanglement: 0.990 | Last Chaoticity: 0.001\n"
          ]
        },
        {
          "output_type": "stream",
          "name": "stderr",
          "text": [
            "Episodes:  45%|████▍     | 223/500 [13:32<16:53,  3.66s/it]"
          ]
        },
        {
          "output_type": "stream",
          "name": "stdout",
          "text": [
            "Episode 223/500 | Avg Why: 0.4984 | Avg Inconsistency: 0.9984 | Last Entanglement: 0.990 | Last Chaoticity: 0.001\n"
          ]
        },
        {
          "output_type": "stream",
          "name": "stderr",
          "text": [
            "Episodes:  45%|████▍     | 224/500 [13:35<16:46,  3.65s/it]"
          ]
        },
        {
          "output_type": "stream",
          "name": "stdout",
          "text": [
            "Episode 224/500 | Avg Why: 0.5005 | Avg Inconsistency: 0.9985 | Last Entanglement: 0.990 | Last Chaoticity: 0.001\n"
          ]
        },
        {
          "output_type": "stream",
          "name": "stderr",
          "text": [
            "Episodes:  45%|████▌     | 225/500 [13:39<16:58,  3.70s/it]"
          ]
        },
        {
          "output_type": "stream",
          "name": "stdout",
          "text": [
            "Episode 225/500 | Avg Why: 0.4967 | Avg Inconsistency: 0.9986 | Last Entanglement: 0.990 | Last Chaoticity: 0.001\n"
          ]
        },
        {
          "output_type": "stream",
          "name": "stderr",
          "text": [
            "Episodes:  45%|████▌     | 226/500 [13:43<16:27,  3.61s/it]"
          ]
        },
        {
          "output_type": "stream",
          "name": "stdout",
          "text": [
            "Episode 226/500 | Avg Why: 0.4921 | Avg Inconsistency: 0.9978 | Last Entanglement: 0.990 | Last Chaoticity: 0.001\n"
          ]
        },
        {
          "output_type": "stream",
          "name": "stderr",
          "text": [
            "Episodes:  45%|████▌     | 227/500 [13:46<15:51,  3.48s/it]"
          ]
        },
        {
          "output_type": "stream",
          "name": "stdout",
          "text": [
            "Episode 227/500 | Avg Why: 0.4849 | Avg Inconsistency: 0.9979 | Last Entanglement: 0.990 | Last Chaoticity: 0.001\n"
          ]
        },
        {
          "output_type": "stream",
          "name": "stderr",
          "text": [
            "Episodes:  46%|████▌     | 228/500 [13:50<16:53,  3.73s/it]"
          ]
        },
        {
          "output_type": "stream",
          "name": "stdout",
          "text": [
            "Episode 228/500 | Avg Why: 0.4797 | Avg Inconsistency: 0.9984 | Last Entanglement: 0.990 | Last Chaoticity: 0.001\n"
          ]
        },
        {
          "output_type": "stream",
          "name": "stderr",
          "text": [
            "Episodes:  46%|████▌     | 229/500 [13:53<16:19,  3.61s/it]"
          ]
        },
        {
          "output_type": "stream",
          "name": "stdout",
          "text": [
            "Episode 229/500 | Avg Why: 0.4899 | Avg Inconsistency: 0.9984 | Last Entanglement: 0.990 | Last Chaoticity: 0.001\n"
          ]
        },
        {
          "output_type": "stream",
          "name": "stderr",
          "text": [
            "Episodes:  46%|████▌     | 230/500 [13:57<15:55,  3.54s/it]"
          ]
        },
        {
          "output_type": "stream",
          "name": "stdout",
          "text": [
            "Episode 230/500 | Avg Why: 0.4830 | Avg Inconsistency: 0.9977 | Last Entanglement: 0.990 | Last Chaoticity: 0.001\n"
          ]
        },
        {
          "output_type": "stream",
          "name": "stderr",
          "text": [
            "Episodes:  46%|████▌     | 231/500 [14:01<16:27,  3.67s/it]"
          ]
        },
        {
          "output_type": "stream",
          "name": "stdout",
          "text": [
            "Episode 231/500 | Avg Why: 0.4759 | Avg Inconsistency: 0.9980 | Last Entanglement: 0.990 | Last Chaoticity: 0.001\n"
          ]
        },
        {
          "output_type": "stream",
          "name": "stderr",
          "text": [
            "Episodes:  46%|████▋     | 232/500 [14:05<16:59,  3.81s/it]"
          ]
        },
        {
          "output_type": "stream",
          "name": "stdout",
          "text": [
            "Episode 232/500 | Avg Why: 0.4823 | Avg Inconsistency: 0.9980 | Last Entanglement: 0.990 | Last Chaoticity: 0.001\n"
          ]
        },
        {
          "output_type": "stream",
          "name": "stderr",
          "text": [
            "Episodes:  47%|████▋     | 233/500 [14:09<16:52,  3.79s/it]"
          ]
        },
        {
          "output_type": "stream",
          "name": "stdout",
          "text": [
            "Episode 233/500 | Avg Why: 0.4745 | Avg Inconsistency: 0.9977 | Last Entanglement: 0.990 | Last Chaoticity: 0.001\n"
          ]
        },
        {
          "output_type": "stream",
          "name": "stderr",
          "text": [
            "Episodes:  47%|████▋     | 234/500 [14:12<16:48,  3.79s/it]"
          ]
        },
        {
          "output_type": "stream",
          "name": "stdout",
          "text": [
            "Episode 234/500 | Avg Why: 0.4702 | Avg Inconsistency: 0.9981 | Last Entanglement: 0.990 | Last Chaoticity: 0.001\n"
          ]
        },
        {
          "output_type": "stream",
          "name": "stderr",
          "text": [
            "Episodes:  47%|████▋     | 235/500 [14:17<17:08,  3.88s/it]"
          ]
        },
        {
          "output_type": "stream",
          "name": "stdout",
          "text": [
            "Episode 235/500 | Avg Why: 0.4732 | Avg Inconsistency: 0.9978 | Last Entanglement: 0.990 | Last Chaoticity: 0.001\n"
          ]
        },
        {
          "output_type": "stream",
          "name": "stderr",
          "text": [
            "Episodes:  47%|████▋     | 236/500 [14:20<16:42,  3.80s/it]"
          ]
        },
        {
          "output_type": "stream",
          "name": "stdout",
          "text": [
            "Episode 236/500 | Avg Why: 0.4739 | Avg Inconsistency: 0.9981 | Last Entanglement: 0.990 | Last Chaoticity: 0.001\n"
          ]
        },
        {
          "output_type": "stream",
          "name": "stderr",
          "text": [
            "Episodes:  47%|████▋     | 237/500 [14:24<16:17,  3.72s/it]"
          ]
        },
        {
          "output_type": "stream",
          "name": "stdout",
          "text": [
            "Episode 237/500 | Avg Why: 0.4794 | Avg Inconsistency: 0.9979 | Last Entanglement: 0.990 | Last Chaoticity: 0.001\n"
          ]
        },
        {
          "output_type": "stream",
          "name": "stderr",
          "text": [
            "Episodes:  48%|████▊     | 238/500 [14:28<16:55,  3.88s/it]"
          ]
        },
        {
          "output_type": "stream",
          "name": "stdout",
          "text": [
            "Episode 238/500 | Avg Why: 0.4795 | Avg Inconsistency: 0.9981 | Last Entanglement: 0.990 | Last Chaoticity: 0.001\n"
          ]
        },
        {
          "output_type": "stream",
          "name": "stderr",
          "text": [
            "Episodes:  48%|████▊     | 239/500 [14:31<16:18,  3.75s/it]"
          ]
        },
        {
          "output_type": "stream",
          "name": "stdout",
          "text": [
            "Episode 239/500 | Avg Why: 0.4772 | Avg Inconsistency: 0.9978 | Last Entanglement: 0.990 | Last Chaoticity: 0.001\n"
          ]
        },
        {
          "output_type": "stream",
          "name": "stderr",
          "text": [
            "Episodes:  48%|████▊     | 240/500 [14:35<15:46,  3.64s/it]"
          ]
        },
        {
          "output_type": "stream",
          "name": "stdout",
          "text": [
            "Episode 240/500 | Avg Why: 0.4765 | Avg Inconsistency: 0.9982 | Last Entanglement: 0.990 | Last Chaoticity: 0.001\n"
          ]
        },
        {
          "output_type": "stream",
          "name": "stderr",
          "text": [
            "Episodes:  48%|████▊     | 241/500 [14:38<15:48,  3.66s/it]"
          ]
        },
        {
          "output_type": "stream",
          "name": "stdout",
          "text": [
            "Episode 241/500 | Avg Why: 0.4752 | Avg Inconsistency: 0.9981 | Last Entanglement: 0.990 | Last Chaoticity: 0.001\n"
          ]
        },
        {
          "output_type": "stream",
          "name": "stderr",
          "text": [
            "Episodes:  48%|████▊     | 242/500 [14:42<16:02,  3.73s/it]"
          ]
        },
        {
          "output_type": "stream",
          "name": "stdout",
          "text": [
            "Episode 242/500 | Avg Why: 0.4712 | Avg Inconsistency: 0.9976 | Last Entanglement: 0.990 | Last Chaoticity: 0.001\n"
          ]
        },
        {
          "output_type": "stream",
          "name": "stderr",
          "text": [
            "Episodes:  49%|████▊     | 243/500 [14:46<15:49,  3.70s/it]"
          ]
        },
        {
          "output_type": "stream",
          "name": "stdout",
          "text": [
            "Episode 243/500 | Avg Why: 0.4923 | Avg Inconsistency: 0.9974 | Last Entanglement: 0.990 | Last Chaoticity: 0.001\n"
          ]
        },
        {
          "output_type": "stream",
          "name": "stderr",
          "text": [
            "Episodes:  49%|████▉     | 244/500 [14:50<15:32,  3.64s/it]"
          ]
        },
        {
          "output_type": "stream",
          "name": "stdout",
          "text": [
            "Episode 244/500 | Avg Why: 0.4861 | Avg Inconsistency: 0.9982 | Last Entanglement: 0.990 | Last Chaoticity: 0.001\n"
          ]
        },
        {
          "output_type": "stream",
          "name": "stderr",
          "text": [
            "Episodes:  49%|████▉     | 245/500 [14:54<16:08,  3.80s/it]"
          ]
        },
        {
          "output_type": "stream",
          "name": "stdout",
          "text": [
            "Episode 245/500 | Avg Why: 0.4902 | Avg Inconsistency: 0.9986 | Last Entanglement: 0.990 | Last Chaoticity: 0.001\n"
          ]
        },
        {
          "output_type": "stream",
          "name": "stderr",
          "text": [
            "Episodes:  49%|████▉     | 246/500 [14:57<15:25,  3.64s/it]"
          ]
        },
        {
          "output_type": "stream",
          "name": "stdout",
          "text": [
            "Episode 246/500 | Avg Why: 0.4852 | Avg Inconsistency: 0.9987 | Last Entanglement: 0.990 | Last Chaoticity: 0.001\n"
          ]
        },
        {
          "output_type": "stream",
          "name": "stderr",
          "text": [
            "Episodes:  49%|████▉     | 247/500 [15:01<15:18,  3.63s/it]"
          ]
        },
        {
          "output_type": "stream",
          "name": "stdout",
          "text": [
            "Episode 247/500 | Avg Why: 0.4761 | Avg Inconsistency: 0.9987 | Last Entanglement: 0.990 | Last Chaoticity: 0.001\n"
          ]
        },
        {
          "output_type": "stream",
          "name": "stderr",
          "text": [
            "Episodes:  50%|████▉     | 248/500 [15:04<15:36,  3.71s/it]"
          ]
        },
        {
          "output_type": "stream",
          "name": "stdout",
          "text": [
            "Episode 248/500 | Avg Why: 0.4772 | Avg Inconsistency: 0.9989 | Last Entanglement: 0.990 | Last Chaoticity: 0.001\n"
          ]
        },
        {
          "output_type": "stream",
          "name": "stderr",
          "text": [
            "Episodes:  50%|████▉     | 249/500 [15:08<15:38,  3.74s/it]"
          ]
        },
        {
          "output_type": "stream",
          "name": "stdout",
          "text": [
            "Episode 249/500 | Avg Why: 0.4766 | Avg Inconsistency: 0.9988 | Last Entanglement: 0.990 | Last Chaoticity: 0.001\n"
          ]
        },
        {
          "output_type": "stream",
          "name": "stderr",
          "text": [
            "Episodes:  50%|█████     | 250/500 [15:12<14:59,  3.60s/it]"
          ]
        },
        {
          "output_type": "stream",
          "name": "stdout",
          "text": [
            "Episode 250/500 | Avg Why: 0.4565 | Avg Inconsistency: 0.9953 | Last Entanglement: 0.990 | Last Chaoticity: 0.001\n"
          ]
        },
        {
          "output_type": "stream",
          "name": "stderr",
          "text": [
            "Episodes:  50%|█████     | 251/500 [15:15<14:48,  3.57s/it]"
          ]
        },
        {
          "output_type": "stream",
          "name": "stdout",
          "text": [
            "Episode 251/500 | Avg Why: 0.4434 | Avg Inconsistency: 0.9902 | Last Entanglement: 0.990 | Last Chaoticity: 0.001\n"
          ]
        },
        {
          "output_type": "stream",
          "name": "stderr",
          "text": [
            "Episodes:  50%|█████     | 252/500 [15:19<15:08,  3.66s/it]"
          ]
        },
        {
          "output_type": "stream",
          "name": "stdout",
          "text": [
            "Episode 252/500 | Avg Why: 0.4476 | Avg Inconsistency: 0.9882 | Last Entanglement: 0.990 | Last Chaoticity: 0.001\n"
          ]
        },
        {
          "output_type": "stream",
          "name": "stderr",
          "text": [
            "Episodes:  51%|█████     | 253/500 [15:22<14:39,  3.56s/it]"
          ]
        },
        {
          "output_type": "stream",
          "name": "stdout",
          "text": [
            "Episode 253/500 | Avg Why: 0.4539 | Avg Inconsistency: 0.9959 | Last Entanglement: 0.990 | Last Chaoticity: 0.001\n"
          ]
        },
        {
          "output_type": "stream",
          "name": "stderr",
          "text": [
            "Episodes:  51%|█████     | 254/500 [15:26<14:33,  3.55s/it]"
          ]
        },
        {
          "output_type": "stream",
          "name": "stdout",
          "text": [
            "Episode 254/500 | Avg Why: 0.4506 | Avg Inconsistency: 0.9983 | Last Entanglement: 0.990 | Last Chaoticity: 0.001\n"
          ]
        },
        {
          "output_type": "stream",
          "name": "stderr",
          "text": [
            "Episodes:  51%|█████     | 255/500 [15:30<15:16,  3.74s/it]"
          ]
        },
        {
          "output_type": "stream",
          "name": "stdout",
          "text": [
            "Episode 255/500 | Avg Why: 0.4505 | Avg Inconsistency: 0.9983 | Last Entanglement: 0.990 | Last Chaoticity: 0.001\n"
          ]
        },
        {
          "output_type": "stream",
          "name": "stderr",
          "text": [
            "Episodes:  51%|█████     | 256/500 [15:34<15:12,  3.74s/it]"
          ]
        },
        {
          "output_type": "stream",
          "name": "stdout",
          "text": [
            "Episode 256/500 | Avg Why: 0.4420 | Avg Inconsistency: 0.9987 | Last Entanglement: 0.990 | Last Chaoticity: 0.001\n"
          ]
        },
        {
          "output_type": "stream",
          "name": "stderr",
          "text": [
            "Episodes:  51%|█████▏    | 257/500 [15:37<14:40,  3.63s/it]"
          ]
        },
        {
          "output_type": "stream",
          "name": "stdout",
          "text": [
            "Episode 257/500 | Avg Why: 0.4568 | Avg Inconsistency: 0.9976 | Last Entanglement: 0.990 | Last Chaoticity: 0.001\n"
          ]
        },
        {
          "output_type": "stream",
          "name": "stderr",
          "text": [
            "Episodes:  52%|█████▏    | 258/500 [15:41<14:25,  3.58s/it]"
          ]
        },
        {
          "output_type": "stream",
          "name": "stdout",
          "text": [
            "Episode 258/500 | Avg Why: 0.4598 | Avg Inconsistency: 0.9977 | Last Entanglement: 0.990 | Last Chaoticity: 0.001\n"
          ]
        },
        {
          "output_type": "stream",
          "name": "stderr",
          "text": [
            "Episodes:  52%|█████▏    | 259/500 [15:45<15:22,  3.83s/it]"
          ]
        },
        {
          "output_type": "stream",
          "name": "stdout",
          "text": [
            "Episode 259/500 | Avg Why: 0.4484 | Avg Inconsistency: 0.9969 | Last Entanglement: 0.990 | Last Chaoticity: 0.001\n"
          ]
        },
        {
          "output_type": "stream",
          "name": "stderr",
          "text": [
            "Episodes:  52%|█████▏    | 260/500 [15:49<15:07,  3.78s/it]"
          ]
        },
        {
          "output_type": "stream",
          "name": "stdout",
          "text": [
            "Episode 260/500 | Avg Why: 0.4439 | Avg Inconsistency: 0.9971 | Last Entanglement: 0.990 | Last Chaoticity: 0.001\n"
          ]
        },
        {
          "output_type": "stream",
          "name": "stderr",
          "text": [
            "Episodes:  52%|█████▏    | 261/500 [15:52<14:25,  3.62s/it]"
          ]
        },
        {
          "output_type": "stream",
          "name": "stdout",
          "text": [
            "Episode 261/500 | Avg Why: 0.4414 | Avg Inconsistency: 0.9974 | Last Entanglement: 0.990 | Last Chaoticity: 0.001\n"
          ]
        },
        {
          "output_type": "stream",
          "name": "stderr",
          "text": [
            "Episodes:  52%|█████▏    | 262/500 [15:56<15:12,  3.84s/it]"
          ]
        },
        {
          "output_type": "stream",
          "name": "stdout",
          "text": [
            "Episode 262/500 | Avg Why: 0.4415 | Avg Inconsistency: 0.9964 | Last Entanglement: 0.990 | Last Chaoticity: 0.001\n"
          ]
        },
        {
          "output_type": "stream",
          "name": "stderr",
          "text": [
            "Episodes:  53%|█████▎    | 263/500 [16:00<14:51,  3.76s/it]"
          ]
        },
        {
          "output_type": "stream",
          "name": "stdout",
          "text": [
            "Episode 263/500 | Avg Why: 0.4667 | Avg Inconsistency: 0.9982 | Last Entanglement: 0.990 | Last Chaoticity: 0.001\n"
          ]
        },
        {
          "output_type": "stream",
          "name": "stderr",
          "text": [
            "Episodes:  53%|█████▎    | 264/500 [16:03<14:29,  3.68s/it]"
          ]
        },
        {
          "output_type": "stream",
          "name": "stdout",
          "text": [
            "Episode 264/500 | Avg Why: 0.4619 | Avg Inconsistency: 0.9984 | Last Entanglement: 0.990 | Last Chaoticity: 0.001\n"
          ]
        },
        {
          "output_type": "stream",
          "name": "stderr",
          "text": [
            "Episodes:  53%|█████▎    | 265/500 [16:07<14:24,  3.68s/it]"
          ]
        },
        {
          "output_type": "stream",
          "name": "stdout",
          "text": [
            "Episode 265/500 | Avg Why: 0.4780 | Avg Inconsistency: 0.9984 | Last Entanglement: 0.990 | Last Chaoticity: 0.001\n"
          ]
        },
        {
          "output_type": "stream",
          "name": "stderr",
          "text": [
            "Episodes:  53%|█████▎    | 266/500 [16:11<14:40,  3.76s/it]"
          ]
        },
        {
          "output_type": "stream",
          "name": "stdout",
          "text": [
            "Episode 266/500 | Avg Why: 0.4790 | Avg Inconsistency: 0.9983 | Last Entanglement: 0.990 | Last Chaoticity: 0.001\n"
          ]
        },
        {
          "output_type": "stream",
          "name": "stderr",
          "text": [
            "Episodes:  53%|█████▎    | 267/500 [16:15<14:41,  3.78s/it]"
          ]
        },
        {
          "output_type": "stream",
          "name": "stdout",
          "text": [
            "Episode 267/500 | Avg Why: 0.4770 | Avg Inconsistency: 0.9986 | Last Entanglement: 0.990 | Last Chaoticity: 0.001\n"
          ]
        },
        {
          "output_type": "stream",
          "name": "stderr",
          "text": [
            "Episodes:  54%|█████▎    | 268/500 [16:19<14:38,  3.79s/it]"
          ]
        },
        {
          "output_type": "stream",
          "name": "stdout",
          "text": [
            "Episode 268/500 | Avg Why: 0.4826 | Avg Inconsistency: 0.9986 | Last Entanglement: 0.990 | Last Chaoticity: 0.001\n"
          ]
        },
        {
          "output_type": "stream",
          "name": "stderr",
          "text": [
            "Episodes:  54%|█████▍    | 269/500 [16:23<15:02,  3.91s/it]"
          ]
        },
        {
          "output_type": "stream",
          "name": "stdout",
          "text": [
            "Episode 269/500 | Avg Why: 0.4798 | Avg Inconsistency: 0.9985 | Last Entanglement: 0.990 | Last Chaoticity: 0.001\n"
          ]
        },
        {
          "output_type": "stream",
          "name": "stderr",
          "text": [
            "Episodes:  54%|█████▍    | 270/500 [16:26<14:27,  3.77s/it]"
          ]
        },
        {
          "output_type": "stream",
          "name": "stdout",
          "text": [
            "Episode 270/500 | Avg Why: 0.4793 | Avg Inconsistency: 0.9985 | Last Entanglement: 0.990 | Last Chaoticity: 0.001\n"
          ]
        },
        {
          "output_type": "stream",
          "name": "stderr",
          "text": [
            "Episodes:  54%|█████▍    | 271/500 [16:30<14:05,  3.69s/it]"
          ]
        },
        {
          "output_type": "stream",
          "name": "stdout",
          "text": [
            "Episode 271/500 | Avg Why: 0.4817 | Avg Inconsistency: 0.9984 | Last Entanglement: 0.990 | Last Chaoticity: 0.001\n"
          ]
        },
        {
          "output_type": "stream",
          "name": "stderr",
          "text": [
            "Episodes:  54%|█████▍    | 272/500 [16:34<14:24,  3.79s/it]"
          ]
        },
        {
          "output_type": "stream",
          "name": "stdout",
          "text": [
            "Episode 272/500 | Avg Why: 0.4775 | Avg Inconsistency: 0.9985 | Last Entanglement: 0.990 | Last Chaoticity: 0.001\n"
          ]
        },
        {
          "output_type": "stream",
          "name": "stderr",
          "text": [
            "Episodes:  55%|█████▍    | 273/500 [16:37<14:14,  3.76s/it]"
          ]
        },
        {
          "output_type": "stream",
          "name": "stdout",
          "text": [
            "Episode 273/500 | Avg Why: 0.4834 | Avg Inconsistency: 0.9982 | Last Entanglement: 0.990 | Last Chaoticity: 0.001\n"
          ]
        },
        {
          "output_type": "stream",
          "name": "stderr",
          "text": [
            "Episodes:  55%|█████▍    | 274/500 [16:41<14:08,  3.75s/it]"
          ]
        },
        {
          "output_type": "stream",
          "name": "stdout",
          "text": [
            "Episode 274/500 | Avg Why: 0.4105 | Avg Inconsistency: 0.9979 | Last Entanglement: 0.990 | Last Chaoticity: 0.001\n"
          ]
        },
        {
          "output_type": "stream",
          "name": "stderr",
          "text": [
            "Episodes:  55%|█████▌    | 275/500 [16:45<14:22,  3.83s/it]"
          ]
        },
        {
          "output_type": "stream",
          "name": "stdout",
          "text": [
            "Episode 275/500 | Avg Why: 0.4354 | Avg Inconsistency: 0.9986 | Last Entanglement: 0.990 | Last Chaoticity: 0.001\n"
          ]
        },
        {
          "output_type": "stream",
          "name": "stderr",
          "text": [
            "Episodes:  55%|█████▌    | 276/500 [16:49<14:43,  3.94s/it]"
          ]
        },
        {
          "output_type": "stream",
          "name": "stdout",
          "text": [
            "Episode 276/500 | Avg Why: 0.4693 | Avg Inconsistency: 0.9981 | Last Entanglement: 0.990 | Last Chaoticity: 0.001\n"
          ]
        },
        {
          "output_type": "stream",
          "name": "stderr",
          "text": [
            "Episodes:  55%|█████▌    | 277/500 [16:53<13:58,  3.76s/it]"
          ]
        },
        {
          "output_type": "stream",
          "name": "stdout",
          "text": [
            "Episode 277/500 | Avg Why: 0.4854 | Avg Inconsistency: 0.9980 | Last Entanglement: 0.990 | Last Chaoticity: 0.001\n"
          ]
        },
        {
          "output_type": "stream",
          "name": "stderr",
          "text": [
            "Episodes:  56%|█████▌    | 278/500 [16:56<13:44,  3.72s/it]"
          ]
        },
        {
          "output_type": "stream",
          "name": "stdout",
          "text": [
            "Episode 278/500 | Avg Why: 0.5373 | Avg Inconsistency: 0.9983 | Last Entanglement: 0.990 | Last Chaoticity: 0.001\n"
          ]
        },
        {
          "output_type": "stream",
          "name": "stderr",
          "text": [
            "Episodes:  56%|█████▌    | 279/500 [17:01<14:40,  3.99s/it]"
          ]
        },
        {
          "output_type": "stream",
          "name": "stdout",
          "text": [
            "Episode 279/500 | Avg Why: 0.5311 | Avg Inconsistency: 0.9982 | Last Entanglement: 0.990 | Last Chaoticity: 0.001\n"
          ]
        },
        {
          "output_type": "stream",
          "name": "stderr",
          "text": [
            "Episodes:  56%|█████▌    | 280/500 [17:04<14:02,  3.83s/it]"
          ]
        },
        {
          "output_type": "stream",
          "name": "stdout",
          "text": [
            "Episode 280/500 | Avg Why: 0.4857 | Avg Inconsistency: 0.9986 | Last Entanglement: 0.990 | Last Chaoticity: 0.001\n"
          ]
        },
        {
          "output_type": "stream",
          "name": "stderr",
          "text": [
            "Episodes:  56%|█████▌    | 281/500 [17:08<13:35,  3.72s/it]"
          ]
        },
        {
          "output_type": "stream",
          "name": "stdout",
          "text": [
            "Episode 281/500 | Avg Why: 0.5498 | Avg Inconsistency: 0.9989 | Last Entanglement: 0.990 | Last Chaoticity: 0.001\n"
          ]
        },
        {
          "output_type": "stream",
          "name": "stderr",
          "text": [
            "Episodes:  56%|█████▋    | 282/500 [17:12<14:08,  3.89s/it]"
          ]
        },
        {
          "output_type": "stream",
          "name": "stdout",
          "text": [
            "Episode 282/500 | Avg Why: 0.5459 | Avg Inconsistency: 0.9990 | Last Entanglement: 0.990 | Last Chaoticity: 0.001\n"
          ]
        },
        {
          "output_type": "stream",
          "name": "stderr",
          "text": [
            "Episodes:  57%|█████▋    | 283/500 [17:16<13:36,  3.76s/it]"
          ]
        },
        {
          "output_type": "stream",
          "name": "stdout",
          "text": [
            "Episode 283/500 | Avg Why: 0.5486 | Avg Inconsistency: 0.9988 | Last Entanglement: 0.990 | Last Chaoticity: 0.001\n"
          ]
        },
        {
          "output_type": "stream",
          "name": "stderr",
          "text": [
            "Episodes:  57%|█████▋    | 284/500 [17:19<13:25,  3.73s/it]"
          ]
        },
        {
          "output_type": "stream",
          "name": "stdout",
          "text": [
            "Episode 284/500 | Avg Why: 0.5477 | Avg Inconsistency: 0.9990 | Last Entanglement: 0.990 | Last Chaoticity: 0.001\n"
          ]
        },
        {
          "output_type": "stream",
          "name": "stderr",
          "text": [
            "Episodes:  57%|█████▋    | 285/500 [17:23<13:32,  3.78s/it]"
          ]
        },
        {
          "output_type": "stream",
          "name": "stdout",
          "text": [
            "Episode 285/500 | Avg Why: 0.5466 | Avg Inconsistency: 0.9991 | Last Entanglement: 0.990 | Last Chaoticity: 0.001\n"
          ]
        },
        {
          "output_type": "stream",
          "name": "stderr",
          "text": [
            "Episodes:  57%|█████▋    | 286/500 [17:27<13:54,  3.90s/it]"
          ]
        },
        {
          "output_type": "stream",
          "name": "stdout",
          "text": [
            "Episode 286/500 | Avg Why: 0.5476 | Avg Inconsistency: 0.9993 | Last Entanglement: 0.990 | Last Chaoticity: 0.001\n"
          ]
        },
        {
          "output_type": "stream",
          "name": "stderr",
          "text": [
            "Episodes:  57%|█████▋    | 287/500 [17:31<13:40,  3.85s/it]"
          ]
        },
        {
          "output_type": "stream",
          "name": "stdout",
          "text": [
            "Episode 287/500 | Avg Why: 0.5526 | Avg Inconsistency: 0.9992 | Last Entanglement: 0.990 | Last Chaoticity: 0.001\n"
          ]
        },
        {
          "output_type": "stream",
          "name": "stderr",
          "text": [
            "Episodes:  58%|█████▊    | 288/500 [17:34<13:06,  3.71s/it]"
          ]
        },
        {
          "output_type": "stream",
          "name": "stdout",
          "text": [
            "Episode 288/500 | Avg Why: 0.5511 | Avg Inconsistency: 0.9994 | Last Entanglement: 0.990 | Last Chaoticity: 0.001\n"
          ]
        },
        {
          "output_type": "stream",
          "name": "stderr",
          "text": [
            "Episodes:  58%|█████▊    | 289/500 [17:39<13:44,  3.91s/it]"
          ]
        },
        {
          "output_type": "stream",
          "name": "stdout",
          "text": [
            "Episode 289/500 | Avg Why: 0.5564 | Avg Inconsistency: 0.9993 | Last Entanglement: 0.990 | Last Chaoticity: 0.001\n"
          ]
        },
        {
          "output_type": "stream",
          "name": "stderr",
          "text": [
            "Episodes:  58%|█████▊    | 290/500 [17:43<13:33,  3.87s/it]"
          ]
        },
        {
          "output_type": "stream",
          "name": "stdout",
          "text": [
            "Episode 290/500 | Avg Why: 0.5558 | Avg Inconsistency: 0.9993 | Last Entanglement: 0.990 | Last Chaoticity: 0.001\n"
          ]
        },
        {
          "output_type": "stream",
          "name": "stderr",
          "text": [
            "Episodes:  58%|█████▊    | 291/500 [17:46<12:57,  3.72s/it]"
          ]
        },
        {
          "output_type": "stream",
          "name": "stdout",
          "text": [
            "Episode 291/500 | Avg Why: 0.5550 | Avg Inconsistency: 0.9992 | Last Entanglement: 0.990 | Last Chaoticity: 0.001\n"
          ]
        },
        {
          "output_type": "stream",
          "name": "stderr",
          "text": [
            "Episodes:  58%|█████▊    | 292/500 [17:50<13:31,  3.90s/it]"
          ]
        },
        {
          "output_type": "stream",
          "name": "stdout",
          "text": [
            "Episode 292/500 | Avg Why: 0.5483 | Avg Inconsistency: 0.9993 | Last Entanglement: 0.990 | Last Chaoticity: 0.001\n"
          ]
        },
        {
          "output_type": "stream",
          "name": "stderr",
          "text": [
            "Episodes:  59%|█████▊    | 293/500 [17:54<13:06,  3.80s/it]"
          ]
        },
        {
          "output_type": "stream",
          "name": "stdout",
          "text": [
            "Episode 293/500 | Avg Why: 0.5534 | Avg Inconsistency: 0.9993 | Last Entanglement: 0.990 | Last Chaoticity: 0.001\n"
          ]
        },
        {
          "output_type": "stream",
          "name": "stderr",
          "text": [
            "Episodes:  59%|█████▉    | 294/500 [17:57<12:47,  3.72s/it]"
          ]
        },
        {
          "output_type": "stream",
          "name": "stdout",
          "text": [
            "Episode 294/500 | Avg Why: 0.5524 | Avg Inconsistency: 0.9993 | Last Entanglement: 0.990 | Last Chaoticity: 0.001\n"
          ]
        },
        {
          "output_type": "stream",
          "name": "stderr",
          "text": [
            "Episodes:  59%|█████▉    | 295/500 [18:01<12:36,  3.69s/it]"
          ]
        },
        {
          "output_type": "stream",
          "name": "stdout",
          "text": [
            "Episode 295/500 | Avg Why: 0.5542 | Avg Inconsistency: 0.9991 | Last Entanglement: 0.990 | Last Chaoticity: 0.001\n"
          ]
        },
        {
          "output_type": "stream",
          "name": "stderr",
          "text": [
            "Episodes:  59%|█████▉    | 296/500 [18:05<12:49,  3.77s/it]"
          ]
        },
        {
          "output_type": "stream",
          "name": "stdout",
          "text": [
            "Episode 296/500 | Avg Why: 0.5500 | Avg Inconsistency: 0.9990 | Last Entanglement: 0.990 | Last Chaoticity: 0.001\n"
          ]
        },
        {
          "output_type": "stream",
          "name": "stderr",
          "text": [
            "Episodes:  59%|█████▉    | 297/500 [18:08<12:18,  3.64s/it]"
          ]
        },
        {
          "output_type": "stream",
          "name": "stdout",
          "text": [
            "Episode 297/500 | Avg Why: 0.5437 | Avg Inconsistency: 0.9992 | Last Entanglement: 0.990 | Last Chaoticity: 0.001\n"
          ]
        },
        {
          "output_type": "stream",
          "name": "stderr",
          "text": [
            "Episodes:  60%|█████▉    | 298/500 [18:12<12:19,  3.66s/it]"
          ]
        },
        {
          "output_type": "stream",
          "name": "stdout",
          "text": [
            "Episode 298/500 | Avg Why: 0.5450 | Avg Inconsistency: 0.9993 | Last Entanglement: 0.990 | Last Chaoticity: 0.001\n"
          ]
        },
        {
          "output_type": "stream",
          "name": "stderr",
          "text": [
            "Episodes:  60%|█████▉    | 299/500 [18:16<13:02,  3.90s/it]"
          ]
        },
        {
          "output_type": "stream",
          "name": "stdout",
          "text": [
            "Episode 299/500 | Avg Why: 0.5388 | Avg Inconsistency: 0.9992 | Last Entanglement: 0.990 | Last Chaoticity: 0.001\n"
          ]
        },
        {
          "output_type": "stream",
          "name": "stderr",
          "text": [
            "Episodes:  60%|██████    | 300/500 [18:20<12:32,  3.76s/it]"
          ]
        },
        {
          "output_type": "stream",
          "name": "stdout",
          "text": [
            "Episode 300/500 | Avg Why: 0.5908 | Avg Inconsistency: 0.9997 | Last Entanglement: 0.990 | Last Chaoticity: 0.001\n"
          ]
        },
        {
          "output_type": "stream",
          "name": "stderr",
          "text": [
            "Episodes:  60%|██████    | 301/500 [18:23<11:56,  3.60s/it]"
          ]
        },
        {
          "output_type": "stream",
          "name": "stdout",
          "text": [
            "Episode 301/500 | Avg Why: 0.5913 | Avg Inconsistency: 0.9998 | Last Entanglement: 0.990 | Last Chaoticity: 0.001\n"
          ]
        },
        {
          "output_type": "stream",
          "name": "stderr",
          "text": [
            "Episodes:  60%|██████    | 302/500 [18:27<12:14,  3.71s/it]"
          ]
        },
        {
          "output_type": "stream",
          "name": "stdout",
          "text": [
            "Episode 302/500 | Avg Why: 0.5841 | Avg Inconsistency: 0.9998 | Last Entanglement: 0.990 | Last Chaoticity: 0.001\n"
          ]
        },
        {
          "output_type": "stream",
          "name": "stderr",
          "text": [
            "Episodes:  61%|██████    | 303/500 [18:31<12:19,  3.75s/it]"
          ]
        },
        {
          "output_type": "stream",
          "name": "stdout",
          "text": [
            "Episode 303/500 | Avg Why: 0.5848 | Avg Inconsistency: 0.9998 | Last Entanglement: 0.990 | Last Chaoticity: 0.001\n"
          ]
        },
        {
          "output_type": "stream",
          "name": "stderr",
          "text": [
            "Episodes:  61%|██████    | 304/500 [18:34<11:54,  3.64s/it]"
          ]
        },
        {
          "output_type": "stream",
          "name": "stdout",
          "text": [
            "Episode 304/500 | Avg Why: 0.5829 | Avg Inconsistency: 0.9998 | Last Entanglement: 0.990 | Last Chaoticity: 0.001\n"
          ]
        },
        {
          "output_type": "stream",
          "name": "stderr",
          "text": [
            "Episodes:  61%|██████    | 305/500 [18:38<11:34,  3.56s/it]"
          ]
        },
        {
          "output_type": "stream",
          "name": "stdout",
          "text": [
            "Episode 305/500 | Avg Why: 0.5807 | Avg Inconsistency: 0.9998 | Last Entanglement: 0.990 | Last Chaoticity: 0.001\n"
          ]
        },
        {
          "output_type": "stream",
          "name": "stderr",
          "text": [
            "Episodes:  61%|██████    | 306/500 [18:42<12:09,  3.76s/it]"
          ]
        },
        {
          "output_type": "stream",
          "name": "stdout",
          "text": [
            "Episode 306/500 | Avg Why: 0.5853 | Avg Inconsistency: 0.9998 | Last Entanglement: 0.990 | Last Chaoticity: 0.001\n"
          ]
        },
        {
          "output_type": "stream",
          "name": "stderr",
          "text": [
            "Episodes:  61%|██████▏   | 307/500 [18:45<11:52,  3.69s/it]"
          ]
        },
        {
          "output_type": "stream",
          "name": "stdout",
          "text": [
            "Episode 307/500 | Avg Why: 0.5923 | Avg Inconsistency: 0.9999 | Last Entanglement: 0.990 | Last Chaoticity: 0.001\n"
          ]
        },
        {
          "output_type": "stream",
          "name": "stderr",
          "text": [
            "Episodes:  62%|██████▏   | 308/500 [18:49<11:18,  3.53s/it]"
          ]
        },
        {
          "output_type": "stream",
          "name": "stdout",
          "text": [
            "Episode 308/500 | Avg Why: 0.5856 | Avg Inconsistency: 0.9998 | Last Entanglement: 0.990 | Last Chaoticity: 0.001\n"
          ]
        },
        {
          "output_type": "stream",
          "name": "stderr",
          "text": [
            "Episodes:  62%|██████▏   | 309/500 [18:53<11:52,  3.73s/it]"
          ]
        },
        {
          "output_type": "stream",
          "name": "stdout",
          "text": [
            "Episode 309/500 | Avg Why: 0.5851 | Avg Inconsistency: 0.9998 | Last Entanglement: 0.990 | Last Chaoticity: 0.001\n"
          ]
        },
        {
          "output_type": "stream",
          "name": "stderr",
          "text": [
            "Episodes:  62%|██████▏   | 310/500 [18:56<11:34,  3.65s/it]"
          ]
        },
        {
          "output_type": "stream",
          "name": "stdout",
          "text": [
            "Episode 310/500 | Avg Why: 0.5802 | Avg Inconsistency: 0.9998 | Last Entanglement: 0.990 | Last Chaoticity: 0.001\n"
          ]
        },
        {
          "output_type": "stream",
          "name": "stderr",
          "text": [
            "Episodes:  62%|██████▏   | 311/500 [19:00<11:13,  3.57s/it]"
          ]
        },
        {
          "output_type": "stream",
          "name": "stdout",
          "text": [
            "Episode 311/500 | Avg Why: 0.5835 | Avg Inconsistency: 0.9998 | Last Entanglement: 0.990 | Last Chaoticity: 0.001\n"
          ]
        },
        {
          "output_type": "stream",
          "name": "stderr",
          "text": [
            "Episodes:  62%|██████▏   | 312/500 [19:03<11:07,  3.55s/it]"
          ]
        },
        {
          "output_type": "stream",
          "name": "stdout",
          "text": [
            "Episode 312/500 | Avg Why: 0.5815 | Avg Inconsistency: 0.9998 | Last Entanglement: 0.990 | Last Chaoticity: 0.001\n"
          ]
        },
        {
          "output_type": "stream",
          "name": "stderr",
          "text": [
            "Episodes:  63%|██████▎   | 313/500 [19:07<11:45,  3.77s/it]"
          ]
        },
        {
          "output_type": "stream",
          "name": "stdout",
          "text": [
            "Episode 313/500 | Avg Why: 0.5788 | Avg Inconsistency: 0.9998 | Last Entanglement: 0.990 | Last Chaoticity: 0.001\n"
          ]
        },
        {
          "output_type": "stream",
          "name": "stderr",
          "text": [
            "Episodes:  63%|██████▎   | 314/500 [19:11<11:23,  3.68s/it]"
          ]
        },
        {
          "output_type": "stream",
          "name": "stdout",
          "text": [
            "Episode 314/500 | Avg Why: 0.5806 | Avg Inconsistency: 0.9997 | Last Entanglement: 0.990 | Last Chaoticity: 0.001\n"
          ]
        },
        {
          "output_type": "stream",
          "name": "stderr",
          "text": [
            "Episodes:  63%|██████▎   | 315/500 [19:14<11:15,  3.65s/it]"
          ]
        },
        {
          "output_type": "stream",
          "name": "stdout",
          "text": [
            "Episode 315/500 | Avg Why: 0.5807 | Avg Inconsistency: 0.9998 | Last Entanglement: 0.990 | Last Chaoticity: 0.001\n"
          ]
        },
        {
          "output_type": "stream",
          "name": "stderr",
          "text": [
            "Episodes:  63%|██████▎   | 316/500 [19:19<11:46,  3.84s/it]"
          ]
        },
        {
          "output_type": "stream",
          "name": "stdout",
          "text": [
            "Episode 316/500 | Avg Why: 0.5964 | Avg Inconsistency: 0.9998 | Last Entanglement: 0.990 | Last Chaoticity: 0.001\n"
          ]
        },
        {
          "output_type": "stream",
          "name": "stderr",
          "text": [
            "Episodes:  63%|██████▎   | 317/500 [19:22<11:30,  3.77s/it]"
          ]
        },
        {
          "output_type": "stream",
          "name": "stdout",
          "text": [
            "Episode 317/500 | Avg Why: 0.6661 | Avg Inconsistency: 0.9963 | Last Entanglement: 0.990 | Last Chaoticity: 0.001\n"
          ]
        },
        {
          "output_type": "stream",
          "name": "stderr",
          "text": [
            "Episodes:  64%|██████▎   | 318/500 [19:26<11:21,  3.74s/it]"
          ]
        },
        {
          "output_type": "stream",
          "name": "stdout",
          "text": [
            "Episode 318/500 | Avg Why: 0.6721 | Avg Inconsistency: 0.9996 | Last Entanglement: 0.990 | Last Chaoticity: 0.001\n"
          ]
        },
        {
          "output_type": "stream",
          "name": "stderr",
          "text": [
            "Episodes:  64%|██████▍   | 319/500 [19:30<11:07,  3.69s/it]"
          ]
        },
        {
          "output_type": "stream",
          "name": "stdout",
          "text": [
            "Episode 319/500 | Avg Why: 0.6745 | Avg Inconsistency: 0.9996 | Last Entanglement: 0.990 | Last Chaoticity: 0.001\n"
          ]
        },
        {
          "output_type": "stream",
          "name": "stderr",
          "text": [
            "Episodes:  64%|██████▍   | 320/500 [19:34<11:15,  3.75s/it]"
          ]
        },
        {
          "output_type": "stream",
          "name": "stdout",
          "text": [
            "Episode 320/500 | Avg Why: 0.6694 | Avg Inconsistency: 0.9995 | Last Entanglement: 0.990 | Last Chaoticity: 0.001\n"
          ]
        },
        {
          "output_type": "stream",
          "name": "stderr",
          "text": [
            "Episodes:  64%|██████▍   | 321/500 [19:37<10:52,  3.64s/it]"
          ]
        },
        {
          "output_type": "stream",
          "name": "stdout",
          "text": [
            "Episode 321/500 | Avg Why: 0.6738 | Avg Inconsistency: 0.9994 | Last Entanglement: 0.990 | Last Chaoticity: 0.001\n"
          ]
        },
        {
          "output_type": "stream",
          "name": "stderr",
          "text": [
            "Episodes:  64%|██████▍   | 322/500 [19:40<10:34,  3.57s/it]"
          ]
        },
        {
          "output_type": "stream",
          "name": "stdout",
          "text": [
            "Episode 322/500 | Avg Why: 0.6734 | Avg Inconsistency: 0.9996 | Last Entanglement: 0.990 | Last Chaoticity: 0.001\n"
          ]
        },
        {
          "output_type": "stream",
          "name": "stderr",
          "text": [
            "Episodes:  65%|██████▍   | 323/500 [19:44<10:53,  3.69s/it]"
          ]
        },
        {
          "output_type": "stream",
          "name": "stdout",
          "text": [
            "Episode 323/500 | Avg Why: 0.6750 | Avg Inconsistency: 0.9997 | Last Entanglement: 0.990 | Last Chaoticity: 0.001\n"
          ]
        },
        {
          "output_type": "stream",
          "name": "stderr",
          "text": [
            "Episodes:  65%|██████▍   | 324/500 [19:48<10:46,  3.67s/it]"
          ]
        },
        {
          "output_type": "stream",
          "name": "stdout",
          "text": [
            "Episode 324/500 | Avg Why: 0.6713 | Avg Inconsistency: 0.9997 | Last Entanglement: 0.990 | Last Chaoticity: 0.001\n"
          ]
        },
        {
          "output_type": "stream",
          "name": "stderr",
          "text": [
            "Episodes:  65%|██████▌   | 325/500 [19:51<10:25,  3.58s/it]"
          ]
        },
        {
          "output_type": "stream",
          "name": "stdout",
          "text": [
            "Episode 325/500 | Avg Why: 0.6750 | Avg Inconsistency: 0.9997 | Last Entanglement: 0.990 | Last Chaoticity: 0.001\n"
          ]
        },
        {
          "output_type": "stream",
          "name": "stderr",
          "text": [
            "Episodes:  65%|██████▌   | 326/500 [19:55<10:41,  3.68s/it]"
          ]
        },
        {
          "output_type": "stream",
          "name": "stdout",
          "text": [
            "Episode 326/500 | Avg Why: 0.6739 | Avg Inconsistency: 0.9997 | Last Entanglement: 0.990 | Last Chaoticity: 0.001\n"
          ]
        },
        {
          "output_type": "stream",
          "name": "stderr",
          "text": [
            "Episodes:  65%|██████▌   | 327/500 [19:59<10:48,  3.75s/it]"
          ]
        },
        {
          "output_type": "stream",
          "name": "stdout",
          "text": [
            "Episode 327/500 | Avg Why: 0.6755 | Avg Inconsistency: 0.9997 | Last Entanglement: 0.990 | Last Chaoticity: 0.001\n"
          ]
        },
        {
          "output_type": "stream",
          "name": "stderr",
          "text": [
            "Episodes:  66%|██████▌   | 328/500 [20:02<10:19,  3.60s/it]"
          ]
        },
        {
          "output_type": "stream",
          "name": "stdout",
          "text": [
            "Episode 328/500 | Avg Why: 0.6732 | Avg Inconsistency: 0.9997 | Last Entanglement: 0.990 | Last Chaoticity: 0.001\n"
          ]
        },
        {
          "output_type": "stream",
          "name": "stderr",
          "text": [
            "Episodes:  66%|██████▌   | 329/500 [20:06<09:57,  3.49s/it]"
          ]
        },
        {
          "output_type": "stream",
          "name": "stdout",
          "text": [
            "Episode 329/500 | Avg Why: 0.6758 | Avg Inconsistency: 0.9997 | Last Entanglement: 0.990 | Last Chaoticity: 0.001\n"
          ]
        },
        {
          "output_type": "stream",
          "name": "stderr",
          "text": [
            "Episodes:  66%|██████▌   | 330/500 [20:10<10:35,  3.74s/it]"
          ]
        },
        {
          "output_type": "stream",
          "name": "stdout",
          "text": [
            "Episode 330/500 | Avg Why: 0.6729 | Avg Inconsistency: 0.9996 | Last Entanglement: 0.990 | Last Chaoticity: 0.001\n"
          ]
        },
        {
          "output_type": "stream",
          "name": "stderr",
          "text": [
            "Episodes:  66%|██████▌   | 331/500 [20:14<10:28,  3.72s/it]"
          ]
        },
        {
          "output_type": "stream",
          "name": "stdout",
          "text": [
            "Episode 331/500 | Avg Why: 0.6758 | Avg Inconsistency: 0.9996 | Last Entanglement: 0.990 | Last Chaoticity: 0.001\n"
          ]
        },
        {
          "output_type": "stream",
          "name": "stderr",
          "text": [
            "Episodes:  66%|██████▋   | 332/500 [20:17<10:08,  3.62s/it]"
          ]
        },
        {
          "output_type": "stream",
          "name": "stdout",
          "text": [
            "Episode 332/500 | Avg Why: 0.6832 | Avg Inconsistency: 0.9996 | Last Entanglement: 0.990 | Last Chaoticity: 0.001\n"
          ]
        },
        {
          "output_type": "stream",
          "name": "stderr",
          "text": [
            "Episodes:  67%|██████▋   | 333/500 [20:21<10:06,  3.63s/it]"
          ]
        },
        {
          "output_type": "stream",
          "name": "stdout",
          "text": [
            "Episode 333/500 | Avg Why: 0.6780 | Avg Inconsistency: 0.9995 | Last Entanglement: 0.990 | Last Chaoticity: 0.001\n"
          ]
        },
        {
          "output_type": "stream",
          "name": "stderr",
          "text": [
            "Episodes:  67%|██████▋   | 334/500 [20:24<10:14,  3.70s/it]"
          ]
        },
        {
          "output_type": "stream",
          "name": "stdout",
          "text": [
            "Episode 334/500 | Avg Why: 0.6766 | Avg Inconsistency: 0.9996 | Last Entanglement: 0.990 | Last Chaoticity: 0.001\n"
          ]
        },
        {
          "output_type": "stream",
          "name": "stderr",
          "text": [
            "Episodes:  67%|██████▋   | 335/500 [20:28<10:04,  3.66s/it]"
          ]
        },
        {
          "output_type": "stream",
          "name": "stdout",
          "text": [
            "Episode 335/500 | Avg Why: 0.6787 | Avg Inconsistency: 0.9997 | Last Entanglement: 0.990 | Last Chaoticity: 0.001\n"
          ]
        },
        {
          "output_type": "stream",
          "name": "stderr",
          "text": [
            "Episodes:  67%|██████▋   | 336/500 [20:31<09:46,  3.58s/it]"
          ]
        },
        {
          "output_type": "stream",
          "name": "stdout",
          "text": [
            "Episode 336/500 | Avg Why: 0.6752 | Avg Inconsistency: 0.9996 | Last Entanglement: 0.990 | Last Chaoticity: 0.001\n"
          ]
        },
        {
          "output_type": "stream",
          "name": "stderr",
          "text": [
            "Episodes:  67%|██████▋   | 337/500 [20:36<10:18,  3.80s/it]"
          ]
        },
        {
          "output_type": "stream",
          "name": "stdout",
          "text": [
            "Episode 337/500 | Avg Why: 0.6762 | Avg Inconsistency: 0.9997 | Last Entanglement: 0.990 | Last Chaoticity: 0.001\n"
          ]
        },
        {
          "output_type": "stream",
          "name": "stderr",
          "text": [
            "Episodes:  68%|██████▊   | 338/500 [20:39<10:08,  3.75s/it]"
          ]
        },
        {
          "output_type": "stream",
          "name": "stdout",
          "text": [
            "Episode 338/500 | Avg Why: 0.6770 | Avg Inconsistency: 0.9997 | Last Entanglement: 0.990 | Last Chaoticity: 0.001\n"
          ]
        },
        {
          "output_type": "stream",
          "name": "stderr",
          "text": [
            "Episodes:  68%|██████▊   | 339/500 [20:43<09:57,  3.71s/it]"
          ]
        },
        {
          "output_type": "stream",
          "name": "stdout",
          "text": [
            "Episode 339/500 | Avg Why: 0.6810 | Avg Inconsistency: 0.9997 | Last Entanglement: 0.990 | Last Chaoticity: 0.001\n"
          ]
        },
        {
          "output_type": "stream",
          "name": "stderr",
          "text": [
            "Episodes:  68%|██████▊   | 340/500 [20:47<10:05,  3.79s/it]"
          ]
        },
        {
          "output_type": "stream",
          "name": "stdout",
          "text": [
            "Episode 340/500 | Avg Why: 0.6789 | Avg Inconsistency: 0.9997 | Last Entanglement: 0.990 | Last Chaoticity: 0.001\n"
          ]
        },
        {
          "output_type": "stream",
          "name": "stderr",
          "text": [
            "Episodes:  68%|██████▊   | 341/500 [20:50<09:43,  3.67s/it]"
          ]
        },
        {
          "output_type": "stream",
          "name": "stdout",
          "text": [
            "Episode 341/500 | Avg Why: 0.6824 | Avg Inconsistency: 0.9997 | Last Entanglement: 0.990 | Last Chaoticity: 0.001\n"
          ]
        },
        {
          "output_type": "stream",
          "name": "stderr",
          "text": [
            "Episodes:  68%|██████▊   | 342/500 [20:54<09:34,  3.63s/it]"
          ]
        },
        {
          "output_type": "stream",
          "name": "stdout",
          "text": [
            "Episode 342/500 | Avg Why: 0.6829 | Avg Inconsistency: 0.9998 | Last Entanglement: 0.990 | Last Chaoticity: 0.001\n"
          ]
        },
        {
          "output_type": "stream",
          "name": "stderr",
          "text": [
            "Episodes:  69%|██████▊   | 343/500 [20:58<09:35,  3.66s/it]"
          ]
        },
        {
          "output_type": "stream",
          "name": "stdout",
          "text": [
            "Episode 343/500 | Avg Why: 0.6817 | Avg Inconsistency: 0.9998 | Last Entanglement: 0.990 | Last Chaoticity: 0.001\n"
          ]
        },
        {
          "output_type": "stream",
          "name": "stderr",
          "text": [
            "Episodes:  69%|██████▉   | 344/500 [21:02<09:53,  3.81s/it]"
          ]
        },
        {
          "output_type": "stream",
          "name": "stdout",
          "text": [
            "Episode 344/500 | Avg Why: 0.6792 | Avg Inconsistency: 0.9997 | Last Entanglement: 0.990 | Last Chaoticity: 0.001\n"
          ]
        },
        {
          "output_type": "stream",
          "name": "stderr",
          "text": [
            "Episodes:  69%|██████▉   | 345/500 [21:06<09:52,  3.83s/it]"
          ]
        },
        {
          "output_type": "stream",
          "name": "stdout",
          "text": [
            "Episode 345/500 | Avg Why: 0.6816 | Avg Inconsistency: 0.9998 | Last Entanglement: 0.990 | Last Chaoticity: 0.001\n"
          ]
        },
        {
          "output_type": "stream",
          "name": "stderr",
          "text": [
            "Episodes:  69%|██████▉   | 346/500 [21:09<09:42,  3.78s/it]"
          ]
        },
        {
          "output_type": "stream",
          "name": "stdout",
          "text": [
            "Episode 346/500 | Avg Why: 0.6746 | Avg Inconsistency: 0.9997 | Last Entanglement: 0.990 | Last Chaoticity: 0.001\n"
          ]
        },
        {
          "output_type": "stream",
          "name": "stderr",
          "text": [
            "Episodes:  69%|██████▉   | 347/500 [21:14<10:11,  4.00s/it]"
          ]
        },
        {
          "output_type": "stream",
          "name": "stdout",
          "text": [
            "Episode 347/500 | Avg Why: 0.6766 | Avg Inconsistency: 0.9996 | Last Entanglement: 0.990 | Last Chaoticity: 0.001\n"
          ]
        },
        {
          "output_type": "stream",
          "name": "stderr",
          "text": [
            "Episodes:  70%|██████▉   | 348/500 [21:17<09:45,  3.85s/it]"
          ]
        },
        {
          "output_type": "stream",
          "name": "stdout",
          "text": [
            "Episode 348/500 | Avg Why: 0.6728 | Avg Inconsistency: 0.9998 | Last Entanglement: 0.990 | Last Chaoticity: 0.001\n"
          ]
        },
        {
          "output_type": "stream",
          "name": "stderr",
          "text": [
            "Episodes:  70%|██████▉   | 349/500 [21:21<09:37,  3.82s/it]"
          ]
        },
        {
          "output_type": "stream",
          "name": "stdout",
          "text": [
            "Episode 349/500 | Avg Why: 0.6739 | Avg Inconsistency: 0.9999 | Last Entanglement: 0.990 | Last Chaoticity: 0.001\n"
          ]
        },
        {
          "output_type": "stream",
          "name": "stderr",
          "text": [
            "Episodes:  70%|███████   | 350/500 [21:25<09:51,  3.94s/it]"
          ]
        },
        {
          "output_type": "stream",
          "name": "stdout",
          "text": [
            "Episode 350/500 | Avg Why: 0.6726 | Avg Inconsistency: 0.9999 | Last Entanglement: 0.990 | Last Chaoticity: 0.001\n"
          ]
        },
        {
          "output_type": "stream",
          "name": "stderr",
          "text": [
            "Episodes:  70%|███████   | 351/500 [21:29<09:23,  3.78s/it]"
          ]
        },
        {
          "output_type": "stream",
          "name": "stdout",
          "text": [
            "Episode 351/500 | Avg Why: 0.6744 | Avg Inconsistency: 0.9999 | Last Entanglement: 0.990 | Last Chaoticity: 0.001\n"
          ]
        },
        {
          "output_type": "stream",
          "name": "stderr",
          "text": [
            "Episodes:  70%|███████   | 352/500 [21:32<08:56,  3.63s/it]"
          ]
        },
        {
          "output_type": "stream",
          "name": "stdout",
          "text": [
            "Episode 352/500 | Avg Why: 0.6690 | Avg Inconsistency: 0.9999 | Last Entanglement: 0.990 | Last Chaoticity: 0.001\n"
          ]
        },
        {
          "output_type": "stream",
          "name": "stderr",
          "text": [
            "Episodes:  71%|███████   | 353/500 [21:36<08:59,  3.67s/it]"
          ]
        },
        {
          "output_type": "stream",
          "name": "stdout",
          "text": [
            "Episode 353/500 | Avg Why: 0.6739 | Avg Inconsistency: 0.9999 | Last Entanglement: 0.990 | Last Chaoticity: 0.001\n"
          ]
        },
        {
          "output_type": "stream",
          "name": "stderr",
          "text": [
            "Episodes:  71%|███████   | 354/500 [21:40<09:23,  3.86s/it]"
          ]
        },
        {
          "output_type": "stream",
          "name": "stdout",
          "text": [
            "Episode 354/500 | Avg Why: 0.6730 | Avg Inconsistency: 0.9999 | Last Entanglement: 0.990 | Last Chaoticity: 0.001\n"
          ]
        },
        {
          "output_type": "stream",
          "name": "stderr",
          "text": [
            "Episodes:  71%|███████   | 355/500 [21:43<08:56,  3.70s/it]"
          ]
        },
        {
          "output_type": "stream",
          "name": "stdout",
          "text": [
            "Episode 355/500 | Avg Why: 0.6766 | Avg Inconsistency: 0.9999 | Last Entanglement: 0.990 | Last Chaoticity: 0.001\n"
          ]
        },
        {
          "output_type": "stream",
          "name": "stderr",
          "text": [
            "Episodes:  71%|███████   | 356/500 [21:47<08:37,  3.59s/it]"
          ]
        },
        {
          "output_type": "stream",
          "name": "stdout",
          "text": [
            "Episode 356/500 | Avg Why: 0.6730 | Avg Inconsistency: 0.9999 | Last Entanglement: 0.990 | Last Chaoticity: 0.001\n"
          ]
        },
        {
          "output_type": "stream",
          "name": "stderr",
          "text": [
            "Episodes:  71%|███████▏  | 357/500 [21:51<09:17,  3.90s/it]"
          ]
        },
        {
          "output_type": "stream",
          "name": "stdout",
          "text": [
            "Episode 357/500 | Avg Why: 0.6710 | Avg Inconsistency: 0.9999 | Last Entanglement: 0.990 | Last Chaoticity: 0.001\n"
          ]
        },
        {
          "output_type": "stream",
          "name": "stderr",
          "text": [
            "Episodes:  72%|███████▏  | 358/500 [21:55<09:03,  3.83s/it]"
          ]
        },
        {
          "output_type": "stream",
          "name": "stdout",
          "text": [
            "Episode 358/500 | Avg Why: 0.6725 | Avg Inconsistency: 0.9999 | Last Entanglement: 0.990 | Last Chaoticity: 0.001\n"
          ]
        },
        {
          "output_type": "stream",
          "name": "stderr",
          "text": [
            "Episodes:  72%|███████▏  | 359/500 [21:59<08:52,  3.78s/it]"
          ]
        },
        {
          "output_type": "stream",
          "name": "stdout",
          "text": [
            "Episode 359/500 | Avg Why: 0.6751 | Avg Inconsistency: 0.9999 | Last Entanglement: 0.990 | Last Chaoticity: 0.001\n"
          ]
        },
        {
          "output_type": "stream",
          "name": "stderr",
          "text": [
            "Episodes:  72%|███████▏  | 360/500 [22:03<09:11,  3.94s/it]"
          ]
        },
        {
          "output_type": "stream",
          "name": "stdout",
          "text": [
            "Episode 360/500 | Avg Why: 0.6727 | Avg Inconsistency: 0.9999 | Last Entanglement: 0.990 | Last Chaoticity: 0.001\n"
          ]
        },
        {
          "output_type": "stream",
          "name": "stderr",
          "text": [
            "Episodes:  72%|███████▏  | 361/500 [22:07<08:58,  3.88s/it]"
          ]
        },
        {
          "output_type": "stream",
          "name": "stdout",
          "text": [
            "Episode 361/500 | Avg Why: 0.6738 | Avg Inconsistency: 0.9999 | Last Entanglement: 0.990 | Last Chaoticity: 0.001\n"
          ]
        },
        {
          "output_type": "stream",
          "name": "stderr",
          "text": [
            "Episodes:  72%|███████▏  | 362/500 [22:10<08:40,  3.77s/it]"
          ]
        },
        {
          "output_type": "stream",
          "name": "stdout",
          "text": [
            "Episode 362/500 | Avg Why: 0.6777 | Avg Inconsistency: 0.9999 | Last Entanglement: 0.990 | Last Chaoticity: 0.001\n"
          ]
        },
        {
          "output_type": "stream",
          "name": "stderr",
          "text": [
            "Episodes:  73%|███████▎  | 363/500 [22:14<08:43,  3.82s/it]"
          ]
        },
        {
          "output_type": "stream",
          "name": "stdout",
          "text": [
            "Episode 363/500 | Avg Why: 0.6757 | Avg Inconsistency: 0.9999 | Last Entanglement: 0.990 | Last Chaoticity: 0.001\n"
          ]
        },
        {
          "output_type": "stream",
          "name": "stderr",
          "text": [
            "Episodes:  73%|███████▎  | 364/500 [22:18<08:47,  3.88s/it]"
          ]
        },
        {
          "output_type": "stream",
          "name": "stdout",
          "text": [
            "Episode 364/500 | Avg Why: 0.6743 | Avg Inconsistency: 0.9999 | Last Entanglement: 0.990 | Last Chaoticity: 0.001\n"
          ]
        },
        {
          "output_type": "stream",
          "name": "stderr",
          "text": [
            "Episodes:  73%|███████▎  | 365/500 [22:22<08:33,  3.80s/it]"
          ]
        },
        {
          "output_type": "stream",
          "name": "stdout",
          "text": [
            "Episode 365/500 | Avg Why: 0.6803 | Avg Inconsistency: 0.9998 | Last Entanglement: 0.990 | Last Chaoticity: 0.001\n"
          ]
        },
        {
          "output_type": "stream",
          "name": "stderr",
          "text": [
            "Episodes:  73%|███████▎  | 366/500 [22:25<08:24,  3.76s/it]"
          ]
        },
        {
          "output_type": "stream",
          "name": "stdout",
          "text": [
            "Episode 366/500 | Avg Why: 0.6820 | Avg Inconsistency: 0.9998 | Last Entanglement: 0.990 | Last Chaoticity: 0.001\n"
          ]
        },
        {
          "output_type": "stream",
          "name": "stderr",
          "text": [
            "Episodes:  73%|███████▎  | 367/500 [22:30<08:46,  3.96s/it]"
          ]
        },
        {
          "output_type": "stream",
          "name": "stdout",
          "text": [
            "Episode 367/500 | Avg Why: 0.6838 | Avg Inconsistency: 0.9999 | Last Entanglement: 0.990 | Last Chaoticity: 0.001\n"
          ]
        },
        {
          "output_type": "stream",
          "name": "stderr",
          "text": [
            "Episodes:  74%|███████▎  | 368/500 [22:33<08:19,  3.79s/it]"
          ]
        },
        {
          "output_type": "stream",
          "name": "stdout",
          "text": [
            "Episode 368/500 | Avg Why: 0.6822 | Avg Inconsistency: 0.9999 | Last Entanglement: 0.990 | Last Chaoticity: 0.001\n"
          ]
        },
        {
          "output_type": "stream",
          "name": "stderr",
          "text": [
            "Episodes:  74%|███████▍  | 369/500 [22:37<08:02,  3.68s/it]"
          ]
        },
        {
          "output_type": "stream",
          "name": "stdout",
          "text": [
            "Episode 369/500 | Avg Why: 0.6871 | Avg Inconsistency: 1.0000 | Last Entanglement: 0.990 | Last Chaoticity: 0.001\n"
          ]
        },
        {
          "output_type": "stream",
          "name": "stderr",
          "text": [
            "Episodes:  74%|███████▍  | 370/500 [22:41<08:02,  3.71s/it]"
          ]
        },
        {
          "output_type": "stream",
          "name": "stdout",
          "text": [
            "Episode 370/500 | Avg Why: 0.6875 | Avg Inconsistency: 0.9999 | Last Entanglement: 0.990 | Last Chaoticity: 0.001\n"
          ]
        },
        {
          "output_type": "stream",
          "name": "stderr",
          "text": [
            "Episodes:  74%|███████▍  | 371/500 [22:44<07:51,  3.66s/it]"
          ]
        },
        {
          "output_type": "stream",
          "name": "stdout",
          "text": [
            "Episode 371/500 | Avg Why: 0.6679 | Avg Inconsistency: 0.9998 | Last Entanglement: 0.990 | Last Chaoticity: 0.001\n"
          ]
        },
        {
          "output_type": "stream",
          "name": "stderr",
          "text": [
            "Episodes:  74%|███████▍  | 372/500 [22:47<07:35,  3.56s/it]"
          ]
        },
        {
          "output_type": "stream",
          "name": "stdout",
          "text": [
            "Episode 372/500 | Avg Why: 0.6686 | Avg Inconsistency: 0.9998 | Last Entanglement: 0.990 | Last Chaoticity: 0.001\n"
          ]
        },
        {
          "output_type": "stream",
          "name": "stderr",
          "text": [
            "Episodes:  75%|███████▍  | 373/500 [22:51<07:29,  3.54s/it]"
          ]
        },
        {
          "output_type": "stream",
          "name": "stdout",
          "text": [
            "Episode 373/500 | Avg Why: 0.6750 | Avg Inconsistency: 0.9998 | Last Entanglement: 0.990 | Last Chaoticity: 0.001\n"
          ]
        },
        {
          "output_type": "stream",
          "name": "stderr",
          "text": [
            "Episodes:  75%|███████▍  | 374/500 [22:55<07:49,  3.73s/it]"
          ]
        },
        {
          "output_type": "stream",
          "name": "stdout",
          "text": [
            "Episode 374/500 | Avg Why: 0.6732 | Avg Inconsistency: 0.9999 | Last Entanglement: 0.990 | Last Chaoticity: 0.001\n"
          ]
        },
        {
          "output_type": "stream",
          "name": "stderr",
          "text": [
            "Episodes:  75%|███████▌  | 375/500 [22:58<07:30,  3.60s/it]"
          ]
        },
        {
          "output_type": "stream",
          "name": "stdout",
          "text": [
            "Episode 375/500 | Avg Why: 0.6822 | Avg Inconsistency: 1.0000 | Last Entanglement: 0.990 | Last Chaoticity: 0.001\n"
          ]
        },
        {
          "output_type": "stream",
          "name": "stderr",
          "text": [
            "Episodes:  75%|███████▌  | 376/500 [23:02<07:24,  3.58s/it]"
          ]
        },
        {
          "output_type": "stream",
          "name": "stdout",
          "text": [
            "Episode 376/500 | Avg Why: 0.6839 | Avg Inconsistency: 1.0000 | Last Entanglement: 0.990 | Last Chaoticity: 0.001\n"
          ]
        },
        {
          "output_type": "stream",
          "name": "stderr",
          "text": [
            "Episodes:  75%|███████▌  | 377/500 [23:06<07:45,  3.78s/it]"
          ]
        },
        {
          "output_type": "stream",
          "name": "stdout",
          "text": [
            "Episode 377/500 | Avg Why: 0.6826 | Avg Inconsistency: 1.0000 | Last Entanglement: 0.990 | Last Chaoticity: 0.001\n"
          ]
        },
        {
          "output_type": "stream",
          "name": "stderr",
          "text": [
            "Episodes:  76%|███████▌  | 378/500 [23:10<07:48,  3.84s/it]"
          ]
        },
        {
          "output_type": "stream",
          "name": "stdout",
          "text": [
            "Episode 378/500 | Avg Why: 0.6771 | Avg Inconsistency: 1.0000 | Last Entanglement: 0.990 | Last Chaoticity: 0.001\n"
          ]
        },
        {
          "output_type": "stream",
          "name": "stderr",
          "text": [
            "Episodes:  76%|███████▌  | 379/500 [23:14<07:35,  3.76s/it]"
          ]
        },
        {
          "output_type": "stream",
          "name": "stdout",
          "text": [
            "Episode 379/500 | Avg Why: 0.6848 | Avg Inconsistency: 0.9999 | Last Entanglement: 0.990 | Last Chaoticity: 0.001\n"
          ]
        },
        {
          "output_type": "stream",
          "name": "stderr",
          "text": [
            "Episodes:  76%|███████▌  | 380/500 [23:18<07:34,  3.79s/it]"
          ]
        },
        {
          "output_type": "stream",
          "name": "stdout",
          "text": [
            "Episode 380/500 | Avg Why: 0.6789 | Avg Inconsistency: 0.9999 | Last Entanglement: 0.990 | Last Chaoticity: 0.001\n"
          ]
        },
        {
          "output_type": "stream",
          "name": "stderr",
          "text": [
            "Episodes:  76%|███████▌  | 381/500 [23:21<07:34,  3.82s/it]"
          ]
        },
        {
          "output_type": "stream",
          "name": "stdout",
          "text": [
            "Episode 381/500 | Avg Why: 0.6767 | Avg Inconsistency: 0.9999 | Last Entanglement: 0.990 | Last Chaoticity: 0.001\n"
          ]
        },
        {
          "output_type": "stream",
          "name": "stderr",
          "text": [
            "Episodes:  76%|███████▋  | 382/500 [23:25<07:08,  3.63s/it]"
          ]
        },
        {
          "output_type": "stream",
          "name": "stdout",
          "text": [
            "Episode 382/500 | Avg Why: 0.6824 | Avg Inconsistency: 0.9999 | Last Entanglement: 0.990 | Last Chaoticity: 0.001\n"
          ]
        },
        {
          "output_type": "stream",
          "name": "stderr",
          "text": [
            "Episodes:  77%|███████▋  | 383/500 [23:28<07:00,  3.59s/it]"
          ]
        },
        {
          "output_type": "stream",
          "name": "stdout",
          "text": [
            "Episode 383/500 | Avg Why: 0.6798 | Avg Inconsistency: 0.9999 | Last Entanglement: 0.990 | Last Chaoticity: 0.001\n"
          ]
        },
        {
          "output_type": "stream",
          "name": "stderr",
          "text": [
            "Episodes:  77%|███████▋  | 384/500 [23:32<07:18,  3.78s/it]"
          ]
        },
        {
          "output_type": "stream",
          "name": "stdout",
          "text": [
            "Episode 384/500 | Avg Why: 0.6825 | Avg Inconsistency: 0.9999 | Last Entanglement: 0.990 | Last Chaoticity: 0.001\n"
          ]
        },
        {
          "output_type": "stream",
          "name": "stderr",
          "text": [
            "Episodes:  77%|███████▋  | 385/500 [23:36<07:09,  3.73s/it]"
          ]
        },
        {
          "output_type": "stream",
          "name": "stdout",
          "text": [
            "Episode 385/500 | Avg Why: 0.6796 | Avg Inconsistency: 0.9999 | Last Entanglement: 0.990 | Last Chaoticity: 0.001\n"
          ]
        },
        {
          "output_type": "stream",
          "name": "stderr",
          "text": [
            "Episodes:  77%|███████▋  | 386/500 [23:39<06:55,  3.64s/it]"
          ]
        },
        {
          "output_type": "stream",
          "name": "stdout",
          "text": [
            "Episode 386/500 | Avg Why: 0.6811 | Avg Inconsistency: 1.0000 | Last Entanglement: 0.990 | Last Chaoticity: 0.001\n"
          ]
        },
        {
          "output_type": "stream",
          "name": "stderr",
          "text": [
            "Episodes:  77%|███████▋  | 387/500 [23:44<07:14,  3.84s/it]"
          ]
        },
        {
          "output_type": "stream",
          "name": "stdout",
          "text": [
            "Episode 387/500 | Avg Why: 0.6809 | Avg Inconsistency: 1.0000 | Last Entanglement: 0.990 | Last Chaoticity: 0.001\n"
          ]
        },
        {
          "output_type": "stream",
          "name": "stderr",
          "text": [
            "Episodes:  78%|███████▊  | 388/500 [23:50<08:45,  4.69s/it]"
          ]
        },
        {
          "output_type": "stream",
          "name": "stdout",
          "text": [
            "Episode 388/500 | Avg Why: 0.6310 | Avg Inconsistency: 1.0000 | Last Entanglement: 0.990 | Last Chaoticity: 0.001\n"
          ]
        },
        {
          "output_type": "stream",
          "name": "stderr",
          "text": [
            "Episodes:  78%|███████▊  | 389/500 [23:59<10:51,  5.87s/it]"
          ]
        },
        {
          "output_type": "stream",
          "name": "stdout",
          "text": [
            "Episode 389/500 | Avg Why: 0.6294 | Avg Inconsistency: 1.0000 | Last Entanglement: 0.990 | Last Chaoticity: 0.001\n"
          ]
        },
        {
          "output_type": "stream",
          "name": "stderr",
          "text": [
            "Episodes:  78%|███████▊  | 390/500 [24:06<11:20,  6.19s/it]"
          ]
        },
        {
          "output_type": "stream",
          "name": "stdout",
          "text": [
            "Episode 390/500 | Avg Why: 0.6419 | Avg Inconsistency: 1.0000 | Last Entanglement: 0.990 | Last Chaoticity: 0.001\n"
          ]
        },
        {
          "output_type": "stream",
          "name": "stderr",
          "text": [
            "Episodes:  78%|███████▊  | 391/500 [24:11<10:23,  5.72s/it]"
          ]
        },
        {
          "output_type": "stream",
          "name": "stdout",
          "text": [
            "Episode 391/500 | Avg Why: 0.6542 | Avg Inconsistency: 1.0000 | Last Entanglement: 0.990 | Last Chaoticity: 0.001\n"
          ]
        },
        {
          "output_type": "stream",
          "name": "stderr",
          "text": [
            "Episodes:  78%|███████▊  | 392/500 [24:14<09:09,  5.09s/it]"
          ]
        },
        {
          "output_type": "stream",
          "name": "stdout",
          "text": [
            "Episode 392/500 | Avg Why: 0.6330 | Avg Inconsistency: 1.0000 | Last Entanglement: 0.990 | Last Chaoticity: 0.001\n"
          ]
        },
        {
          "output_type": "stream",
          "name": "stderr",
          "text": [
            "Episodes:  79%|███████▊  | 393/500 [24:18<08:11,  4.59s/it]"
          ]
        },
        {
          "output_type": "stream",
          "name": "stdout",
          "text": [
            "Episode 393/500 | Avg Why: 0.6442 | Avg Inconsistency: 1.0000 | Last Entanglement: 0.990 | Last Chaoticity: 0.001\n"
          ]
        },
        {
          "output_type": "stream",
          "name": "stderr",
          "text": [
            "Episodes:  79%|███████▉  | 394/500 [24:21<07:41,  4.36s/it]"
          ]
        },
        {
          "output_type": "stream",
          "name": "stdout",
          "text": [
            "Episode 394/500 | Avg Why: 0.6428 | Avg Inconsistency: 1.0000 | Last Entanglement: 0.990 | Last Chaoticity: 0.001\n"
          ]
        },
        {
          "output_type": "stream",
          "name": "stderr",
          "text": [
            "Episodes:  79%|███████▉  | 395/500 [24:25<07:23,  4.23s/it]"
          ]
        },
        {
          "output_type": "stream",
          "name": "stdout",
          "text": [
            "Episode 395/500 | Avg Why: 0.6448 | Avg Inconsistency: 1.0000 | Last Entanglement: 0.990 | Last Chaoticity: 0.001\n"
          ]
        },
        {
          "output_type": "stream",
          "name": "stderr",
          "text": [
            "Episodes:  79%|███████▉  | 396/500 [24:29<06:56,  4.00s/it]"
          ]
        },
        {
          "output_type": "stream",
          "name": "stdout",
          "text": [
            "Episode 396/500 | Avg Why: 0.6464 | Avg Inconsistency: 1.0000 | Last Entanglement: 0.990 | Last Chaoticity: 0.001\n"
          ]
        },
        {
          "output_type": "stream",
          "name": "stderr",
          "text": [
            "Episodes:  79%|███████▉  | 397/500 [24:32<06:41,  3.89s/it]"
          ]
        },
        {
          "output_type": "stream",
          "name": "stdout",
          "text": [
            "Episode 397/500 | Avg Why: 0.6470 | Avg Inconsistency: 1.0000 | Last Entanglement: 0.990 | Last Chaoticity: 0.001\n"
          ]
        },
        {
          "output_type": "stream",
          "name": "stderr",
          "text": [
            "Episodes:  80%|███████▉  | 398/500 [24:37<06:54,  4.06s/it]"
          ]
        },
        {
          "output_type": "stream",
          "name": "stdout",
          "text": [
            "Episode 398/500 | Avg Why: 0.6440 | Avg Inconsistency: 1.0000 | Last Entanglement: 0.990 | Last Chaoticity: 0.001\n"
          ]
        },
        {
          "output_type": "stream",
          "name": "stderr",
          "text": [
            "Episodes:  80%|███████▉  | 399/500 [24:40<06:25,  3.81s/it]"
          ]
        },
        {
          "output_type": "stream",
          "name": "stdout",
          "text": [
            "Episode 399/500 | Avg Why: 0.6440 | Avg Inconsistency: 1.0000 | Last Entanglement: 0.990 | Last Chaoticity: 0.001\n"
          ]
        },
        {
          "output_type": "stream",
          "name": "stderr",
          "text": [
            "Episodes:  80%|████████  | 400/500 [24:44<06:14,  3.75s/it]"
          ]
        },
        {
          "output_type": "stream",
          "name": "stdout",
          "text": [
            "Episode 400/500 | Avg Why: 0.6460 | Avg Inconsistency: 1.0000 | Last Entanglement: 0.990 | Last Chaoticity: 0.001\n"
          ]
        },
        {
          "output_type": "stream",
          "name": "stderr",
          "text": [
            "Episodes:  80%|████████  | 401/500 [24:48<06:19,  3.84s/it]"
          ]
        },
        {
          "output_type": "stream",
          "name": "stdout",
          "text": [
            "Episode 401/500 | Avg Why: 0.6454 | Avg Inconsistency: 1.0000 | Last Entanglement: 0.990 | Last Chaoticity: 0.001\n"
          ]
        },
        {
          "output_type": "stream",
          "name": "stderr",
          "text": [
            "Episodes:  80%|████████  | 402/500 [24:51<06:08,  3.76s/it]"
          ]
        },
        {
          "output_type": "stream",
          "name": "stdout",
          "text": [
            "Episode 402/500 | Avg Why: 0.6571 | Avg Inconsistency: 1.0000 | Last Entanglement: 0.990 | Last Chaoticity: 0.001\n"
          ]
        },
        {
          "output_type": "stream",
          "name": "stderr",
          "text": [
            "Episodes:  81%|████████  | 403/500 [24:55<06:00,  3.72s/it]"
          ]
        },
        {
          "output_type": "stream",
          "name": "stdout",
          "text": [
            "Episode 403/500 | Avg Why: 0.6561 | Avg Inconsistency: 1.0000 | Last Entanglement: 0.990 | Last Chaoticity: 0.001\n"
          ]
        },
        {
          "output_type": "stream",
          "name": "stderr",
          "text": [
            "Episodes:  81%|████████  | 404/500 [24:58<05:47,  3.62s/it]"
          ]
        },
        {
          "output_type": "stream",
          "name": "stdout",
          "text": [
            "Episode 404/500 | Avg Why: 0.6517 | Avg Inconsistency: 1.0000 | Last Entanglement: 0.990 | Last Chaoticity: 0.001\n"
          ]
        },
        {
          "output_type": "stream",
          "name": "stderr",
          "text": [
            "Episodes:  81%|████████  | 405/500 [25:03<06:03,  3.82s/it]"
          ]
        },
        {
          "output_type": "stream",
          "name": "stdout",
          "text": [
            "Episode 405/500 | Avg Why: 0.6472 | Avg Inconsistency: 1.0000 | Last Entanglement: 0.990 | Last Chaoticity: 0.001\n"
          ]
        },
        {
          "output_type": "stream",
          "name": "stderr",
          "text": [
            "Episodes:  81%|████████  | 406/500 [25:06<05:46,  3.69s/it]"
          ]
        },
        {
          "output_type": "stream",
          "name": "stdout",
          "text": [
            "Episode 406/500 | Avg Why: 0.6402 | Avg Inconsistency: 1.0000 | Last Entanglement: 0.990 | Last Chaoticity: 0.001\n"
          ]
        },
        {
          "output_type": "stream",
          "name": "stderr",
          "text": [
            "Episodes:  81%|████████▏ | 407/500 [25:10<05:40,  3.66s/it]"
          ]
        },
        {
          "output_type": "stream",
          "name": "stdout",
          "text": [
            "Episode 407/500 | Avg Why: 0.6409 | Avg Inconsistency: 1.0000 | Last Entanglement: 0.990 | Last Chaoticity: 0.001\n"
          ]
        },
        {
          "output_type": "stream",
          "name": "stderr",
          "text": [
            "Episodes:  82%|████████▏ | 408/500 [25:14<05:55,  3.86s/it]"
          ]
        },
        {
          "output_type": "stream",
          "name": "stdout",
          "text": [
            "Episode 408/500 | Avg Why: 0.6419 | Avg Inconsistency: 1.0000 | Last Entanglement: 0.990 | Last Chaoticity: 0.001\n"
          ]
        },
        {
          "output_type": "stream",
          "name": "stderr",
          "text": [
            "Episodes:  82%|████████▏ | 409/500 [25:18<05:43,  3.77s/it]"
          ]
        },
        {
          "output_type": "stream",
          "name": "stdout",
          "text": [
            "Episode 409/500 | Avg Why: 0.6443 | Avg Inconsistency: 1.0000 | Last Entanglement: 0.990 | Last Chaoticity: 0.001\n"
          ]
        },
        {
          "output_type": "stream",
          "name": "stderr",
          "text": [
            "Episodes:  82%|████████▏ | 410/500 [25:21<05:35,  3.73s/it]"
          ]
        },
        {
          "output_type": "stream",
          "name": "stdout",
          "text": [
            "Episode 410/500 | Avg Why: 0.6362 | Avg Inconsistency: 1.0000 | Last Entanglement: 0.990 | Last Chaoticity: 0.001\n"
          ]
        },
        {
          "output_type": "stream",
          "name": "stderr",
          "text": [
            "Episodes:  82%|████████▏ | 411/500 [25:25<05:43,  3.85s/it]"
          ]
        },
        {
          "output_type": "stream",
          "name": "stdout",
          "text": [
            "Episode 411/500 | Avg Why: 0.6361 | Avg Inconsistency: 1.0000 | Last Entanglement: 0.990 | Last Chaoticity: 0.001\n"
          ]
        },
        {
          "output_type": "stream",
          "name": "stderr",
          "text": [
            "Episodes:  82%|████████▏ | 412/500 [25:29<05:37,  3.84s/it]"
          ]
        },
        {
          "output_type": "stream",
          "name": "stdout",
          "text": [
            "Episode 412/500 | Avg Why: 0.6339 | Avg Inconsistency: 1.0000 | Last Entanglement: 0.990 | Last Chaoticity: 0.001\n"
          ]
        },
        {
          "output_type": "stream",
          "name": "stderr",
          "text": [
            "Episodes:  83%|████████▎ | 413/500 [25:33<05:30,  3.80s/it]"
          ]
        },
        {
          "output_type": "stream",
          "name": "stdout",
          "text": [
            "Episode 413/500 | Avg Why: 0.6365 | Avg Inconsistency: 1.0000 | Last Entanglement: 0.990 | Last Chaoticity: 0.001\n"
          ]
        },
        {
          "output_type": "stream",
          "name": "stderr",
          "text": [
            "Episodes:  83%|████████▎ | 414/500 [25:36<05:14,  3.66s/it]"
          ]
        },
        {
          "output_type": "stream",
          "name": "stdout",
          "text": [
            "Episode 414/500 | Avg Why: 0.6378 | Avg Inconsistency: 1.0000 | Last Entanglement: 0.990 | Last Chaoticity: 0.001\n"
          ]
        },
        {
          "output_type": "stream",
          "name": "stderr",
          "text": [
            "Episodes:  83%|████████▎ | 415/500 [25:40<05:29,  3.87s/it]"
          ]
        },
        {
          "output_type": "stream",
          "name": "stdout",
          "text": [
            "Episode 415/500 | Avg Why: 0.6396 | Avg Inconsistency: 1.0000 | Last Entanglement: 0.990 | Last Chaoticity: 0.001\n"
          ]
        },
        {
          "output_type": "stream",
          "name": "stderr",
          "text": [
            "Episodes:  83%|████████▎ | 416/500 [25:44<05:07,  3.67s/it]"
          ]
        },
        {
          "output_type": "stream",
          "name": "stdout",
          "text": [
            "Episode 416/500 | Avg Why: 0.6422 | Avg Inconsistency: 1.0000 | Last Entanglement: 0.990 | Last Chaoticity: 0.001\n"
          ]
        },
        {
          "output_type": "stream",
          "name": "stderr",
          "text": [
            "Episodes:  83%|████████▎ | 417/500 [25:47<05:04,  3.67s/it]"
          ]
        },
        {
          "output_type": "stream",
          "name": "stdout",
          "text": [
            "Episode 417/500 | Avg Why: 0.6435 | Avg Inconsistency: 1.0000 | Last Entanglement: 0.990 | Last Chaoticity: 0.001\n"
          ]
        },
        {
          "output_type": "stream",
          "name": "stderr",
          "text": [
            "Episodes:  84%|████████▎ | 418/500 [25:51<05:12,  3.81s/it]"
          ]
        },
        {
          "output_type": "stream",
          "name": "stdout",
          "text": [
            "Episode 418/500 | Avg Why: 0.6438 | Avg Inconsistency: 1.0000 | Last Entanglement: 0.990 | Last Chaoticity: 0.001\n"
          ]
        },
        {
          "output_type": "stream",
          "name": "stderr",
          "text": [
            "Episodes:  84%|████████▍ | 419/500 [25:55<04:56,  3.66s/it]"
          ]
        },
        {
          "output_type": "stream",
          "name": "stdout",
          "text": [
            "Episode 419/500 | Avg Why: 0.6457 | Avg Inconsistency: 1.0000 | Last Entanglement: 0.990 | Last Chaoticity: 0.001\n"
          ]
        },
        {
          "output_type": "stream",
          "name": "stderr",
          "text": [
            "Episodes:  84%|████████▍ | 420/500 [25:58<04:45,  3.57s/it]"
          ]
        },
        {
          "output_type": "stream",
          "name": "stdout",
          "text": [
            "Episode 420/500 | Avg Why: 0.6440 | Avg Inconsistency: 1.0000 | Last Entanglement: 0.990 | Last Chaoticity: 0.001\n"
          ]
        },
        {
          "output_type": "stream",
          "name": "stderr",
          "text": [
            "Episodes:  84%|████████▍ | 421/500 [26:02<04:37,  3.51s/it]"
          ]
        },
        {
          "output_type": "stream",
          "name": "stdout",
          "text": [
            "Episode 421/500 | Avg Why: 0.6498 | Avg Inconsistency: 1.0000 | Last Entanglement: 0.990 | Last Chaoticity: 0.001\n"
          ]
        },
        {
          "output_type": "stream",
          "name": "stderr",
          "text": [
            "Episodes:  84%|████████▍ | 422/500 [26:06<04:50,  3.72s/it]"
          ]
        },
        {
          "output_type": "stream",
          "name": "stdout",
          "text": [
            "Episode 422/500 | Avg Why: 0.6431 | Avg Inconsistency: 1.0000 | Last Entanglement: 0.990 | Last Chaoticity: 0.001\n"
          ]
        },
        {
          "output_type": "stream",
          "name": "stderr",
          "text": [
            "Episodes:  85%|████████▍ | 423/500 [26:09<04:39,  3.63s/it]"
          ]
        },
        {
          "output_type": "stream",
          "name": "stdout",
          "text": [
            "Episode 423/500 | Avg Why: 0.6485 | Avg Inconsistency: 1.0000 | Last Entanglement: 0.990 | Last Chaoticity: 0.001\n"
          ]
        },
        {
          "output_type": "stream",
          "name": "stderr",
          "text": [
            "Episodes:  85%|████████▍ | 424/500 [26:13<04:32,  3.58s/it]"
          ]
        },
        {
          "output_type": "stream",
          "name": "stdout",
          "text": [
            "Episode 424/500 | Avg Why: 0.6495 | Avg Inconsistency: 1.0000 | Last Entanglement: 0.990 | Last Chaoticity: 0.001\n"
          ]
        },
        {
          "output_type": "stream",
          "name": "stderr",
          "text": [
            "Episodes:  85%|████████▌ | 425/500 [26:17<04:51,  3.89s/it]"
          ]
        },
        {
          "output_type": "stream",
          "name": "stdout",
          "text": [
            "Episode 425/500 | Avg Why: 0.6449 | Avg Inconsistency: 1.0000 | Last Entanglement: 0.990 | Last Chaoticity: 0.001\n"
          ]
        },
        {
          "output_type": "stream",
          "name": "stderr",
          "text": [
            "Episodes:  85%|████████▌ | 426/500 [26:21<04:38,  3.76s/it]"
          ]
        },
        {
          "output_type": "stream",
          "name": "stdout",
          "text": [
            "Episode 426/500 | Avg Why: 0.6513 | Avg Inconsistency: 1.0000 | Last Entanglement: 0.990 | Last Chaoticity: 0.001\n"
          ]
        },
        {
          "output_type": "stream",
          "name": "stderr",
          "text": [
            "Episodes:  85%|████████▌ | 427/500 [26:24<04:33,  3.75s/it]"
          ]
        },
        {
          "output_type": "stream",
          "name": "stdout",
          "text": [
            "Episode 427/500 | Avg Why: 0.6516 | Avg Inconsistency: 1.0000 | Last Entanglement: 0.990 | Last Chaoticity: 0.001\n"
          ]
        },
        {
          "output_type": "stream",
          "name": "stderr",
          "text": [
            "Episodes:  86%|████████▌ | 428/500 [26:28<04:25,  3.69s/it]"
          ]
        },
        {
          "output_type": "stream",
          "name": "stdout",
          "text": [
            "Episode 428/500 | Avg Why: 0.6580 | Avg Inconsistency: 1.0000 | Last Entanglement: 0.990 | Last Chaoticity: 0.001\n"
          ]
        },
        {
          "output_type": "stream",
          "name": "stderr",
          "text": [
            "Episodes:  86%|████████▌ | 429/500 [26:32<04:28,  3.79s/it]"
          ]
        },
        {
          "output_type": "stream",
          "name": "stdout",
          "text": [
            "Episode 429/500 | Avg Why: 0.6569 | Avg Inconsistency: 1.0000 | Last Entanglement: 0.990 | Last Chaoticity: 0.001\n"
          ]
        },
        {
          "output_type": "stream",
          "name": "stderr",
          "text": [
            "Episodes:  86%|████████▌ | 430/500 [26:36<04:24,  3.77s/it]"
          ]
        },
        {
          "output_type": "stream",
          "name": "stdout",
          "text": [
            "Episode 430/500 | Avg Why: 0.6693 | Avg Inconsistency: 1.0000 | Last Entanglement: 0.990 | Last Chaoticity: 0.001\n"
          ]
        },
        {
          "output_type": "stream",
          "name": "stderr",
          "text": [
            "Episodes:  86%|████████▌ | 431/500 [26:39<04:14,  3.69s/it]"
          ]
        },
        {
          "output_type": "stream",
          "name": "stdout",
          "text": [
            "Episode 431/500 | Avg Why: 0.6691 | Avg Inconsistency: 1.0000 | Last Entanglement: 0.990 | Last Chaoticity: 0.001\n"
          ]
        },
        {
          "output_type": "stream",
          "name": "stderr",
          "text": [
            "Episodes:  86%|████████▋ | 432/500 [26:43<04:22,  3.86s/it]"
          ]
        },
        {
          "output_type": "stream",
          "name": "stdout",
          "text": [
            "Episode 432/500 | Avg Why: 0.6646 | Avg Inconsistency: 1.0000 | Last Entanglement: 0.990 | Last Chaoticity: 0.001\n"
          ]
        },
        {
          "output_type": "stream",
          "name": "stderr",
          "text": [
            "Episodes:  87%|████████▋ | 433/500 [26:47<04:06,  3.69s/it]"
          ]
        },
        {
          "output_type": "stream",
          "name": "stdout",
          "text": [
            "Episode 433/500 | Avg Why: 0.6647 | Avg Inconsistency: 1.0000 | Last Entanglement: 0.990 | Last Chaoticity: 0.001\n"
          ]
        },
        {
          "output_type": "stream",
          "name": "stderr",
          "text": [
            "Episodes:  87%|████████▋ | 434/500 [26:50<03:56,  3.58s/it]"
          ]
        },
        {
          "output_type": "stream",
          "name": "stdout",
          "text": [
            "Episode 434/500 | Avg Why: 0.6655 | Avg Inconsistency: 1.0000 | Last Entanglement: 0.990 | Last Chaoticity: 0.001\n"
          ]
        },
        {
          "output_type": "stream",
          "name": "stderr",
          "text": [
            "Episodes:  87%|████████▋ | 435/500 [26:54<03:59,  3.68s/it]"
          ]
        },
        {
          "output_type": "stream",
          "name": "stdout",
          "text": [
            "Episode 435/500 | Avg Why: 0.6626 | Avg Inconsistency: 1.0000 | Last Entanglement: 0.990 | Last Chaoticity: 0.001\n"
          ]
        },
        {
          "output_type": "stream",
          "name": "stderr",
          "text": [
            "Episodes:  87%|████████▋ | 436/500 [26:58<04:00,  3.76s/it]"
          ]
        },
        {
          "output_type": "stream",
          "name": "stdout",
          "text": [
            "Episode 436/500 | Avg Why: 0.6858 | Avg Inconsistency: 1.0000 | Last Entanglement: 0.990 | Last Chaoticity: 0.001\n"
          ]
        },
        {
          "output_type": "stream",
          "name": "stderr",
          "text": [
            "Episodes:  87%|████████▋ | 437/500 [27:01<03:48,  3.63s/it]"
          ]
        },
        {
          "output_type": "stream",
          "name": "stdout",
          "text": [
            "Episode 437/500 | Avg Why: 0.6916 | Avg Inconsistency: 1.0000 | Last Entanglement: 0.990 | Last Chaoticity: 0.001\n"
          ]
        },
        {
          "output_type": "stream",
          "name": "stderr",
          "text": [
            "Episodes:  88%|████████▊ | 438/500 [27:05<03:43,  3.61s/it]"
          ]
        },
        {
          "output_type": "stream",
          "name": "stdout",
          "text": [
            "Episode 438/500 | Avg Why: 0.6906 | Avg Inconsistency: 1.0000 | Last Entanglement: 0.990 | Last Chaoticity: 0.001\n"
          ]
        },
        {
          "output_type": "stream",
          "name": "stderr",
          "text": [
            "Episodes:  88%|████████▊ | 439/500 [27:09<03:53,  3.82s/it]"
          ]
        },
        {
          "output_type": "stream",
          "name": "stdout",
          "text": [
            "Episode 439/500 | Avg Why: 0.6899 | Avg Inconsistency: 1.0000 | Last Entanglement: 0.990 | Last Chaoticity: 0.001\n"
          ]
        },
        {
          "output_type": "stream",
          "name": "stderr",
          "text": [
            "Episodes:  88%|████████▊ | 440/500 [27:12<03:39,  3.66s/it]"
          ]
        },
        {
          "output_type": "stream",
          "name": "stdout",
          "text": [
            "Episode 440/500 | Avg Why: 0.6922 | Avg Inconsistency: 1.0000 | Last Entanglement: 0.990 | Last Chaoticity: 0.001\n"
          ]
        },
        {
          "output_type": "stream",
          "name": "stderr",
          "text": [
            "Episodes:  88%|████████▊ | 441/500 [27:16<03:33,  3.62s/it]"
          ]
        },
        {
          "output_type": "stream",
          "name": "stdout",
          "text": [
            "Episode 441/500 | Avg Why: 0.6930 | Avg Inconsistency: 1.0000 | Last Entanglement: 0.990 | Last Chaoticity: 0.001\n"
          ]
        },
        {
          "output_type": "stream",
          "name": "stderr",
          "text": [
            "Episodes:  88%|████████▊ | 442/500 [27:20<03:39,  3.79s/it]"
          ]
        },
        {
          "output_type": "stream",
          "name": "stdout",
          "text": [
            "Episode 442/500 | Avg Why: 0.6922 | Avg Inconsistency: 1.0000 | Last Entanglement: 0.990 | Last Chaoticity: 0.001\n"
          ]
        },
        {
          "output_type": "stream",
          "name": "stderr",
          "text": [
            "Episodes:  89%|████████▊ | 443/500 [27:24<03:32,  3.73s/it]"
          ]
        },
        {
          "output_type": "stream",
          "name": "stdout",
          "text": [
            "Episode 443/500 | Avg Why: 0.6900 | Avg Inconsistency: 1.0000 | Last Entanglement: 0.990 | Last Chaoticity: 0.001\n"
          ]
        },
        {
          "output_type": "stream",
          "name": "stderr",
          "text": [
            "Episodes:  89%|████████▉ | 444/500 [27:27<03:23,  3.64s/it]"
          ]
        },
        {
          "output_type": "stream",
          "name": "stdout",
          "text": [
            "Episode 444/500 | Avg Why: 0.6882 | Avg Inconsistency: 1.0000 | Last Entanglement: 0.990 | Last Chaoticity: 0.001\n"
          ]
        },
        {
          "output_type": "stream",
          "name": "stderr",
          "text": [
            "Episodes:  89%|████████▉ | 445/500 [27:31<03:15,  3.55s/it]"
          ]
        },
        {
          "output_type": "stream",
          "name": "stdout",
          "text": [
            "Episode 445/500 | Avg Why: 0.6883 | Avg Inconsistency: 1.0000 | Last Entanglement: 0.990 | Last Chaoticity: 0.001\n"
          ]
        },
        {
          "output_type": "stream",
          "name": "stderr",
          "text": [
            "Episodes:  89%|████████▉ | 446/500 [27:35<03:25,  3.80s/it]"
          ]
        },
        {
          "output_type": "stream",
          "name": "stdout",
          "text": [
            "Episode 446/500 | Avg Why: 0.6892 | Avg Inconsistency: 1.0000 | Last Entanglement: 0.990 | Last Chaoticity: 0.001\n"
          ]
        },
        {
          "output_type": "stream",
          "name": "stderr",
          "text": [
            "Episodes:  89%|████████▉ | 447/500 [27:38<03:15,  3.69s/it]"
          ]
        },
        {
          "output_type": "stream",
          "name": "stdout",
          "text": [
            "Episode 447/500 | Avg Why: 0.6904 | Avg Inconsistency: 1.0000 | Last Entanglement: 0.990 | Last Chaoticity: 0.001\n"
          ]
        },
        {
          "output_type": "stream",
          "name": "stderr",
          "text": [
            "Episodes:  90%|████████▉ | 448/500 [27:42<03:10,  3.67s/it]"
          ]
        },
        {
          "output_type": "stream",
          "name": "stdout",
          "text": [
            "Episode 448/500 | Avg Why: 0.6908 | Avg Inconsistency: 1.0000 | Last Entanglement: 0.990 | Last Chaoticity: 0.001\n"
          ]
        },
        {
          "output_type": "stream",
          "name": "stderr",
          "text": [
            "Episodes:  90%|████████▉ | 449/500 [27:46<03:11,  3.76s/it]"
          ]
        },
        {
          "output_type": "stream",
          "name": "stdout",
          "text": [
            "Episode 449/500 | Avg Why: 0.6928 | Avg Inconsistency: 1.0000 | Last Entanglement: 0.990 | Last Chaoticity: 0.001\n"
          ]
        },
        {
          "output_type": "stream",
          "name": "stderr",
          "text": [
            "Episodes:  90%|█████████ | 450/500 [27:49<02:59,  3.59s/it]"
          ]
        },
        {
          "output_type": "stream",
          "name": "stdout",
          "text": [
            "Episode 450/500 | Avg Why: 0.6927 | Avg Inconsistency: 1.0000 | Last Entanglement: 0.990 | Last Chaoticity: 0.001\n"
          ]
        },
        {
          "output_type": "stream",
          "name": "stderr",
          "text": [
            "Episodes:  90%|█████████ | 451/500 [27:53<02:56,  3.61s/it]"
          ]
        },
        {
          "output_type": "stream",
          "name": "stdout",
          "text": [
            "Episode 451/500 | Avg Why: 0.6923 | Avg Inconsistency: 1.0000 | Last Entanglement: 0.990 | Last Chaoticity: 0.001\n"
          ]
        },
        {
          "output_type": "stream",
          "name": "stderr",
          "text": [
            "Episodes:  90%|█████████ | 452/500 [27:56<02:50,  3.55s/it]"
          ]
        },
        {
          "output_type": "stream",
          "name": "stdout",
          "text": [
            "Episode 452/500 | Avg Why: 0.6950 | Avg Inconsistency: 0.9999 | Last Entanglement: 0.990 | Last Chaoticity: 0.001\n"
          ]
        },
        {
          "output_type": "stream",
          "name": "stderr",
          "text": [
            "Episodes:  91%|█████████ | 453/500 [28:01<02:57,  3.78s/it]"
          ]
        },
        {
          "output_type": "stream",
          "name": "stdout",
          "text": [
            "Episode 453/500 | Avg Why: 0.6950 | Avg Inconsistency: 0.9999 | Last Entanglement: 0.990 | Last Chaoticity: 0.001\n"
          ]
        },
        {
          "output_type": "stream",
          "name": "stderr",
          "text": [
            "Episodes:  91%|█████████ | 454/500 [28:04<02:46,  3.61s/it]"
          ]
        },
        {
          "output_type": "stream",
          "name": "stdout",
          "text": [
            "Episode 454/500 | Avg Why: 0.6937 | Avg Inconsistency: 0.9999 | Last Entanglement: 0.990 | Last Chaoticity: 0.001\n"
          ]
        },
        {
          "output_type": "stream",
          "name": "stderr",
          "text": [
            "Episodes:  91%|█████████ | 455/500 [28:07<02:42,  3.61s/it]"
          ]
        },
        {
          "output_type": "stream",
          "name": "stdout",
          "text": [
            "Episode 455/500 | Avg Why: 0.6937 | Avg Inconsistency: 0.9999 | Last Entanglement: 0.990 | Last Chaoticity: 0.001\n"
          ]
        },
        {
          "output_type": "stream",
          "name": "stderr",
          "text": [
            "Episodes:  91%|█████████ | 456/500 [28:12<02:47,  3.80s/it]"
          ]
        },
        {
          "output_type": "stream",
          "name": "stdout",
          "text": [
            "Episode 456/500 | Avg Why: 0.6959 | Avg Inconsistency: 0.9998 | Last Entanglement: 0.990 | Last Chaoticity: 0.001\n"
          ]
        },
        {
          "output_type": "stream",
          "name": "stderr",
          "text": [
            "Episodes:  91%|█████████▏| 457/500 [28:15<02:36,  3.65s/it]"
          ]
        },
        {
          "output_type": "stream",
          "name": "stdout",
          "text": [
            "Episode 457/500 | Avg Why: 0.6828 | Avg Inconsistency: 0.9997 | Last Entanglement: 0.990 | Last Chaoticity: 0.001\n"
          ]
        },
        {
          "output_type": "stream",
          "name": "stderr",
          "text": [
            "Episodes:  92%|█████████▏| 458/500 [28:18<02:27,  3.51s/it]"
          ]
        },
        {
          "output_type": "stream",
          "name": "stdout",
          "text": [
            "Episode 458/500 | Avg Why: 0.6910 | Avg Inconsistency: 0.9997 | Last Entanglement: 0.990 | Last Chaoticity: 0.001\n"
          ]
        },
        {
          "output_type": "stream",
          "name": "stderr",
          "text": [
            "Episodes:  92%|█████████▏| 459/500 [28:21<02:19,  3.40s/it]"
          ]
        },
        {
          "output_type": "stream",
          "name": "stdout",
          "text": [
            "Episode 459/500 | Avg Why: 0.6915 | Avg Inconsistency: 0.9996 | Last Entanglement: 0.990 | Last Chaoticity: 0.001\n"
          ]
        },
        {
          "output_type": "stream",
          "name": "stderr",
          "text": [
            "Episodes:  92%|█████████▏| 460/500 [28:25<02:23,  3.59s/it]"
          ]
        },
        {
          "output_type": "stream",
          "name": "stdout",
          "text": [
            "Episode 460/500 | Avg Why: 0.6913 | Avg Inconsistency: 0.9998 | Last Entanglement: 0.990 | Last Chaoticity: 0.001\n"
          ]
        },
        {
          "output_type": "stream",
          "name": "stderr",
          "text": [
            "Episodes:  92%|█████████▏| 461/500 [28:29<02:18,  3.54s/it]"
          ]
        },
        {
          "output_type": "stream",
          "name": "stdout",
          "text": [
            "Episode 461/500 | Avg Why: 0.6876 | Avg Inconsistency: 0.9998 | Last Entanglement: 0.990 | Last Chaoticity: 0.001\n"
          ]
        },
        {
          "output_type": "stream",
          "name": "stderr",
          "text": [
            "Episodes:  92%|█████████▏| 462/500 [28:32<02:15,  3.57s/it]"
          ]
        },
        {
          "output_type": "stream",
          "name": "stdout",
          "text": [
            "Episode 462/500 | Avg Why: 0.6896 | Avg Inconsistency: 0.9997 | Last Entanglement: 0.990 | Last Chaoticity: 0.001\n"
          ]
        },
        {
          "output_type": "stream",
          "name": "stderr",
          "text": [
            "Episodes:  93%|█████████▎| 463/500 [28:36<02:16,  3.68s/it]"
          ]
        },
        {
          "output_type": "stream",
          "name": "stdout",
          "text": [
            "Episode 463/500 | Avg Why: 0.6891 | Avg Inconsistency: 0.9998 | Last Entanglement: 0.990 | Last Chaoticity: 0.001\n"
          ]
        },
        {
          "output_type": "stream",
          "name": "stderr",
          "text": [
            "Episodes:  93%|█████████▎| 464/500 [28:40<02:12,  3.69s/it]"
          ]
        },
        {
          "output_type": "stream",
          "name": "stdout",
          "text": [
            "Episode 464/500 | Avg Why: 0.6852 | Avg Inconsistency: 0.9998 | Last Entanglement: 0.990 | Last Chaoticity: 0.001\n"
          ]
        },
        {
          "output_type": "stream",
          "name": "stderr",
          "text": [
            "Episodes:  93%|█████████▎| 465/500 [28:43<02:06,  3.62s/it]"
          ]
        },
        {
          "output_type": "stream",
          "name": "stdout",
          "text": [
            "Episode 465/500 | Avg Why: 0.6888 | Avg Inconsistency: 0.9997 | Last Entanglement: 0.990 | Last Chaoticity: 0.001\n"
          ]
        },
        {
          "output_type": "stream",
          "name": "stderr",
          "text": [
            "Episodes:  93%|█████████▎| 466/500 [28:47<01:59,  3.53s/it]"
          ]
        },
        {
          "output_type": "stream",
          "name": "stdout",
          "text": [
            "Episode 466/500 | Avg Why: 0.6868 | Avg Inconsistency: 0.9998 | Last Entanglement: 0.990 | Last Chaoticity: 0.001\n"
          ]
        },
        {
          "output_type": "stream",
          "name": "stderr",
          "text": [
            "Episodes:  93%|█████████▎| 467/500 [28:51<02:03,  3.74s/it]"
          ]
        },
        {
          "output_type": "stream",
          "name": "stdout",
          "text": [
            "Episode 467/500 | Avg Why: 0.6894 | Avg Inconsistency: 0.9996 | Last Entanglement: 0.990 | Last Chaoticity: 0.001\n"
          ]
        },
        {
          "output_type": "stream",
          "name": "stderr",
          "text": [
            "Episodes:  94%|█████████▎| 468/500 [28:54<01:53,  3.55s/it]"
          ]
        },
        {
          "output_type": "stream",
          "name": "stdout",
          "text": [
            "Episode 468/500 | Avg Why: 0.6909 | Avg Inconsistency: 0.9997 | Last Entanglement: 0.990 | Last Chaoticity: 0.001\n"
          ]
        },
        {
          "output_type": "stream",
          "name": "stderr",
          "text": [
            "Episodes:  94%|█████████▍| 469/500 [28:57<01:48,  3.51s/it]"
          ]
        },
        {
          "output_type": "stream",
          "name": "stdout",
          "text": [
            "Episode 469/500 | Avg Why: 0.7170 | Avg Inconsistency: 0.9983 | Last Entanglement: 0.990 | Last Chaoticity: 0.001\n"
          ]
        },
        {
          "output_type": "stream",
          "name": "stderr",
          "text": [
            "Episodes:  94%|█████████▍| 470/500 [29:02<01:50,  3.69s/it]"
          ]
        },
        {
          "output_type": "stream",
          "name": "stdout",
          "text": [
            "Episode 470/500 | Avg Why: 0.6996 | Avg Inconsistency: 0.9994 | Last Entanglement: 0.990 | Last Chaoticity: 0.001\n"
          ]
        },
        {
          "output_type": "stream",
          "name": "stderr",
          "text": [
            "Episodes:  94%|█████████▍| 471/500 [29:05<01:44,  3.60s/it]"
          ]
        },
        {
          "output_type": "stream",
          "name": "stdout",
          "text": [
            "Episode 471/500 | Avg Why: 0.7023 | Avg Inconsistency: 0.9994 | Last Entanglement: 0.990 | Last Chaoticity: 0.001\n"
          ]
        },
        {
          "output_type": "stream",
          "name": "stderr",
          "text": [
            "Episodes:  94%|█████████▍| 472/500 [29:09<01:40,  3.59s/it]"
          ]
        },
        {
          "output_type": "stream",
          "name": "stdout",
          "text": [
            "Episode 472/500 | Avg Why: 0.7051 | Avg Inconsistency: 0.9994 | Last Entanglement: 0.990 | Last Chaoticity: 0.001\n"
          ]
        },
        {
          "output_type": "stream",
          "name": "stderr",
          "text": [
            "Episodes:  95%|█████████▍| 473/500 [29:12<01:35,  3.54s/it]"
          ]
        },
        {
          "output_type": "stream",
          "name": "stdout",
          "text": [
            "Episode 473/500 | Avg Why: 0.7136 | Avg Inconsistency: 0.9994 | Last Entanglement: 0.990 | Last Chaoticity: 0.001\n"
          ]
        },
        {
          "output_type": "stream",
          "name": "stderr",
          "text": [
            "Episodes:  95%|█████████▍| 474/500 [29:16<01:37,  3.75s/it]"
          ]
        },
        {
          "output_type": "stream",
          "name": "stdout",
          "text": [
            "Episode 474/500 | Avg Why: 0.7090 | Avg Inconsistency: 0.9993 | Last Entanglement: 0.990 | Last Chaoticity: 0.001\n"
          ]
        },
        {
          "output_type": "stream",
          "name": "stderr",
          "text": [
            "Episodes:  95%|█████████▌| 475/500 [29:19<01:29,  3.57s/it]"
          ]
        },
        {
          "output_type": "stream",
          "name": "stdout",
          "text": [
            "Episode 475/500 | Avg Why: 0.6839 | Avg Inconsistency: 0.9995 | Last Entanglement: 0.990 | Last Chaoticity: 0.001\n"
          ]
        },
        {
          "output_type": "stream",
          "name": "stderr",
          "text": [
            "Episodes:  95%|█████████▌| 476/500 [29:23<01:22,  3.44s/it]"
          ]
        },
        {
          "output_type": "stream",
          "name": "stdout",
          "text": [
            "Episode 476/500 | Avg Why: 0.6878 | Avg Inconsistency: 0.9996 | Last Entanglement: 0.990 | Last Chaoticity: 0.001\n"
          ]
        },
        {
          "output_type": "stream",
          "name": "stderr",
          "text": [
            "Episodes:  95%|█████████▌| 477/500 [29:26<01:20,  3.48s/it]"
          ]
        },
        {
          "output_type": "stream",
          "name": "stdout",
          "text": [
            "Episode 477/500 | Avg Why: 0.7031 | Avg Inconsistency: 0.9995 | Last Entanglement: 0.990 | Last Chaoticity: 0.001\n"
          ]
        },
        {
          "output_type": "stream",
          "name": "stderr",
          "text": [
            "Episodes:  96%|█████████▌| 478/500 [29:30<01:21,  3.68s/it]"
          ]
        },
        {
          "output_type": "stream",
          "name": "stdout",
          "text": [
            "Episode 478/500 | Avg Why: 0.6975 | Avg Inconsistency: 0.9995 | Last Entanglement: 0.990 | Last Chaoticity: 0.001\n"
          ]
        },
        {
          "output_type": "stream",
          "name": "stderr",
          "text": [
            "Episodes:  96%|█████████▌| 479/500 [29:34<01:15,  3.59s/it]"
          ]
        },
        {
          "output_type": "stream",
          "name": "stdout",
          "text": [
            "Episode 479/500 | Avg Why: 0.7096 | Avg Inconsistency: 0.9995 | Last Entanglement: 0.990 | Last Chaoticity: 0.001\n"
          ]
        },
        {
          "output_type": "stream",
          "name": "stderr",
          "text": [
            "Episodes:  96%|█████████▌| 480/500 [29:37<01:11,  3.57s/it]"
          ]
        },
        {
          "output_type": "stream",
          "name": "stdout",
          "text": [
            "Episode 480/500 | Avg Why: 0.7117 | Avg Inconsistency: 0.9995 | Last Entanglement: 0.990 | Last Chaoticity: 0.001\n"
          ]
        },
        {
          "output_type": "stream",
          "name": "stderr",
          "text": [
            "Episodes:  96%|█████████▌| 481/500 [29:41<01:09,  3.66s/it]"
          ]
        },
        {
          "output_type": "stream",
          "name": "stdout",
          "text": [
            "Episode 481/500 | Avg Why: 0.7132 | Avg Inconsistency: 0.9995 | Last Entanglement: 0.990 | Last Chaoticity: 0.001\n"
          ]
        },
        {
          "output_type": "stream",
          "name": "stderr",
          "text": [
            "Episodes:  96%|█████████▋| 482/500 [29:44<01:04,  3.57s/it]"
          ]
        },
        {
          "output_type": "stream",
          "name": "stdout",
          "text": [
            "Episode 482/500 | Avg Why: 0.7129 | Avg Inconsistency: 0.9994 | Last Entanglement: 0.990 | Last Chaoticity: 0.001\n"
          ]
        },
        {
          "output_type": "stream",
          "name": "stderr",
          "text": [
            "Episodes:  97%|█████████▋| 483/500 [29:48<01:00,  3.56s/it]"
          ]
        },
        {
          "output_type": "stream",
          "name": "stdout",
          "text": [
            "Episode 483/500 | Avg Why: 0.7154 | Avg Inconsistency: 0.9994 | Last Entanglement: 0.990 | Last Chaoticity: 0.001\n"
          ]
        },
        {
          "output_type": "stream",
          "name": "stderr",
          "text": [
            "Episodes:  97%|█████████▋| 484/500 [29:52<00:58,  3.68s/it]"
          ]
        },
        {
          "output_type": "stream",
          "name": "stdout",
          "text": [
            "Episode 484/500 | Avg Why: 0.7149 | Avg Inconsistency: 0.9994 | Last Entanglement: 0.990 | Last Chaoticity: 0.001\n"
          ]
        },
        {
          "output_type": "stream",
          "name": "stderr",
          "text": [
            "Episodes:  97%|█████████▋| 485/500 [29:56<00:55,  3.70s/it]"
          ]
        },
        {
          "output_type": "stream",
          "name": "stdout",
          "text": [
            "Episode 485/500 | Avg Why: 0.7146 | Avg Inconsistency: 0.9994 | Last Entanglement: 0.990 | Last Chaoticity: 0.001\n"
          ]
        },
        {
          "output_type": "stream",
          "name": "stderr",
          "text": [
            "Episodes:  97%|█████████▋| 486/500 [29:59<00:50,  3.61s/it]"
          ]
        },
        {
          "output_type": "stream",
          "name": "stdout",
          "text": [
            "Episode 486/500 | Avg Why: 0.6703 | Avg Inconsistency: 0.9999 | Last Entanglement: 0.990 | Last Chaoticity: 0.001\n"
          ]
        },
        {
          "output_type": "stream",
          "name": "stderr",
          "text": [
            "Episodes:  97%|█████████▋| 487/500 [30:03<00:47,  3.62s/it]"
          ]
        },
        {
          "output_type": "stream",
          "name": "stdout",
          "text": [
            "Episode 487/500 | Avg Why: 0.6640 | Avg Inconsistency: 1.0000 | Last Entanglement: 0.990 | Last Chaoticity: 0.001\n"
          ]
        },
        {
          "output_type": "stream",
          "name": "stderr",
          "text": [
            "Episodes:  98%|█████████▊| 488/500 [30:07<00:44,  3.75s/it]"
          ]
        },
        {
          "output_type": "stream",
          "name": "stdout",
          "text": [
            "Episode 488/500 | Avg Why: 0.6650 | Avg Inconsistency: 1.0000 | Last Entanglement: 0.990 | Last Chaoticity: 0.001\n"
          ]
        },
        {
          "output_type": "stream",
          "name": "stderr",
          "text": [
            "Episodes:  98%|█████████▊| 489/500 [30:10<00:40,  3.70s/it]"
          ]
        },
        {
          "output_type": "stream",
          "name": "stdout",
          "text": [
            "Episode 489/500 | Avg Why: 0.6676 | Avg Inconsistency: 0.9999 | Last Entanglement: 0.990 | Last Chaoticity: 0.001\n"
          ]
        },
        {
          "output_type": "stream",
          "name": "stderr",
          "text": [
            "Episodes:  98%|█████████▊| 490/500 [30:14<00:37,  3.73s/it]"
          ]
        },
        {
          "output_type": "stream",
          "name": "stdout",
          "text": [
            "Episode 490/500 | Avg Why: 0.6658 | Avg Inconsistency: 0.9999 | Last Entanglement: 0.990 | Last Chaoticity: 0.001\n"
          ]
        },
        {
          "output_type": "stream",
          "name": "stderr",
          "text": [
            "Episodes:  98%|█████████▊| 491/500 [30:18<00:34,  3.81s/it]"
          ]
        },
        {
          "output_type": "stream",
          "name": "stdout",
          "text": [
            "Episode 491/500 | Avg Why: 0.6655 | Avg Inconsistency: 0.9999 | Last Entanglement: 0.990 | Last Chaoticity: 0.001\n"
          ]
        },
        {
          "output_type": "stream",
          "name": "stderr",
          "text": [
            "Episodes:  98%|█████████▊| 492/500 [30:22<00:30,  3.75s/it]"
          ]
        },
        {
          "output_type": "stream",
          "name": "stdout",
          "text": [
            "Episode 492/500 | Avg Why: 0.6638 | Avg Inconsistency: 1.0000 | Last Entanglement: 0.990 | Last Chaoticity: 0.001\n"
          ]
        },
        {
          "output_type": "stream",
          "name": "stderr",
          "text": [
            "Episodes:  99%|█████████▊| 493/500 [30:25<00:25,  3.62s/it]"
          ]
        },
        {
          "output_type": "stream",
          "name": "stdout",
          "text": [
            "Episode 493/500 | Avg Why: 0.6628 | Avg Inconsistency: 1.0000 | Last Entanglement: 0.990 | Last Chaoticity: 0.001\n"
          ]
        },
        {
          "output_type": "stream",
          "name": "stderr",
          "text": [
            "Episodes:  99%|█████████▉| 494/500 [30:29<00:22,  3.67s/it]"
          ]
        },
        {
          "output_type": "stream",
          "name": "stdout",
          "text": [
            "Episode 494/500 | Avg Why: 0.6639 | Avg Inconsistency: 1.0000 | Last Entanglement: 0.990 | Last Chaoticity: 0.001\n"
          ]
        },
        {
          "output_type": "stream",
          "name": "stderr",
          "text": [
            "Episodes:  99%|█████████▉| 495/500 [30:33<00:18,  3.78s/it]"
          ]
        },
        {
          "output_type": "stream",
          "name": "stdout",
          "text": [
            "Episode 495/500 | Avg Why: 0.6647 | Avg Inconsistency: 0.9999 | Last Entanglement: 0.990 | Last Chaoticity: 0.001\n"
          ]
        },
        {
          "output_type": "stream",
          "name": "stderr",
          "text": [
            "Episodes:  99%|█████████▉| 496/500 [30:36<00:14,  3.74s/it]"
          ]
        },
        {
          "output_type": "stream",
          "name": "stdout",
          "text": [
            "Episode 496/500 | Avg Why: 0.6708 | Avg Inconsistency: 0.9999 | Last Entanglement: 0.990 | Last Chaoticity: 0.001\n"
          ]
        },
        {
          "output_type": "stream",
          "name": "stderr",
          "text": [
            "Episodes:  99%|█████████▉| 497/500 [30:40<00:10,  3.62s/it]"
          ]
        },
        {
          "output_type": "stream",
          "name": "stdout",
          "text": [
            "Episode 497/500 | Avg Why: 0.6646 | Avg Inconsistency: 0.9999 | Last Entanglement: 0.990 | Last Chaoticity: 0.001\n"
          ]
        },
        {
          "output_type": "stream",
          "name": "stderr",
          "text": [
            "Episodes: 100%|█████████▉| 498/500 [30:44<00:07,  3.75s/it]"
          ]
        },
        {
          "output_type": "stream",
          "name": "stdout",
          "text": [
            "Episode 498/500 | Avg Why: 0.6665 | Avg Inconsistency: 0.9999 | Last Entanglement: 0.990 | Last Chaoticity: 0.001\n"
          ]
        },
        {
          "output_type": "stream",
          "name": "stderr",
          "text": [
            "Episodes: 100%|█████████▉| 499/500 [30:47<00:03,  3.70s/it]"
          ]
        },
        {
          "output_type": "stream",
          "name": "stdout",
          "text": [
            "Episode 499/500 | Avg Why: 0.6678 | Avg Inconsistency: 0.9999 | Last Entanglement: 0.990 | Last Chaoticity: 0.001\n"
          ]
        },
        {
          "output_type": "stream",
          "name": "stderr",
          "text": [
            "Episodes: 100%|██████████| 500/500 [30:51<00:00,  3.70s/it]"
          ]
        },
        {
          "output_type": "stream",
          "name": "stdout",
          "text": [
            "Episode 500/500 | Avg Why: 0.6653 | Avg Inconsistency: 1.0000 | Last Entanglement: 0.990 | Last Chaoticity: 0.001\n",
            "\n",
            "Simulation complete. Generating plots and saving results...\n"
          ]
        },
        {
          "output_type": "stream",
          "name": "stderr",
          "text": [
            "\n"
          ]
        },
        {
          "output_type": "error",
          "ename": "TypeError",
          "evalue": "Object of type float32 is not JSON serializable",
          "traceback": [
            "\u001b[0;31m---------------------------------------------------------------------------\u001b[0m",
            "\u001b[0;31mTypeError\u001b[0m                                 Traceback (most recent call last)",
            "\u001b[0;32m/tmp/ipython-input-1-209289858.py\u001b[0m in \u001b[0;36m<cell line: 0>\u001b[0;34m()\u001b[0m\n\u001b[1;32m    849\u001b[0m     \u001b[0mresults_json_path\u001b[0m \u001b[0;34m=\u001b[0m \u001b[0mos\u001b[0m\u001b[0;34m.\u001b[0m\u001b[0mpath\u001b[0m\u001b[0;34m.\u001b[0m\u001b[0mjoin\u001b[0m\u001b[0;34m(\u001b[0m\u001b[0mresults_dir\u001b[0m\u001b[0;34m,\u001b[0m \u001b[0;34m\"simulation_metrics_history.json\"\u001b[0m\u001b[0;34m)\u001b[0m\u001b[0;34m\u001b[0m\u001b[0;34m\u001b[0m\u001b[0m\n\u001b[1;32m    850\u001b[0m     \u001b[0;32mwith\u001b[0m \u001b[0mopen\u001b[0m\u001b[0;34m(\u001b[0m\u001b[0mresults_json_path\u001b[0m\u001b[0;34m,\u001b[0m \u001b[0;34m\"w\"\u001b[0m\u001b[0;34m)\u001b[0m \u001b[0;32mas\u001b[0m \u001b[0mf\u001b[0m\u001b[0;34m:\u001b[0m\u001b[0;34m\u001b[0m\u001b[0;34m\u001b[0m\u001b[0m\n\u001b[0;32m--> 851\u001b[0;31m         \u001b[0mjson\u001b[0m\u001b[0;34m.\u001b[0m\u001b[0mdump\u001b[0m\u001b[0;34m(\u001b[0m\u001b[0mall_metrics_history\u001b[0m\u001b[0;34m,\u001b[0m \u001b[0mf\u001b[0m\u001b[0;34m,\u001b[0m \u001b[0mindent\u001b[0m\u001b[0;34m=\u001b[0m\u001b[0;36m4\u001b[0m\u001b[0;34m)\u001b[0m\u001b[0;34m\u001b[0m\u001b[0;34m\u001b[0m\u001b[0m\n\u001b[0m\u001b[1;32m    852\u001b[0m     \u001b[0mprint\u001b[0m\u001b[0;34m(\u001b[0m\u001b[0;34mf\"Detailed metrics saved to {results_json_path}\"\u001b[0m\u001b[0;34m)\u001b[0m\u001b[0;34m\u001b[0m\u001b[0;34m\u001b[0m\u001b[0m\n\u001b[1;32m    853\u001b[0m \u001b[0;34m\u001b[0m\u001b[0m\n",
            "\u001b[0;32m/usr/lib/python3.11/json/__init__.py\u001b[0m in \u001b[0;36mdump\u001b[0;34m(obj, fp, skipkeys, ensure_ascii, check_circular, allow_nan, cls, indent, separators, default, sort_keys, **kw)\u001b[0m\n\u001b[1;32m    177\u001b[0m     \u001b[0;31m# could accelerate with writelines in some versions of Python, at\u001b[0m\u001b[0;34m\u001b[0m\u001b[0;34m\u001b[0m\u001b[0m\n\u001b[1;32m    178\u001b[0m     \u001b[0;31m# a debuggability cost\u001b[0m\u001b[0;34m\u001b[0m\u001b[0;34m\u001b[0m\u001b[0m\n\u001b[0;32m--> 179\u001b[0;31m     \u001b[0;32mfor\u001b[0m \u001b[0mchunk\u001b[0m \u001b[0;32min\u001b[0m \u001b[0miterable\u001b[0m\u001b[0;34m:\u001b[0m\u001b[0;34m\u001b[0m\u001b[0;34m\u001b[0m\u001b[0m\n\u001b[0m\u001b[1;32m    180\u001b[0m         \u001b[0mfp\u001b[0m\u001b[0;34m.\u001b[0m\u001b[0mwrite\u001b[0m\u001b[0;34m(\u001b[0m\u001b[0mchunk\u001b[0m\u001b[0;34m)\u001b[0m\u001b[0;34m\u001b[0m\u001b[0;34m\u001b[0m\u001b[0m\n\u001b[1;32m    181\u001b[0m \u001b[0;34m\u001b[0m\u001b[0m\n",
            "\u001b[0;32m/usr/lib/python3.11/json/encoder.py\u001b[0m in \u001b[0;36m_iterencode\u001b[0;34m(o, _current_indent_level)\u001b[0m\n\u001b[1;32m    428\u001b[0m             \u001b[0;32myield\u001b[0m \u001b[0m_floatstr\u001b[0m\u001b[0;34m(\u001b[0m\u001b[0mo\u001b[0m\u001b[0;34m)\u001b[0m\u001b[0;34m\u001b[0m\u001b[0;34m\u001b[0m\u001b[0m\n\u001b[1;32m    429\u001b[0m         \u001b[0;32melif\u001b[0m \u001b[0misinstance\u001b[0m\u001b[0;34m(\u001b[0m\u001b[0mo\u001b[0m\u001b[0;34m,\u001b[0m \u001b[0;34m(\u001b[0m\u001b[0mlist\u001b[0m\u001b[0;34m,\u001b[0m \u001b[0mtuple\u001b[0m\u001b[0;34m)\u001b[0m\u001b[0;34m)\u001b[0m\u001b[0;34m:\u001b[0m\u001b[0;34m\u001b[0m\u001b[0;34m\u001b[0m\u001b[0m\n\u001b[0;32m--> 430\u001b[0;31m             \u001b[0;32myield\u001b[0m \u001b[0;32mfrom\u001b[0m \u001b[0m_iterencode_list\u001b[0m\u001b[0;34m(\u001b[0m\u001b[0mo\u001b[0m\u001b[0;34m,\u001b[0m \u001b[0m_current_indent_level\u001b[0m\u001b[0;34m)\u001b[0m\u001b[0;34m\u001b[0m\u001b[0;34m\u001b[0m\u001b[0m\n\u001b[0m\u001b[1;32m    431\u001b[0m         \u001b[0;32melif\u001b[0m \u001b[0misinstance\u001b[0m\u001b[0;34m(\u001b[0m\u001b[0mo\u001b[0m\u001b[0;34m,\u001b[0m \u001b[0mdict\u001b[0m\u001b[0;34m)\u001b[0m\u001b[0;34m:\u001b[0m\u001b[0;34m\u001b[0m\u001b[0;34m\u001b[0m\u001b[0m\n\u001b[1;32m    432\u001b[0m             \u001b[0;32myield\u001b[0m \u001b[0;32mfrom\u001b[0m \u001b[0m_iterencode_dict\u001b[0m\u001b[0;34m(\u001b[0m\u001b[0mo\u001b[0m\u001b[0;34m,\u001b[0m \u001b[0m_current_indent_level\u001b[0m\u001b[0;34m)\u001b[0m\u001b[0;34m\u001b[0m\u001b[0;34m\u001b[0m\u001b[0m\n",
            "\u001b[0;32m/usr/lib/python3.11/json/encoder.py\u001b[0m in \u001b[0;36m_iterencode_list\u001b[0;34m(lst, _current_indent_level)\u001b[0m\n\u001b[1;32m    324\u001b[0m                 \u001b[0;32melse\u001b[0m\u001b[0;34m:\u001b[0m\u001b[0;34m\u001b[0m\u001b[0;34m\u001b[0m\u001b[0m\n\u001b[1;32m    325\u001b[0m                     \u001b[0mchunks\u001b[0m \u001b[0;34m=\u001b[0m \u001b[0m_iterencode\u001b[0m\u001b[0;34m(\u001b[0m\u001b[0mvalue\u001b[0m\u001b[0;34m,\u001b[0m \u001b[0m_current_indent_level\u001b[0m\u001b[0;34m)\u001b[0m\u001b[0;34m\u001b[0m\u001b[0;34m\u001b[0m\u001b[0m\n\u001b[0;32m--> 326\u001b[0;31m                 \u001b[0;32myield\u001b[0m \u001b[0;32mfrom\u001b[0m \u001b[0mchunks\u001b[0m\u001b[0;34m\u001b[0m\u001b[0;34m\u001b[0m\u001b[0m\n\u001b[0m\u001b[1;32m    327\u001b[0m         \u001b[0;32mif\u001b[0m \u001b[0mnewline_indent\u001b[0m \u001b[0;32mis\u001b[0m \u001b[0;32mnot\u001b[0m \u001b[0;32mNone\u001b[0m\u001b[0;34m:\u001b[0m\u001b[0;34m\u001b[0m\u001b[0;34m\u001b[0m\u001b[0m\n\u001b[1;32m    328\u001b[0m             \u001b[0m_current_indent_level\u001b[0m \u001b[0;34m-=\u001b[0m \u001b[0;36m1\u001b[0m\u001b[0;34m\u001b[0m\u001b[0;34m\u001b[0m\u001b[0m\n",
            "\u001b[0;32m/usr/lib/python3.11/json/encoder.py\u001b[0m in \u001b[0;36m_iterencode_dict\u001b[0;34m(dct, _current_indent_level)\u001b[0m\n\u001b[1;32m    404\u001b[0m                 \u001b[0;32melse\u001b[0m\u001b[0;34m:\u001b[0m\u001b[0;34m\u001b[0m\u001b[0;34m\u001b[0m\u001b[0m\n\u001b[1;32m    405\u001b[0m                     \u001b[0mchunks\u001b[0m \u001b[0;34m=\u001b[0m \u001b[0m_iterencode\u001b[0m\u001b[0;34m(\u001b[0m\u001b[0mvalue\u001b[0m\u001b[0;34m,\u001b[0m \u001b[0m_current_indent_level\u001b[0m\u001b[0;34m)\u001b[0m\u001b[0;34m\u001b[0m\u001b[0;34m\u001b[0m\u001b[0m\n\u001b[0;32m--> 406\u001b[0;31m                 \u001b[0;32myield\u001b[0m \u001b[0;32mfrom\u001b[0m \u001b[0mchunks\u001b[0m\u001b[0;34m\u001b[0m\u001b[0;34m\u001b[0m\u001b[0m\n\u001b[0m\u001b[1;32m    407\u001b[0m         \u001b[0;32mif\u001b[0m \u001b[0mnewline_indent\u001b[0m \u001b[0;32mis\u001b[0m \u001b[0;32mnot\u001b[0m \u001b[0;32mNone\u001b[0m\u001b[0;34m:\u001b[0m\u001b[0;34m\u001b[0m\u001b[0;34m\u001b[0m\u001b[0m\n\u001b[1;32m    408\u001b[0m             \u001b[0m_current_indent_level\u001b[0m \u001b[0;34m-=\u001b[0m \u001b[0;36m1\u001b[0m\u001b[0;34m\u001b[0m\u001b[0;34m\u001b[0m\u001b[0m\n",
            "\u001b[0;32m/usr/lib/python3.11/json/encoder.py\u001b[0m in \u001b[0;36m_iterencode\u001b[0;34m(o, _current_indent_level)\u001b[0m\n\u001b[1;32m    437\u001b[0m                     \u001b[0;32mraise\u001b[0m \u001b[0mValueError\u001b[0m\u001b[0;34m(\u001b[0m\u001b[0;34m\"Circular reference detected\"\u001b[0m\u001b[0;34m)\u001b[0m\u001b[0;34m\u001b[0m\u001b[0;34m\u001b[0m\u001b[0m\n\u001b[1;32m    438\u001b[0m                 \u001b[0mmarkers\u001b[0m\u001b[0;34m[\u001b[0m\u001b[0mmarkerid\u001b[0m\u001b[0;34m]\u001b[0m \u001b[0;34m=\u001b[0m \u001b[0mo\u001b[0m\u001b[0;34m\u001b[0m\u001b[0;34m\u001b[0m\u001b[0m\n\u001b[0;32m--> 439\u001b[0;31m             \u001b[0mo\u001b[0m \u001b[0;34m=\u001b[0m \u001b[0m_default\u001b[0m\u001b[0;34m(\u001b[0m\u001b[0mo\u001b[0m\u001b[0;34m)\u001b[0m\u001b[0;34m\u001b[0m\u001b[0;34m\u001b[0m\u001b[0m\n\u001b[0m\u001b[1;32m    440\u001b[0m             \u001b[0;32myield\u001b[0m \u001b[0;32mfrom\u001b[0m \u001b[0m_iterencode\u001b[0m\u001b[0;34m(\u001b[0m\u001b[0mo\u001b[0m\u001b[0;34m,\u001b[0m \u001b[0m_current_indent_level\u001b[0m\u001b[0;34m)\u001b[0m\u001b[0;34m\u001b[0m\u001b[0;34m\u001b[0m\u001b[0m\n\u001b[1;32m    441\u001b[0m             \u001b[0;32mif\u001b[0m \u001b[0mmarkers\u001b[0m \u001b[0;32mis\u001b[0m \u001b[0;32mnot\u001b[0m \u001b[0;32mNone\u001b[0m\u001b[0;34m:\u001b[0m\u001b[0;34m\u001b[0m\u001b[0;34m\u001b[0m\u001b[0m\n",
            "\u001b[0;32m/usr/lib/python3.11/json/encoder.py\u001b[0m in \u001b[0;36mdefault\u001b[0;34m(self, o)\u001b[0m\n\u001b[1;32m    178\u001b[0m \u001b[0;34m\u001b[0m\u001b[0m\n\u001b[1;32m    179\u001b[0m         \"\"\"\n\u001b[0;32m--> 180\u001b[0;31m         raise TypeError(f'Object of type {o.__class__.__name__} '\n\u001b[0m\u001b[1;32m    181\u001b[0m                         f'is not JSON serializable')\n\u001b[1;32m    182\u001b[0m \u001b[0;34m\u001b[0m\u001b[0m\n",
            "\u001b[0;31mTypeError\u001b[0m: Object of type float32 is not JSON serializable"
          ]
        }
      ],
      "source": [
        "import torch\n",
        "import torch.nn as nn\n",
        "import torch.nn.functional as F\n",
        "import numpy as np\n",
        "from tqdm import tqdm\n",
        "import matplotlib.pyplot as plt\n",
        "import seaborn as sns\n",
        "import umap.umap_ as umap\n",
        "from sklearn.cluster import KMeans\n",
        "from sklearn.metrics import silhouette_score\n",
        "import warnings\n",
        "import json\n",
        "from datetime import datetime\n",
        "import os\n",
        "import random # For reproducibility with random.seed\n",
        "\n",
        "# Suppress specific UserWarnings from UMAP and KMeans\n",
        "warnings.filterwarnings(\"ignore\", category=UserWarning)\n",
        "sns.set_style(\"whitegrid\")\n",
        "\n",
        "# ===== CONFIGURATION =====\n",
        "device = torch.device('cuda' if torch.cuda.is_available() else 'cpu')\n",
        "\n",
        "# Set all seeds for reproducibility\n",
        "torch.manual_seed(42)\n",
        "np.random.seed(42)\n",
        "random.seed(42) # For any non-PyTorch/Numpy random operations\n",
        "\n",
        "# Create directory for saving results\n",
        "timestamp = datetime.now().strftime(\"%Y%m%d_%H%M%S\")\n",
        "results_dir = f\"rdt_simulation_results_{timestamp}\"\n",
        "os.makedirs(results_dir, exist_ok=True)\n",
        "os.makedirs(os.path.join(results_dir, \"plots\"), exist_ok=True) # Subdir for plots\n",
        "\n",
        "# Hyperparameters\n",
        "NUM_EPISODES = 500\n",
        "MAX_TIME_STEPS_PER_EPISODE = 100\n",
        "SEQUENCE_LENGTH = 10 # How many past states the agent considers\n",
        "D_MODEL = 128 # Dimension of internal representation\n",
        "NUM_HEADS = 8\n",
        "LEARNING_RATE = 1e-4\n",
        "SALENCE_LR_MULTIPLIER = 0.1 # A smaller LR for salience prediction to allow why_metric to emerge\n",
        "MEMORY_SIZE_EPISODIC = 50\n",
        "MEMORY_SIZE_SEMANTIC = 20\n",
        "\n",
        "# ===== UTILITY FUNCTIONS =====\n",
        "def plot_metrics_over_time(history_data, metric_name, title, filename):\n",
        "    plt.figure(figsize=(12, 6))\n",
        "    plt.plot([d[metric_name] for d in history_data], label=metric_name)\n",
        "    plt.title(title)\n",
        "    plt.xlabel(\"Simulation Step\")\n",
        "    plt.ylabel(metric_name)\n",
        "    plt.legend()\n",
        "    plt.grid(True)\n",
        "    plt.savefig(os.path.join(results_dir, \"plots\", filename))\n",
        "    plt.close()\n",
        "\n",
        "def plot_umap_embeddings(embeddings, labels, title, filename):\n",
        "    if len(embeddings) < 2:\n",
        "        print(f\"Not enough data points ({len(embeddings)}) for UMAP plot: {filename}\")\n",
        "        return\n",
        "\n",
        "    reducer = umap.UMAP(n_neighbors=15, min_dist=0.1, n_components=2, random_state=42)\n",
        "    try:\n",
        "        embedding_2d = reducer.fit_transform(np.array(embeddings))\n",
        "        plt.figure(figsize=(10, 8))\n",
        "        if labels is not None:\n",
        "            scatter = plt.scatter(embedding_2d[:, 0], embedding_2d[:, 1], c=labels, cmap='viridis', s=10, alpha=0.7)\n",
        "            plt.colorbar(scatter, label=\"Why Metric Value\")\n",
        "        else:\n",
        "            plt.scatter(embedding_2d[:, 0], embedding_2d[:, 1], s=10, alpha=0.7)\n",
        "        plt.title(title)\n",
        "        plt.xlabel(\"UMAP Dimension 1\")\n",
        "        plt.ylabel(\"UMAP Dimension 2\")\n",
        "        plt.grid(True)\n",
        "        plt.savefig(os.path.join(results_dir, \"plots\", filename))\n",
        "        plt.close()\n",
        "    except Exception as e:\n",
        "        print(f\"UMAP plotting failed for {filename}: {e}\")\n",
        "\n",
        "# ===== RCS AGENT (Observer & Inconsistency Processor) =====\n",
        "class RCSAgent(nn.Module):\n",
        "    def __init__(self, state_dim, action_dim, d_model=D_MODEL, num_heads=NUM_HEADS):\n",
        "        super().__init__()\n",
        "        self.state_dim = state_dim\n",
        "        self.d_model = d_model\n",
        "        self.action_dim = action_dim\n",
        "\n",
        "        # Input processing with residual connections\n",
        "        self.input_embedding = nn.Sequential(\n",
        "            nn.Linear(state_dim, d_model),\n",
        "            nn.LayerNorm(d_model),\n",
        "            nn.SiLU(),\n",
        "            nn.Dropout(0.1)\n",
        "        ).to(device)\n",
        "\n",
        "        # Multi-scale feature extraction for the *last* state in the sequence\n",
        "        # Assuming state_dim is large enough for meaningful conv features\n",
        "        self.local_features = nn.Conv1d(1, d_model//4, kernel_size=3, padding=1).to(device)\n",
        "        self.global_features = nn.Conv1d(1, d_model//4, kernel_size=7, padding=3).to(device)\n",
        "\n",
        "        # Calculate conv_feature_dim dynamically based on an example input\n",
        "        # This is a bit tricky; a more robust way is to pass a dummy tensor\n",
        "        # For simplicity, let's assume the conv output will be flattened and projected to d_model\n",
        "        # The output size of Conv1d with padding='same' is the input size. So (batch, 1, state_dim) -> (batch, d_model//4, state_dim)\n",
        "        # Flattening (d_model//4 * state_dim)\n",
        "\n",
        "        # We need the actual state_dim to be divisible by the kernel for consistent conv output size.\n",
        "        # For a general solution, let's just make it a large linear layer that projects it.\n",
        "        # This might need adjustment if state_dim is too large for these convs.\n",
        "        self.conv_proj = nn.Linear(state_dim * (d_model // 4) * 2, d_model).to(device) # Placeholder size, adjust as needed\n",
        "\n",
        "        # Transformer encoder for sequence processing\n",
        "        encoder_layer = nn.TransformerEncoderLayer(\n",
        "            d_model=d_model,\n",
        "            nhead=num_heads,\n",
        "            dim_feedforward=d_model * 4,\n",
        "            dropout=0.1,\n",
        "            batch_first=True,\n",
        "            activation='gelu',\n",
        "            device=device\n",
        "        )\n",
        "        self.transformer = nn.TransformerEncoder(encoder_layer, num_layers=4).to(device)\n",
        "\n",
        "        # Attention mechanism for memory\n",
        "        self.memory_attention = nn.MultiheadAttention(\n",
        "            embed_dim=d_model,\n",
        "            num_heads=4,\n",
        "            batch_first=True,\n",
        "            device=device\n",
        "        )\n",
        "\n",
        "        # Inconsistency Detector - Core RDT component\n",
        "        self.inconsistency_detector = nn.Sequential(\n",
        "            nn.Linear(d_model, 64),\n",
        "            nn.SiLU(),\n",
        "            nn.Linear(64, 1),\n",
        "            nn.Sigmoid() # Output a score between 0 and 1 (0: consistent, 1: highly inconsistent)\n",
        "        ).to(device)\n",
        "\n",
        "        # Meta-Cognition / Self-Referential Unit (Why Processor) - Core RDT component\n",
        "        # Takes current state embedding and inconsistency to update an internal \"why_accumulator\"\n",
        "        self.why_processor = nn.LSTMCell(d_model + 1, d_model // 2).to(device)\n",
        "        # Registered as buffers to persist across forward passes within an episode, but reset per episode\n",
        "        self.register_buffer('why_hidden', torch.zeros(1, d_model // 2, device=device))\n",
        "        self.register_buffer('why_cell', torch.zeros(1, d_model // 2, device=device))\n",
        "        self.why_output_layer = nn.Linear(d_model // 2, 1).to(device) # Project to a single 'why_metric'\n",
        "\n",
        "        # Exploration Policy (formerly Actor) - for probing the environment\n",
        "        self.exploration_policy = nn.Sequential(\n",
        "            nn.Linear(d_model + 1 + d_model // 2, 128), # Input: state_embedding, inconsistency, why_hidden\n",
        "            nn.SiLU(),\n",
        "            nn.Linear(128, 64),\n",
        "            nn.SiLU(),\n",
        "            nn.Linear(64, action_dim),\n",
        "            nn.Tanh() # Scale actions between -1 and 1\n",
        "        ).to(device)\n",
        "\n",
        "        # Salience Predictor (formerly Critic) - predicts info gain potential\n",
        "        self.salience_predictor = nn.Sequential(\n",
        "            nn.Linear(d_model + 1, 128), # Input: state_embedding + inconsistency_score\n",
        "            nn.SiLU(),\n",
        "            nn.Linear(128, 64),\n",
        "            nn.SiLU(),\n",
        "            nn.Linear(64, 1)\n",
        "        ).to(device)\n",
        "\n",
        "        # Episodic and Semantic Memory\n",
        "        self.register_buffer('episodic_memory', torch.zeros(MEMORY_SIZE_EPISODIC, d_model, device=device))\n",
        "        self.register_buffer('semantic_memory', torch.zeros(MEMORY_SIZE_SEMANTIC, d_model, device=device))\n",
        "        self.register_buffer('episodic_ptr', torch.tensor(0, device=device, dtype=torch.long))\n",
        "        self.register_buffer('semantic_ptr', torch.tensor(0, device=device, dtype=torch.long))\n",
        "\n",
        "        # Meta-learning adaptation rate (kept as before)\n",
        "        self.adaptation_rate = nn.Parameter(torch.tensor(0.01, device=device))\n",
        "\n",
        "        self._init_weights()\n",
        "\n",
        "    def _init_weights(self):\n",
        "        for module in self.modules():\n",
        "            if isinstance(module, nn.Linear):\n",
        "                nn.init.kaiming_normal_(module.weight, nonlinearity='relu')\n",
        "                if module.bias is not None:\n",
        "                    nn.init.constant_(module.bias, 0)\n",
        "            elif isinstance(module, (nn.LayerNorm, nn.BatchNorm1d)):\n",
        "                nn.init.constant_(module.bias, 0)\n",
        "                nn.init.constant_(module.weight, 1.0)\n",
        "\n",
        "    def update_memory(self, state_embedding, salience_score, inconsistency_score, why_metric):\n",
        "        # Only store if salience is above a threshold, or if inconsistency/why is high\n",
        "        if salience_score.item() > 0.6 or inconsistency_score.item() > 0.7 or why_metric.item() > 0.5:\n",
        "            self.episodic_memory.data[self.episodic_ptr] = state_embedding.detach().data\n",
        "            self.episodic_ptr.data = (self.episodic_ptr.data + 1) % self.episodic_memory.size(0)\n",
        "\n",
        "            # Semantic memory update for highly significant/inconsistent states or high why\n",
        "            if salience_score.item() > 0.8 and inconsistency_score.item() > 0.8 and why_metric.item() > 0.7:\n",
        "                 self.semantic_memory.data[self.semantic_ptr] = state_embedding.detach().data\n",
        "                 self.semantic_ptr.data = (self.semantic_ptr.data + 1) % self.semantic_memory.size(0)\n",
        "\n",
        "    def reset_why_state(self):\n",
        "        \"\"\"Resets the internal state of the why_processor for a new episode.\"\"\"\n",
        "        self.why_hidden = torch.zeros(1, self.d_model // 2, device=device)\n",
        "        self.why_cell = torch.zeros(1, self.d_model // 2, device=device)\n",
        "\n",
        "    def forward(self, state_sequence):\n",
        "        batch_size = state_sequence.size(0)\n",
        "        seq_len = state_sequence.size(1)\n",
        "\n",
        "        # Multi-scale feature extraction on the *last* state\n",
        "        last_state = state_sequence[:, -1, :].unsqueeze(1) # (batch_size, 1, state_dim)\n",
        "\n",
        "        # Handle cases where state_dim might be too small for Conv1d kernel\n",
        "        if self.state_dim < 7: # Smallest kernel size used in conv\n",
        "             # Fallback: simpler feature extraction if conv is not applicable\n",
        "            local_feat = F.adaptive_avg_pool1d(last_state, self.d_model // 4).transpose(1,2)\n",
        "            global_feat = F.adaptive_max_pool1d(last_state, self.d_model // 4).transpose(1,2)\n",
        "        else:\n",
        "            local_feat = self.local_features(last_state).transpose(1, 2)\n",
        "            global_feat = self.global_features(last_state).transpose(1, 2)\n",
        "\n",
        "        combined_conv_features = torch.cat([local_feat.flatten(start_dim=1), global_feat.flatten(start_dim=1)], dim=1)\n",
        "        projected_conv = self.conv_proj(combined_conv_features) # Project to d_model\n",
        "\n",
        "        # Sequence embedding and positional encoding\n",
        "        x_seq_embedding = self.input_embedding(state_sequence.float())\n",
        "        pos_encoding = torch.zeros(seq_len, self.d_model, device=device)\n",
        "        position = torch.arange(0, seq_len).unsqueeze(1).float()\n",
        "        div_term = torch.exp(torch.arange(0, self.d_model, 2).float() * -(np.log(10000.0) / self.d_model))\n",
        "        pos_encoding[:, 0::2] = torch.sin(position * div_term)\n",
        "        pos_encoding[:, 1::2] = torch.cos(position * div_term)\n",
        "        x = x_seq_embedding + pos_encoding.unsqueeze(0)\n",
        "\n",
        "        # Transformer processing\n",
        "        memory = self.transformer(x)\n",
        "        state_embedding = memory[:, -1, :] # Embedding of the last element in sequence\n",
        "\n",
        "        # Combine transformer output with conv features\n",
        "        state_embedding = state_embedding + projected_conv\n",
        "\n",
        "        # Memory attention mechanism\n",
        "        current_episodic_memory = self.episodic_memory[:self.episodic_ptr] # Only use filled part\n",
        "        current_semantic_memory = self.semantic_memory[:self.semantic_ptr]\n",
        "\n",
        "        if current_episodic_memory.numel() > 0:\n",
        "            attended_episodic_memory, _ = self.memory_attention(\n",
        "                state_embedding.unsqueeze(1),\n",
        "                current_episodic_memory.unsqueeze(0).expand(batch_size, -1, -1),\n",
        "                current_episodic_memory.unsqueeze(0).expand(batch_size, -1, -1)\n",
        "            )\n",
        "            state_embedding = state_embedding + 0.1 * attended_episodic_memory.squeeze(1)\n",
        "\n",
        "        if current_semantic_memory.numel() > 0:\n",
        "            attended_semantic_memory, _ = self.memory_attention(\n",
        "                state_embedding.unsqueeze(1),\n",
        "                current_semantic_memory.unsqueeze(0).expand(batch_size, -1, -1),\n",
        "                current_semantic_memory.unsqueeze(0).expand(batch_size, -1, -1)\n",
        "            )\n",
        "            state_embedding = state_embedding + 0.2 * attended_semantic_memory.squeeze(1) # Stronger influence for semantic\n",
        "\n",
        "        # Calculate Inconsistency Score (Core RDT)\n",
        "        inconsistency_score = self.inconsistency_detector(state_embedding)\n",
        "\n",
        "        # Update Why Accumulator (Core RDT)\n",
        "        # LSTMCell expects (input, (h, c)) where input is (batch_size, input_size)\n",
        "        # and h, c are (batch_size, hidden_size)\n",
        "        why_input_combined = torch.cat([state_embedding, inconsistency_score], dim=-1)\n",
        "\n",
        "        # Unpack, process, and pack LSTM states, handling batch_size=1\n",
        "        h_in = self.why_hidden.squeeze(0) # (hidden_size,)\n",
        "        c_in = self.why_cell.squeeze(0)   # (hidden_size,)\n",
        "\n",
        "        h_out, c_out = self.why_processor(why_input_combined.squeeze(0), (h_in, c_in))\n",
        "\n",
        "        self.why_hidden = h_out.unsqueeze(0) # (1, hidden_size)\n",
        "        self.why_cell = c_out.unsqueeze(0)   # (1, hidden_size)\n",
        "\n",
        "        why_metric = torch.sigmoid(self.why_output_layer(self.why_hidden)) # Sigmoid to keep between 0 and 1\n",
        "\n",
        "        # Exploration Policy (action generation)\n",
        "        exploration_input = torch.cat([state_embedding, inconsistency_score, self.why_hidden], dim=-1)\n",
        "        exploration_action = self.exploration_policy(exploration_input)\n",
        "\n",
        "        # Salience Predictor\n",
        "        salience = self.salience_predictor(torch.cat([state_embedding, inconsistency_score], dim=-1)) # Predicts how 'interesting' or 'informative' this state is\n",
        "\n",
        "        # Update Memory (using combined criteria)\n",
        "        # Pass batch_size 1, as this is typically run step-by-step\n",
        "        self.update_memory(state_embedding.squeeze(0), salience.squeeze(0), inconsistency_score.squeeze(0), why_metric.squeeze(0))\n",
        "\n",
        "        return exploration_action, salience, state_embedding, inconsistency_score, why_metric\n",
        "\n",
        "# ===== DYNAMIC TENSOR (5D Substrate Representation) =====\n",
        "class DynamicTensor(nn.Module):\n",
        "    def __init__(self, size=(4,4,4)):\n",
        "        super().__init__()\n",
        "        self.initial_size = size\n",
        "        self.history = []\n",
        "        self.phase_history = []\n",
        "\n",
        "        # Use register_parameter for gradients, register_buffer for non-gradient tensors\n",
        "        self._tensor_data = nn.Parameter(self._initialize_tensor(size))\n",
        "        self._entanglement_level = nn.Parameter(torch.tensor(0.5, device=device, requires_grad=True))\n",
        "        self._chaoticity_index = nn.Parameter(torch.tensor(0.1, device=device, requires_grad=True))\n",
        "\n",
        "        # Enhanced learnable evolution parameters\n",
        "        self.evolution_rate = nn.Parameter(torch.tensor(0.08, device=device))\n",
        "        self.syntropic_strength = nn.Parameter(torch.tensor(0.15, device=device))\n",
        "        self.quantum_coupling = nn.Parameter(torch.tensor(0.03, device=device))\n",
        "\n",
        "        # Phase transition parameters\n",
        "        self.critical_entanglement = nn.Parameter(torch.tensor(0.618, device=device))\n",
        "        self.phase_transition_sharpness = nn.Parameter(torch.tensor(5.0, device=device))\n",
        "\n",
        "    def _initialize_tensor(self, size):\n",
        "        base_tensor = torch.randn(size, device=device)\n",
        "        pattern = torch.zeros(size, device=device)\n",
        "        for i in range(size[0]):\n",
        "            for j in range(size[1]):\n",
        "                x = torch.linspace(0, 2*np.pi, size[2]).to(device)\n",
        "                structure = (0.3 * torch.sin(x + i * np.pi/4) +\n",
        "                           0.2 * torch.cos(2*x + j * np.pi/3) +\n",
        "                           0.1 * torch.sin(3*x))\n",
        "                pattern[i, j] = structure\n",
        "        return base_tensor + pattern\n",
        "\n",
        "    def compute_phase_order(self, tensor_data):\n",
        "        \"\"\"Compute an order parameter for phase transitions (e.g., spatial correlation)\"\"\"\n",
        "        if tensor_data.numel() < 2:\n",
        "            return torch.tensor(0.0, device=device)\n",
        "\n",
        "        flat_data = tensor_data.flatten()\n",
        "        correlations = []\n",
        "\n",
        "        for shift in [1, 2]: # Check correlations with small shifts\n",
        "            if len(flat_data) > shift:\n",
        "                x_shifted = flat_data[:-shift]\n",
        "                y_unshifted = flat_data[shift:]\n",
        "\n",
        "                mean_x = x_shifted.mean()\n",
        "                mean_y = y_unshifted.mean()\n",
        "\n",
        "                cov_xy = ((x_shifted - mean_x) * (y_unshifted - mean_y)).mean()\n",
        "                std_x = x_shifted.std()\n",
        "                std_y = y_unshifted.std()\n",
        "\n",
        "                if std_x > 1e-8 and std_y > 1e-8:\n",
        "                    corr = cov_xy / (std_x * std_y)\n",
        "                else:\n",
        "                    corr = torch.tensor(0.0, device=device)\n",
        "\n",
        "                correlations.append(corr)\n",
        "\n",
        "        return torch.stack(correlations).mean() if correlations else torch.tensor(0.0, device=device)\n",
        "\n",
        "    def forward(self, current_tensor_data, current_entanglement_level, current_chaoticity_index):\n",
        "        # Ensure parameters are correctly used for gradient flow\n",
        "        # current_entanglement_level and current_chaoticity_index are now directly updated by the agent's actions\n",
        "        # and fed back into this forward pass.\n",
        "\n",
        "        # Enhanced multi-scale evolution\n",
        "        noise = torch.randn_like(current_tensor_data) * self.evolution_rate\n",
        "        evolved_data = current_tensor_data + noise\n",
        "\n",
        "        # Phase transition dynamics based on agent's action-influenced entanglement\n",
        "        phase_order = self.compute_phase_order(evolved_data)\n",
        "        entanglement_diff = current_entanglement_level - self.critical_entanglement\n",
        "        phase_transition_factor = torch.tanh(\n",
        "            self.phase_transition_sharpness * entanglement_diff\n",
        "        )\n",
        "\n",
        "        # Enhanced syntropic dynamics\n",
        "        std_val = evolved_data.std() + 1e-8\n",
        "        mean_val = evolved_data.mean()\n",
        "\n",
        "        # Syntropic pull towards a more organized state, influenced by phase transition\n",
        "        syntropic_pull = self.syntropic_strength * (\n",
        "            (mean_val + std_val) * (1 + phase_transition_factor * 0.5) - evolved_data\n",
        "        )\n",
        "\n",
        "        # Multi-dimensional quantum-inspired dynamics\n",
        "        quantum_influence = torch.zeros_like(evolved_data)\n",
        "        # Apply quantum influence only if the tensor is large enough for FFT and to avoid errors\n",
        "        if evolved_data.numel() > 1 and evolved_data.dim() >= 2:\n",
        "            try:\n",
        "                # Take the first 2D slice if it's a 3D tensor, or use as is if 2D\n",
        "                fft_input = evolved_data[0] if evolved_data.dim() > 2 else evolved_data\n",
        "                if fft_input.dim() < 2: # If it's 1D after slicing (e.g., initial_size[0]=1, but [1],[2] are larger)\n",
        "                     # Reshape to 2D for FFT2 if possible\n",
        "                     if fft_input.numel() > 1:\n",
        "                         side_len = int(np.sqrt(fft_input.numel()))\n",
        "                         if side_len * side_len == fft_input.numel():\n",
        "                             fft_input = fft_input.reshape(side_len, side_len)\n",
        "                         else: # Pad if not square\n",
        "                             pad_size = side_len*side_len - fft_input.numel() if side_len*side_len > fft_input.numel() else 0\n",
        "                             fft_input = F.pad(fft_input.flatten(), (0, pad_size)).reshape(side_len, side_len)\n",
        "                     else: # Single element\n",
        "                         fft_input = torch.tensor([[fft_input.item()]], device=device) # Make it 2D\n",
        "\n",
        "                fft_data = torch.fft.fft2(fft_input)\n",
        "                phase_spectrum = torch.angle(fft_data)\n",
        "                quantum_influence_scalar = self.quantum_coupling * torch.cos(phase_spectrum.real).mean()\n",
        "                quantum_influence = quantum_influence_scalar * torch.randn_like(evolved_data)\n",
        "            except Exception as e:\n",
        "                # Fallback if FFT fails (e.g. for odd dimensions)\n",
        "                # print(f\"Warning: FFT failed for DynamicTensor, skipping quantum influence: {e}\")\n",
        "                quantum_influence = torch.randn_like(evolved_data) * self.quantum_coupling * 0.1 # Small random influence\n",
        "\n",
        "        # Combine all evolution mechanisms\n",
        "        evolved_data = (\n",
        "            (1 - current_chaoticity_index) * evolved_data + # Less chaoticity -> more regular evolution\n",
        "            current_chaoticity_index * syntropic_pull +    # More chaoticity -> stronger syntropic pull\n",
        "            quantum_influence +\n",
        "            0.05 * phase_transition_factor * torch.randn_like(evolved_data) # Randomness influenced by phase\n",
        "        )\n",
        "\n",
        "        # Entanglement-driven stabilization/coherence\n",
        "        entanglement_effect = torch.sigmoid((current_entanglement_level - 0.5) * 8) # Stronger effect around 0.5\n",
        "        evolved_data = (\n",
        "            (1 - entanglement_effect) * evolved_data +\n",
        "            entanglement_effect * (evolved_data.mean() + 0.2 * evolved_data) # Pull towards mean for higher entanglement\n",
        "        )\n",
        "\n",
        "        # Store extended history - use detached values for history\n",
        "        if len(self.history) > 150: # Cap history length\n",
        "            self.history.pop(0)\n",
        "        if len(self.phase_history) > 100:\n",
        "            self.phase_history.pop(0)\n",
        "\n",
        "        self.history.append(evolved_data.detach().cpu().numpy())\n",
        "        self.phase_history.append(phase_order.detach().cpu().numpy())\n",
        "\n",
        "        return evolved_data\n",
        "\n",
        "    def get_current_tensor_data(self):\n",
        "        return self._tensor_data\n",
        "\n",
        "    def get_entanglement_level(self):\n",
        "        return self._entanglement_level\n",
        "\n",
        "    def get_chaoticity_index(self):\n",
        "        return self._chaoticity_index\n",
        "\n",
        "    def set_current_tensor_data(self, new_data):\n",
        "        # Use .data to update nn.Parameter without breaking graph for other parts\n",
        "        self._tensor_data.data = new_data.data\n",
        "\n",
        "    def set_entanglement_level(self, new_level):\n",
        "        # Clamp to reasonable bounds to prevent instability\n",
        "        self._entanglement_level.data = torch.clamp(new_level, 0.01, 0.99).data\n",
        "\n",
        "    def set_chaoticity_index(self, new_index):\n",
        "        # Clamp to reasonable bounds\n",
        "        self._chaoticity_index.data = torch.clamp(new_index, 0.001, 0.8).data\n",
        "\n",
        "    def metrics(self):\n",
        "        t_data = self._tensor_data.detach()\n",
        "        ent_level = self._entanglement_level.detach().item()\n",
        "        cha_index = self._chaoticity_index.detach().item()\n",
        "\n",
        "        t_flat = t_data.flatten()\n",
        "\n",
        "        # Ensure t_normalized_for_entropy is strictly positive for log\n",
        "        min_val_for_softmax = 1e-8\n",
        "        t_normalized = F.softmax(t_flat, dim=0) + min_val_for_softmax\n",
        "        entropy_val = -(t_normalized * torch.log(t_normalized)).sum().item()\n",
        "\n",
        "        variance = t_data.var().item()\n",
        "        complexity = entropy_val * variance # Simple complexity metric\n",
        "\n",
        "        # Fractal dimension estimation (Box-counting method - simplified)\n",
        "        fractal_dim = 1.0 # Default if calculation fails\n",
        "        try:\n",
        "            if len(self.history) > 10:\n",
        "                recent_history_flat = np.array(self.history[-10:]).flatten()\n",
        "                if len(recent_history_flat) > 0 and np.std(recent_history_flat) > 1e-8:\n",
        "                    # Normalize for box-counting if range is too small\n",
        "                    min_h, max_h = np.min(recent_history_flat), np.max(recent_history_flat)\n",
        "                    if max_h - min_h < 1e-8: # Avoid division by zero\n",
        "                        normalized_history = recent_history_flat\n",
        "                    else:\n",
        "                        normalized_history = (recent_history_flat - min_h) / (max_h - min_h)\n",
        "\n",
        "                    # Create a 1D grid for box counting\n",
        "                    num_bins = 10\n",
        "                    bins = np.linspace(0, 1, num_bins + 1)\n",
        "                    counts = []\n",
        "                    for i in range(num_bins):\n",
        "                        count = np.sum((normalized_history >= bins[i]) & (normalized_history < bins[i+1]))\n",
        "                        if count > 0: counts.append(count)\n",
        "\n",
        "                    if len(counts) > 1:\n",
        "                        # Simplified approach: log-log plot of count vs box size\n",
        "                        # Use a range of effective \"box sizes\" relative to the normalized range\n",
        "                        scales = np.array([1/num_bins, 2/num_bins, 3/num_bins]) # Example scales\n",
        "                        log_scales = np.log(scales)\n",
        "\n",
        "                        # Assuming counts represent occupancy for these scales (rough approx)\n",
        "                        log_counts = np.log(np.array([sum(counts)] * len(scales))) # Placeholder: total count for all boxes\n",
        "                        if len(log_scales) > 1 and np.std(log_counts) > 1e-8:\n",
        "                            slope, _ = np.polyfit(log_scales, log_counts, 1)\n",
        "                            fractal_dim = -slope if not np.isnan(slope) else 1.0\n",
        "        except Exception:\n",
        "            pass # Keep default if any error in fractal dim calculation\n",
        "\n",
        "        # Phase coherence (higher is more coherent)\n",
        "        phase_coherence = 0.0\n",
        "        if len(self.phase_history) > 5:\n",
        "            recent_phases = np.array(self.phase_history[-5:])\n",
        "            mean_abs_phase = np.mean(np.abs(recent_phases)) + 1e-8\n",
        "            if mean_abs_phase > 0:\n",
        "                phase_coherence = 1.0 - np.std(recent_phases) / mean_abs_phase\n",
        "            phase_coherence = np.clip(phase_coherence, 0.0, 1.0) # Clamp between 0 and 1\n",
        "\n",
        "        return {\n",
        "            'entropy': entropy_val,\n",
        "            'entanglement_value': ent_level,\n",
        "            'chaoticity_value': cha_index,\n",
        "            'variance': variance,\n",
        "            'complexity': complexity,\n",
        "            'fractal_dimension': fractal_dim,\n",
        "            'phase_coherence': phase_coherence\n",
        "        }\n",
        "\n",
        "    def reset(self):\n",
        "        self._tensor_data.data = self._initialize_tensor(self.initial_size).data\n",
        "        self._entanglement_level.data = torch.tensor(0.5, device=device).data\n",
        "        self._chaoticity_index.data = torch.tensor(0.1, device=device).data\n",
        "        self.history.clear()\n",
        "        self.phase_history.clear()\n",
        "\n",
        "# ===== CONSCIOUSNESS KERNEL (4D Projection) =====\n",
        "class ConsciousnessKernel(nn.Module):\n",
        "    def __init__(self, target_spectrum_size=4):\n",
        "        super().__init__()\n",
        "        self.spectrum_size = target_spectrum_size\n",
        "\n",
        "        # Learnable frequencies (gamma_freq added)\n",
        "        self.delta_freq = nn.Parameter(torch.tensor(0.5, device=device))\n",
        "        self.theta_freq = nn.Parameter(torch.tensor(0.8, device=device))\n",
        "        self.alpha_freq = nn.Parameter(torch.tensor(1.2, device=device))\n",
        "        self.beta_freq = nn.Parameter(torch.tensor(1.8, device=device))\n",
        "        self.gamma_freq = nn.Parameter(torch.tensor(2.5, device=device))\n",
        "\n",
        "        # Dynamic weights with attention mechanism\n",
        "        self.attention_weights = nn.Parameter(torch.ones(5, target_spectrum_size, device=device))\n",
        "\n",
        "        # Neural entanglement processor\n",
        "        self.entanglement_processor = nn.Sequential(\n",
        "            nn.Linear(1, 32),\n",
        "            nn.SiLU(),\n",
        "            nn.Dropout(0.1),\n",
        "            nn.Linear(32, 64),\n",
        "            nn.SiLU(),\n",
        "            nn.Linear(64, target_spectrum_size * 5), # Output size for modulation of 5 frequencies across spectrum_size\n",
        "            nn.Tanh() # Scale to [-1, 1] for modulation\n",
        "        ).to(device)\n",
        "\n",
        "    def forward(self, tensor_data, entanglement_level):\n",
        "        # Normalize tensor_data to prevent large numbers from destabilizing Bessel functions\n",
        "        # This acts as the \"4D projection filter\" - normalizing the bulk data\n",
        "        norm_tensor_data = (tensor_data - tensor_data.min()) / (tensor_data.max() - tensor_data.min() + 1e-8) if tensor_data.numel() > 1 else tensor_data\n",
        "\n",
        "        # Calculate spatial norms based on the normalized tensor data\n",
        "        spatial_norms = []\n",
        "        if norm_tensor_data.dim() == 0: # Handle scalar tensor\n",
        "            spatial_norms.append(norm_tensor_data.unsqueeze(0))\n",
        "        elif norm_tensor_data.numel() == 1: # Handle single element tensor\n",
        "            spatial_norms.append(norm_tensor_data.unsqueeze(0))\n",
        "        else:\n",
        "            # Aggregate information across dimensions to get spatial components\n",
        "            for dim_idx in range(len(norm_tensor_data.shape)):\n",
        "                dims_to_reduce = [i for i in range(len(norm_tensor_data.shape)) if i != dim_idx]\n",
        "                spatial_norms.append(torch.norm(norm_tensor_data, dim=dims_to_reduce).mean().unsqueeze(0))\n",
        "\n",
        "        if not spatial_norms: # Fallback for edge cases\n",
        "            spatial_norms.append(torch.tensor([1.0], device=device))\n",
        "\n",
        "        # Ensure spatial_norms has enough elements for spectrum_size\n",
        "        if len(spatial_norms) < self.spectrum_size:\n",
        "            # Pad by repeating the last element or similar strategy\n",
        "            spatial_norms_extended = spatial_norms + [spatial_norms[-1]] * (self.spectrum_size - len(spatial_norms))\n",
        "            spatial_norms = spatial_norms_extended[:self.spectrum_size] # Trim if too long\n",
        "\n",
        "        # R_total can be a general measure of the \"size\" or \"magnitude\" of the tensor state\n",
        "        r_total = torch.norm(norm_tensor_data) # Total magnitude of the normalized tensor\n",
        "\n",
        "        # Process entanglement to get modulation factors\n",
        "        ent_processed_raw = self.entanglement_processor(entanglement_level.unsqueeze(0))\n",
        "        ent_modulation_factors = ent_processed_raw.reshape(5, self.spectrum_size) * 0.5 + 0.5 # Scale to [0, 1] for multiplication\n",
        "\n",
        "        # Generate multi-frequency spectrum components using Bessel functions for wave-like patterns\n",
        "        frequencies = [self.delta_freq, self.theta_freq, self.alpha_freq, self.beta_freq, self.gamma_freq]\n",
        "        spectrum_components = []\n",
        "\n",
        "        for freq_idx, freq in enumerate(frequencies):\n",
        "            components = []\n",
        "            for i in range(self.spectrum_size):\n",
        "                phase = (i / self.spectrum_size) * 2 * np.pi # Phase across the spectrum\n",
        "                current_spatial_component = spatial_norms[i].squeeze()\n",
        "\n",
        "                # The argument for Bessel function combines frequency, entanglement modulation,\n",
        "                # and spatial component, representing complex wave interactions\n",
        "                arg = freq * ent_modulation_factors[freq_idx, i] * (current_spatial_component + r_total * 0.1)\n",
        "\n",
        "                # Using Bessel functions to generate wave-like patterns (j0, j1)\n",
        "                # Adding small phase shifts for diversity\n",
        "                if freq_idx == 0: value = torch.special.bessel_j0(arg) * torch.cos(torch.tensor(phase, device=device))\n",
        "                elif freq_idx == 1: value = torch.special.bessel_j1(arg) * torch.sin(torch.tensor(phase, device=device))\n",
        "                elif freq_idx == 2: value = torch.special.bessel_j0(arg + np.pi/4) * torch.cos(torch.tensor(phase + np.pi/8, device=device))\n",
        "                elif freq_idx == 3: value = torch.special.bessel_j1(arg + np.pi/3) * torch.sin(torch.tensor(phase + np.pi/6, device=device))\n",
        "                else: value = torch.special.bessel_j0(arg + 0.5) * torch.cos(torch.tensor(phase + np.pi/4, device=device))\n",
        "\n",
        "                components.append(value)\n",
        "\n",
        "            spectrum_components.append(torch.stack(components))\n",
        "\n",
        "        # Attention-weighted combination of frequency components\n",
        "        combined_spectrum = torch.zeros(self.spectrum_size, device=device)\n",
        "        attn_weights_norm = F.softmax(self.attention_weights, dim=0)\n",
        "\n",
        "        for freq_idx, spectrum in enumerate(spectrum_components):\n",
        "            combined_spectrum += attn_weights_norm[freq_idx] * spectrum\n",
        "\n",
        "        # Normalize the final spectrum to [0, 1] for consistent output scale\n",
        "        combined_spectrum_min = combined_spectrum.min()\n",
        "        combined_spectrum_max = combined_spectrum.max()\n",
        "        if combined_spectrum_max - combined_spectrum_min > 1e-8:\n",
        "            normalized_spectrum = (combined_spectrum - combined_spectrum_min) / (combined_spectrum_max - combined_spectrum_min)\n",
        "        else:\n",
        "            normalized_spectrum = torch.zeros_like(combined_spectrum) # All zeros if min=max\n",
        "\n",
        "        return normalized_spectrum\n",
        "\n",
        "# ===== RDT ENVIRONMENT =====\n",
        "class RDTEnvironment:\n",
        "    def __init__(self, device, tensor_size=(4,4,4)):\n",
        "        self.device = device\n",
        "        self.tensor_size = tensor_size\n",
        "        self.tensor = DynamicTensor(size=self.tensor_size).to(device)\n",
        "        self.kernel = ConsciousnessKernel(target_spectrum_size=self.tensor_size[-1]).to(device) # Spectrum size matches last dim of tensor\n",
        "\n",
        "        self.time = 0\n",
        "        self.max_time = MAX_TIME_STEPS_PER_EPISODE\n",
        "        self.episode_count = 0\n",
        "        self.prev_action = None\n",
        "\n",
        "    def step(self, action):\n",
        "        action = action.squeeze()\n",
        "\n",
        "        # Action processing with momentum\n",
        "        momentum_factor = 0.9\n",
        "        if self.prev_action is not None:\n",
        "            action = momentum_factor * self.prev_action + (1 - momentum_factor) * action\n",
        "        self.prev_action = action.detach().clone()\n",
        "\n",
        "        # Scale actions. The agent's exploration policy determines magnitude\n",
        "        scaled_action = action * 0.1 # A small fixed scaling for now, agent learns magnitude\n",
        "\n",
        "        # Update entanglement and chaoticity (driven by agent's exploration action)\n",
        "        new_entanglement_level = self.tensor.get_entanglement_level() + scaled_action[0]\n",
        "        new_chaoticity_index = self.tensor.get_chaoticity_index() + scaled_action[1]\n",
        "        self.tensor.set_entanglement_level(new_entanglement_level)\n",
        "        self.tensor.set_chaoticity_index(new_chaoticity_index)\n",
        "\n",
        "        current_tensor_data = self.tensor.get_current_tensor_data()\n",
        "        current_entanglement_level = self.tensor.get_entanglement_level()\n",
        "        current_chaoticity_index = self.tensor.get_chaoticity_index()\n",
        "\n",
        "        # Evolve the tensor (5D substrate)\n",
        "        evolved_tensor_data = self.tensor(\n",
        "            current_tensor_data,\n",
        "            current_entanglement_level,\n",
        "            current_chaoticity_index\n",
        "        )\n",
        "        self.tensor.set_current_tensor_data(evolved_tensor_data)\n",
        "\n",
        "        # Project to consciousness spectrum (4D observation)\n",
        "        projected_spectrum = self.kernel(\n",
        "            self.tensor.get_current_tensor_data(),\n",
        "            self.tensor.get_entanglement_level()\n",
        "        )\n",
        "\n",
        "        # \"Pseudo-Reward\" or \"Information Gain Signal\" for the agent's salience predictor\n",
        "        # This encourages the agent to explore and engage with complex, coherent states.\n",
        "        metrics = self.tensor.metrics()\n",
        "\n",
        "        pseudo_reward = (\n",
        "            metrics['complexity'] * 0.05 +          # Encourage high complexity\n",
        "            metrics['phase_coherence'] * 0.1 +       # Encourage coherent patterns\n",
        "            metrics['fractal_dimension'] * 0.02 -    # Encourage structured complexity, not just chaos\n",
        "            metrics['entropy'] * 0.01                # Small penalty for pure randomness\n",
        "        )\n",
        "        pseudo_reward = torch.tensor(pseudo_reward, device=self.device, dtype=torch.float32)\n",
        "\n",
        "        # Construct the new observation state for the agent\n",
        "        tensor_metrics_tensor = torch.tensor([\n",
        "            metrics['entropy'], metrics['entanglement_value'], metrics['chaoticity_value'],\n",
        "            metrics['variance'], metrics['complexity'], metrics['fractal_dimension'],\n",
        "            metrics['phase_coherence']\n",
        "        ], device=self.device, dtype=torch.float32)\n",
        "\n",
        "        # Combine spectrum, tensor metrics, and agent-controlled parameters (entanglement, chaoticity)\n",
        "        new_state = torch.cat([\n",
        "            projected_spectrum,\n",
        "            tensor_metrics_tensor,\n",
        "            current_entanglement_level.unsqueeze(0),\n",
        "            current_chaoticity_index.unsqueeze(0)\n",
        "        ]).detach()\n",
        "\n",
        "        self.time += 1\n",
        "        done = self.time >= self.max_time\n",
        "\n",
        "        return new_state, pseudo_reward, done, metrics, projected_spectrum\n",
        "\n",
        "    def reset(self):\n",
        "        self.tensor.reset()\n",
        "        self.time = 0\n",
        "        self.episode_count += 1\n",
        "        self.prev_action = None\n",
        "\n",
        "        # Generate initial state for the agent\n",
        "        initial_metrics = self.tensor.metrics()\n",
        "        initial_projected_spectrum = self.kernel(\n",
        "            self.tensor.get_current_tensor_data(),\n",
        "            self.tensor.get_entanglement_level()\n",
        "        )\n",
        "        initial_state = torch.cat([\n",
        "            initial_projected_spectrum,\n",
        "            torch.tensor([\n",
        "                initial_metrics['entropy'], initial_metrics['entanglement_value'], initial_metrics['chaoticity_value'],\n",
        "                initial_metrics['variance'], initial_metrics['complexity'], initial_metrics['fractal_dimension'],\n",
        "                initial_metrics['phase_coherence']\n",
        "            ], device=self.device, dtype=torch.float32),\n",
        "            self.tensor.get_entanglement_level().unsqueeze(0),\n",
        "            self.tensor.get_chaoticity_index().unsqueeze(0)\n",
        "        ]).detach()\n",
        "        return initial_state\n",
        "\n",
        "# ===== MAIN SIMULATION LOOP =====\n",
        "if __name__ == \"__main__\":\n",
        "    # Determine dynamic tensor size and corresponding state_dim for agent\n",
        "    TENSOR_INITIAL_SIZE = (4, 4, 4) # Example 3D tensor\n",
        "    STATE_DIM_FOR_AGENT = TENSOR_INITIAL_SIZE[-1] + 7 + 2 # Spectrum size + 7 tensor metrics + 2 agent-controlled params\n",
        "\n",
        "    agent = RCSAgent(STATE_DIM_FOR_AGENT, action_dim=2).to(device)\n",
        "    env = RDTEnvironment(device, tensor_size=TENSOR_INITIAL_SIZE)\n",
        "\n",
        "    # Optimizer for the agent's learnable parameters\n",
        "    # We are primarily optimizing the salience predictor's ability to model \"interestingness\"\n",
        "    # and the exploration policy to generate useful probes.\n",
        "    optimizer = torch.optim.Adam(agent.parameters(), lr=LEARNING_RATE)\n",
        "\n",
        "    # Data collection for analysis\n",
        "    all_metrics_history = [] # Stores all detailed metrics for each step\n",
        "    all_state_embeddings = [] # For UMAP\n",
        "    all_why_metrics = [] # For UMAP labels and time series\n",
        "\n",
        "    print(f\"Starting RDT Simulation on device: {device}\")\n",
        "    print(f\"Tensor size: {TENSOR_INITIAL_SIZE}, Agent state_dim: {STATE_DIM_FOR_AGENT}\")\n",
        "\n",
        "    for episode in tqdm(range(NUM_EPISODES), desc=\"Episodes\"):\n",
        "        initial_state = env.reset()\n",
        "        agent.reset_why_state() # Reset why_processor internal states for each episode\n",
        "\n",
        "        # Initialize state sequence buffer for the start of the episode\n",
        "        # Fill with initial state\n",
        "        state_sequence_buffer = [initial_state.clone()] * SEQUENCE_LENGTH\n",
        "\n",
        "        episode_why_metrics = []\n",
        "        episode_inconsistency_scores = []\n",
        "        episode_salience_predictions = []\n",
        "        episode_pseudo_rewards = []\n",
        "\n",
        "        for t in range(MAX_TIME_STEPS_PER_EPISODE):\n",
        "            current_state_sequence = torch.stack(state_sequence_buffer[-SEQUENCE_LENGTH:]).unsqueeze(0) # Batch size 1\n",
        "\n",
        "            # Agent processes\n",
        "            exploration_action, salience_pred, state_embedding, inconsistency_score, why_metric = agent(current_state_sequence)\n",
        "\n",
        "            # Environment steps\n",
        "            new_state, pseudo_reward, done, tensor_metrics, projected_spectrum = env.step(exploration_action.squeeze(0)) # Squeeze action for env\n",
        "\n",
        "            # Store data for analysis\n",
        "            all_state_embeddings.append(state_embedding.squeeze(0).detach().cpu().numpy())\n",
        "            all_why_metrics.append(why_metric.squeeze().item())\n",
        "\n",
        "            episode_why_metrics.append(why_metric.squeeze().item())\n",
        "            episode_inconsistency_scores.append(inconsistency_score.squeeze().item())\n",
        "            episode_salience_predictions.append(salience_pred.squeeze().item())\n",
        "            episode_pseudo_rewards.append(pseudo_reward.item())\n",
        "\n",
        "            # Store all detailed metrics for this step\n",
        "            all_metrics_history.append({\n",
        "                'episode': episode,\n",
        "                'time_step': t,\n",
        "                'inconsistency_score': inconsistency_score.squeeze().item(),\n",
        "                'why_metric': why_metric.squeeze().item(),\n",
        "                'salience_predicted': salience_pred.squeeze().item(),\n",
        "                'pseudo_reward_env': pseudo_reward.item(),\n",
        "                'entanglement_level': env.tensor.get_entanglement_level().item(),\n",
        "                'chaoticity_index': env.tensor.get_chaoticity_index().item(),\n",
        "                'tensor_complexity': tensor_metrics['complexity'],\n",
        "                'tensor_phase_coherence': tensor_metrics['phase_coherence'],\n",
        "                'tensor_fractal_dimension': tensor_metrics['fractal_dimension'],\n",
        "                'tensor_entropy': tensor_metrics['entropy'],\n",
        "                'tensor_variance': tensor_metrics['variance']\n",
        "            })\n",
        "\n",
        "            # --- Agent Internal Adaptation / \"Learning\" ---\n",
        "            # The 'loss' is for training the salience predictor to better estimate the environment's pseudo_reward.\n",
        "            # This implicitly trains the agent to seek out \"interesting\" states.\n",
        "            salience_loss = F.mse_loss(salience_pred.squeeze(), pseudo_reward)\n",
        "\n",
        "            # Backpropagation and optimization\n",
        "            optimizer.zero_grad()\n",
        "            salience_loss.backward(retain_graph=False) # No need to retain graph if only one loss\n",
        "\n",
        "            # Apply adaptation rate to gradients\n",
        "            # This allows the agent to control its own learning speed based on internal state\n",
        "            for param_group in optimizer.param_groups:\n",
        "                for p in param_group['params']:\n",
        "                    if p.grad is not None:\n",
        "                        p.grad.data.mul_(agent.adaptation_rate)\n",
        "\n",
        "            optimizer.step()\n",
        "\n",
        "            # Update state sequence buffer for next step\n",
        "            state_sequence_buffer.append(new_state.clone())\n",
        "            if len(state_sequence_buffer) > SEQUENCE_LENGTH:\n",
        "                state_sequence_buffer.pop(0)\n",
        "\n",
        "            if done:\n",
        "                break\n",
        "\n",
        "        # Episode summary\n",
        "        avg_why_episode = np.mean(episode_why_metrics)\n",
        "        avg_inconsistency_episode = np.mean(episode_inconsistency_scores)\n",
        "        tqdm.write(f\"Episode {episode+1}/{NUM_EPISODES} | \"\n",
        "                   f\"Avg Why: {avg_why_episode:.4f} | \"\n",
        "                   f\"Avg Inconsistency: {avg_inconsistency_episode:.4f} | \"\n",
        "                   f\"Last Entanglement: {env.tensor.get_entanglement_level().item():.3f} | \"\n",
        "                   f\"Last Chaoticity: {env.tensor.get_chaoticity_index().item():.3f}\")\n",
        "\n",
        "    print(\"\\nSimulation complete. Generating plots and saving results...\")\n",
        "\n",
        "    # ===== POST-SIMULATION ANALYSIS & PLOTTING =====\n",
        "\n",
        "    # Save all detailed metrics to JSON\n",
        "    results_json_path = os.path.join(results_dir, \"simulation_metrics_history.json\")\n",
        "    with open(results_json_path, \"w\") as f:\n",
        "        json.dump(all_metrics_history, f, indent=4)\n",
        "    print(f\"Detailed metrics saved to {results_json_path}\")\n",
        "\n",
        "    # Plot time series of key metrics\n",
        "    plot_metrics_over_time(all_metrics_history, 'why_metric', 'Why Metric Over Time', 'why_metric_time_series.png')\n",
        "    plot_metrics_over_time(all_metrics_history, 'inconsistency_score', 'Inconsistency Score Over Time', 'inconsistency_score_time_series.png')\n",
        "    plot_metrics_over_time(all_metrics_history, 'salience_predicted', 'Salience Predicted by Agent Over Time', 'salience_predicted_time_series.png')\n",
        "    plot_metrics_over_time(all_metrics_history, 'pseudo_reward_env', 'Environmental Pseudo-Reward Over Time', 'pseudo_reward_env_time_series.png')\n",
        "    plot_metrics_over_time(all_metrics_history, 'entanglement_level', 'Entanglement Level Over Time (Controlled by Agent)', 'entanglement_level_time_series.png')\n",
        "    plot_metrics_over_time(all_metrics_history, 'chaoticity_index', 'Chaoticity Index Over Time (Controlled by Agent)', 'chaoticity_index_time_series.png')\n",
        "    plot_metrics_over_time(all_metrics_history, 'tensor_complexity', 'Tensor Complexity Over Time', 'tensor_complexity_time_series.png')\n",
        "    plot_metrics_over_time(all_metrics_history, 'tensor_phase_coherence', 'Tensor Phase Coherence Over Time', 'tensor_phase_coherence_time_series.png')\n",
        "\n",
        "    # UMAP plotting for state embeddings\n",
        "    plot_umap_embeddings(all_state_embeddings, all_why_metrics, 'UMAP of Agent State Embeddings (Colored by Why Metric)', 'umap_state_embeddings_why.png')\n",
        "\n",
        "    # Optional: UMAP on why_processor hidden states if desired for deeper analysis\n",
        "    # Need to collect these explicitly in the loop if you want to plot them\n",
        "\n",
        "    print(f\"Plots saved to {os.path.join(results_dir, 'plots')}\")\n",
        "    print(\"Simulation finished. Analyze the results to look for patterns of recursive breach!\")"
      ]
    }
  ]
}